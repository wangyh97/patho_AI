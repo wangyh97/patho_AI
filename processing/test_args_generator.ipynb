{
 "cells": [
  {
   "cell_type": "code",
   "execution_count": 1,
   "id": "3ba95332-1e25-4eb4-8189-361e0aedbd33",
   "metadata": {},
   "outputs": [],
   "source": [
    "import numpy as np\n",
    "import pandas as pd\n",
    "from itertools import product"
   ]
  },
  {
   "cell_type": "markdown",
   "id": "6aaa08d4-fa4b-4581-8ddb-7603cecb87f2",
   "metadata": {},
   "source": [
    "# function"
   ]
  },
  {
   "cell_type": "code",
   "execution_count": 96,
   "id": "9379d6c0-b2c8-41b3-8a32-7f9824938393",
   "metadata": {},
   "outputs": [],
   "source": [
    "def args_generator(lr_range_ls,wd_range_ls,steps:str=False,steps_lr=10,steps_wd=10,mode:str='linspace'):\n",
    "    '''\n",
    "    args:\n",
    "        lr_range_ls:list of tuples, every tuple is constructed in form of (lr_start,lr_end)\n",
    "        wd_range_ls:list of tuples, in form that is similar to lr_range_ls\n",
    "        steps: steps in linspace/logspace when generating seq of lr/wd,if assigned, steps_lr & steps_wd will be assigned the same as steps\n",
    "    '''\n",
    "    lr_ls = []\n",
    "    wd_ls = []\n",
    "    if steps:\n",
    "        steps_lr = steps\n",
    "        steps_wd = steps\n",
    "    assert mode in ['linspace','logspace'], 'wrong space searching strategy,should be choose from [linspace,logspace]'\n",
    "    if mode == 'linspace':\n",
    "        for lr_range in lr_range_ls:\n",
    "            lr_ls += np.linspace(lr_range[0],lr_range[1],steps_lr,endpoint=False).tolist()\n",
    "        for wd_range in wd_range_ls:\n",
    "            wd_ls += np.linspace(wd_range[0],wd_range[1],steps_wd,endpoint=False).tolist()\n",
    "    else:\n",
    "        for lr_range in lr_range_ls:\n",
    "            lr_ls += np.logspace(lr_range[0],lr_range[1],steps_lr,endpoint=False).tolist()\n",
    "        for wd_range in wd_range_ls:\n",
    "            wd_ls += np.logspace(wd_range[0],wd_range[1],steps_wd,endpoint=False).tolist()\n",
    "    hyperparameter_combs = [i for i in product(lr_ls,wd_ls)]\n",
    "    return hyperparameter_combs\n",
    "\n",
    "# need to be changed based on function: bash_file_generator_PtRes, or be combined into one and use an arg to switch\n",
    "# only serve for generation of trial 1-3\n",
    "def bash_file_generator(hyperparameter_combs,run,total_gpu=4,gpu_count=4):\n",
    "    '''\n",
    "    args:\n",
    "        total_gpu: total gpu number you own, [8]\n",
    "        gpu count: gpu number on single server, [4]\n",
    "    command saving path:\n",
    "        ./mil classifier/hyperparam_select_batch_{run}/hyperparam_select_batch_{run}_{i+1}.sh\n",
    "    '''\n",
    "    string = {}\n",
    "    count = 1\n",
    "    N = len(hyperparameter_combs)\n",
    "    print(f'{N} hypermarameter combinations in total')\n",
    "    \n",
    "    #path operation\n",
    "    out_saving_dir = f'../out/5_classifier/hyperparam_select_batch{run}'\n",
    "    if not os.path.exists(out_saving_dir):\n",
    "        os.makedirs(out_saving_dir) \n",
    "    sh_saving_dir = f'./mil classifier/hyperparam_select_batch_{run}'\n",
    "    if not os.path.exists(sh_saving_dir):\n",
    "        os.makedirs(sh_saving_dir)\n",
    "        \n",
    "    for i in range(total_gpu):\n",
    "        string[f'block{i+1}'] = ''\n",
    "    for id,i in enumerate(hyperparameter_combs):\n",
    "        \n",
    "        sh_saving_dir = f'../../out/5_classifier/hyperparam_select_batch{run}'\n",
    "        if not os.path.exists(sh_saving_dir):\n",
    "            os.makedirs(sh_saving_dir)\n",
    "        \n",
    "        string[f'block{count}'] += f'nohup python train_tcga.py --lr {i[0]} --weight_decay {i[1]} --gpu_index {count%gpu_count} --run {run} > ../../out/5_classifier/hyperparam_select_batch{run}/train_tcga_{id}.out \\n'\n",
    "        if (id+1)%(N/total_gpu) == 0:\n",
    "            count +=1\n",
    "    for i in range(total_gpu):\n",
    "        with open(f'./mil classifier/hyperparam_select_batch_{run}/hyperparam_select_batch_{run}_{i+1}.sh','w') as f:\n",
    "            f.write(string[f'block{i+1}'])\n",
    "    print('file generated')\n",
    "    \n",
    "import os\n",
    "def bash_file_generator_PtRes(hyperparameter_combs,run,total_gpu=4,gpu_count=4):\n",
    "    '''\n",
    "    same as above, use train_PtRes which read from pretrained Resnet18 extracted feature，with complete API\n",
    "    upgrade:\n",
    "        folding out_files & sh files of one batch:\n",
    "            out_file_saving_dir: /out/5_classifier/hyperparam_select_batch{run}\n",
    "            sh_file_saving_dir: /processing/mil classifier/hyperparam_select_batch{run}\n",
    "        self_detecting if the saving files exists,makedir if not\n",
    "    '''\n",
    "    string = {}\n",
    "    count = 1\n",
    "    N = len(hyperparameter_combs)\n",
    "    print(f'{N} hypermarameter combinations in total,run with pretrained Resnet18 extracted features')\n",
    "    for i in range(total_gpu):\n",
    "        string[f'block{i+1}'] = ''\n",
    "        \n",
    "    #path detection    \n",
    "    out_saving_dir = f'../out/5_classifier/hyperparam_select_batch{run}'\n",
    "    if not os.path.exists(out_saving_dir):\n",
    "        os.makedirs(out_saving_dir) \n",
    "    sh_saving_dir = f'./mil classifier/hyperparam_select_batch_{run}'\n",
    "    if not os.path.exists(sh_saving_dir):\n",
    "        os.makedirs(sh_saving_dir)\n",
    "        \n",
    "    for id,i in enumerate(hyperparameter_combs):\n",
    "        string[f'block{count}'] += f'nohup python ../train_PtRes.py --lr {i[0]} --weight_decay {i[1]} --gpu_index {count%gpu_count} --run {run} > ../../../out/5_classifier/hyperparam_select_batch{run}/train_tcga_{id}.out \\n'\n",
    "        if (id+1)%(N/total_gpu) == 0:\n",
    "            count +=1\n",
    "    for i in range(total_gpu):\n",
    "        with open(f'./mil classifier/hyperparam_select_batch_{run}/hyperparam_select_batch_{run}_{i+1}.sh','w') as f:\n",
    "            f.write(string[f'block{i+1}'])\n",
    "    print('file generated')"
   ]
  },
  {
   "cell_type": "markdown",
   "id": "d2e5bf34-4b8c-4851-a811-346cc0f3b624",
   "metadata": {},
   "source": [
    "# args generation for 1st trial"
   ]
  },
  {
   "cell_type": "code",
   "execution_count": 2,
   "id": "8524ad24-647b-4480-a817-d6fc4ee1ecf6",
   "metadata": {},
   "outputs": [],
   "source": [
    "ls_lr = np.linspace(1e-4,1e-3,10,endpoint=False).tolist() + np.linspace(1e-5,1e-4,10,endpoint=False).tolist()\n",
    "ls_weight_decay = np.linspace(1e-5,1e-4,10,endpoint=False).tolist() + np.linspace(1e-7,1e-6,10,endpoint=False).tolist() + np.linspace(1e-6,1e-5,10,endpoint=False).tolist()\n",
    "ls_Tmax = [50,100,200]"
   ]
  },
  {
   "cell_type": "code",
   "execution_count": 3,
   "id": "ac3bf4d5-42b6-407e-a0de-ea3c6c82fa5f",
   "metadata": {},
   "outputs": [
    {
     "data": {
      "text/plain": [
       "1800"
      ]
     },
     "execution_count": 3,
     "metadata": {},
     "output_type": "execute_result"
    }
   ],
   "source": [
    "hp_comb = [i for i in product(ls_lr,ls_weight_decay,ls_Tmax)]\n",
    "len(hp_comb)"
   ]
  },
  {
   "cell_type": "code",
   "execution_count": 7,
   "id": "4c3c0a12-8852-427e-93c3-e8e55c064e97",
   "metadata": {},
   "outputs": [],
   "source": [
    "string = {}\n",
    "count = 1\n",
    "for i in range(12):\n",
    "    string[f'block{i+1}'] = ''\n",
    "for id,i in enumerate(hp_comb):\n",
    "    string[f'block{count}'] += f'nohup python train_tcga.py --lr {i[0]} --weight_decay {i[1]} --Tmax {i[2]} --gpu_index {count%4} > ../../out/5_classifier/hyperparam_select/train_tcga_{id}.out \\n'\n",
    "    if (id+1)%150 == 0:\n",
    "        count +=1"
   ]
  },
  {
   "cell_type": "code",
   "execution_count": 9,
   "id": "96efe6a2-4c6a-4d80-8f55-2df7bf06f6d7",
   "metadata": {},
   "outputs": [],
   "source": [
    "for i in range(12):\n",
    "    with open(f'./mil classifier/hyperparam_select_{i+1}.sh','w') as f:\n",
    "        f.write(string[f'block{i+1}'])"
   ]
  },
  {
   "cell_type": "code",
   "execution_count": null,
   "id": "a15087d8-4fca-4862-bf98-e77d330c9306",
   "metadata": {},
   "outputs": [],
   "source": [
    "# with open('./mil classifier/hyperparam_select.sh','w') as f:\n",
    "#     f.write(str)"
   ]
  },
  {
   "cell_type": "code",
   "execution_count": null,
   "id": "c292cbb4-b7b2-46fd-be9d-a9834ab5fc0e",
   "metadata": {},
   "outputs": [],
   "source": [
    "grouping = np.load('/home/wangyh/uro_biomarker/patho_AI/config/data_segmentation_csv/10X_grouping.npy',allow_pickle=True).item()"
   ]
  },
  {
   "cell_type": "code",
   "execution_count": 33,
   "id": "25d9ff3b-c63c-4a32-90b4-403b22fe5d89",
   "metadata": {},
   "outputs": [
    {
     "data": {
      "text/html": [
       "<div>\n",
       "<style scoped>\n",
       "    .dataframe tbody tr th:only-of-type {\n",
       "        vertical-align: middle;\n",
       "    }\n",
       "\n",
       "    .dataframe tbody tr th {\n",
       "        vertical-align: top;\n",
       "    }\n",
       "\n",
       "    .dataframe thead th {\n",
       "        text-align: right;\n",
       "    }\n",
       "</style>\n",
       "<table border=\"1\" class=\"dataframe\">\n",
       "  <thead>\n",
       "    <tr style=\"text-align: right;\">\n",
       "      <th></th>\n",
       "      <th>dir_uuid</th>\n",
       "      <th>TMB_H/L</th>\n",
       "      <th>10x</th>\n",
       "      <th>path</th>\n",
       "      <th>img_list</th>\n",
       "    </tr>\n",
       "  </thead>\n",
       "  <tbody>\n",
       "    <tr>\n",
       "      <th>1</th>\n",
       "      <td>bff29d20-3a8f-4a5d-a2de-0e142390551d</td>\n",
       "      <td>L</td>\n",
       "      <td>1067</td>\n",
       "      <td>/mnt/wangyh/CN_patches/L/bff29d20-3a8f-4a5d-a2...</td>\n",
       "      <td>[/mnt/wangyh/CN_patches/L/bff29d20-3a8f-4a5d-a...</td>\n",
       "    </tr>\n",
       "    <tr>\n",
       "      <th>2</th>\n",
       "      <td>edcf4ae6-c985-40ad-aff4-a0ce31b46aeb</td>\n",
       "      <td>L</td>\n",
       "      <td>951</td>\n",
       "      <td>/mnt/wangyh/CN_patches/L/edcf4ae6-c985-40ad-af...</td>\n",
       "      <td>[/mnt/wangyh/CN_patches/L/edcf4ae6-c985-40ad-a...</td>\n",
       "    </tr>\n",
       "    <tr>\n",
       "      <th>3</th>\n",
       "      <td>e20c2176-2b57-4cc9-a68a-eb6933bf60b1</td>\n",
       "      <td>L</td>\n",
       "      <td>6</td>\n",
       "      <td>/mnt/wangyh/CN_patches/L/e20c2176-2b57-4cc9-a6...</td>\n",
       "      <td>[/mnt/wangyh/CN_patches/L/e20c2176-2b57-4cc9-a...</td>\n",
       "    </tr>\n",
       "    <tr>\n",
       "      <th>5</th>\n",
       "      <td>70e383bf-91cb-4a65-b12a-950f365c4d62</td>\n",
       "      <td>L</td>\n",
       "      <td>389</td>\n",
       "      <td>/mnt/wangyh/CN_patches/L/70e383bf-91cb-4a65-b1...</td>\n",
       "      <td>[/mnt/wangyh/CN_patches/L/70e383bf-91cb-4a65-b...</td>\n",
       "    </tr>\n",
       "    <tr>\n",
       "      <th>7</th>\n",
       "      <td>741d4359-8615-4783-98ab-0f04bb10c52c</td>\n",
       "      <td>L</td>\n",
       "      <td>319</td>\n",
       "      <td>/mnt/wangyh/CN_patches/L/741d4359-8615-4783-98...</td>\n",
       "      <td>[/mnt/wangyh/CN_patches/L/741d4359-8615-4783-9...</td>\n",
       "    </tr>\n",
       "    <tr>\n",
       "      <th>...</th>\n",
       "      <td>...</td>\n",
       "      <td>...</td>\n",
       "      <td>...</td>\n",
       "      <td>...</td>\n",
       "      <td>...</td>\n",
       "    </tr>\n",
       "    <tr>\n",
       "      <th>365</th>\n",
       "      <td>350cb3f7-a92b-412f-b285-22bf818c5156</td>\n",
       "      <td>L</td>\n",
       "      <td>459</td>\n",
       "      <td>/mnt/wangyh/CN_patches/L/350cb3f7-a92b-412f-b2...</td>\n",
       "      <td>[/mnt/wangyh/CN_patches/L/350cb3f7-a92b-412f-b...</td>\n",
       "    </tr>\n",
       "    <tr>\n",
       "      <th>367</th>\n",
       "      <td>5dd71f48-ba3e-46e4-b1d6-164722a3e06a</td>\n",
       "      <td>L</td>\n",
       "      <td>150</td>\n",
       "      <td>/mnt/wangyh/CN_patches/L/5dd71f48-ba3e-46e4-b1...</td>\n",
       "      <td>[/mnt/wangyh/CN_patches/L/5dd71f48-ba3e-46e4-b...</td>\n",
       "    </tr>\n",
       "    <tr>\n",
       "      <th>372</th>\n",
       "      <td>613f9ee2-07d2-4ec7-98b5-335e3eb164cd</td>\n",
       "      <td>H</td>\n",
       "      <td>141</td>\n",
       "      <td>/mnt/wangyh/CN_patches/H/613f9ee2-07d2-4ec7-98...</td>\n",
       "      <td>[/mnt/wangyh/CN_patches/H/613f9ee2-07d2-4ec7-9...</td>\n",
       "    </tr>\n",
       "    <tr>\n",
       "      <th>373</th>\n",
       "      <td>4d2d1928-abac-4604-becc-d73dac15bfed</td>\n",
       "      <td>H</td>\n",
       "      <td>88</td>\n",
       "      <td>/mnt/wangyh/CN_patches/H/4d2d1928-abac-4604-be...</td>\n",
       "      <td>[/mnt/wangyh/CN_patches/H/4d2d1928-abac-4604-b...</td>\n",
       "    </tr>\n",
       "    <tr>\n",
       "      <th>379</th>\n",
       "      <td>f7db97bf-bcb4-4383-afe2-36f549a0bdf0</td>\n",
       "      <td>L</td>\n",
       "      <td>504</td>\n",
       "      <td>/mnt/wangyh/CN_patches/L/f7db97bf-bcb4-4383-af...</td>\n",
       "      <td>[/mnt/wangyh/CN_patches/L/f7db97bf-bcb4-4383-a...</td>\n",
       "    </tr>\n",
       "  </tbody>\n",
       "</table>\n",
       "<p>232 rows × 5 columns</p>\n",
       "</div>"
      ],
      "text/plain": [
       "                                 dir_uuid TMB_H/L   10x  \\\n",
       "1    bff29d20-3a8f-4a5d-a2de-0e142390551d       L  1067   \n",
       "2    edcf4ae6-c985-40ad-aff4-a0ce31b46aeb       L   951   \n",
       "3    e20c2176-2b57-4cc9-a68a-eb6933bf60b1       L     6   \n",
       "5    70e383bf-91cb-4a65-b12a-950f365c4d62       L   389   \n",
       "7    741d4359-8615-4783-98ab-0f04bb10c52c       L   319   \n",
       "..                                    ...     ...   ...   \n",
       "365  350cb3f7-a92b-412f-b285-22bf818c5156       L   459   \n",
       "367  5dd71f48-ba3e-46e4-b1d6-164722a3e06a       L   150   \n",
       "372  613f9ee2-07d2-4ec7-98b5-335e3eb164cd       H   141   \n",
       "373  4d2d1928-abac-4604-becc-d73dac15bfed       H    88   \n",
       "379  f7db97bf-bcb4-4383-afe2-36f549a0bdf0       L   504   \n",
       "\n",
       "                                                  path  \\\n",
       "1    /mnt/wangyh/CN_patches/L/bff29d20-3a8f-4a5d-a2...   \n",
       "2    /mnt/wangyh/CN_patches/L/edcf4ae6-c985-40ad-af...   \n",
       "3    /mnt/wangyh/CN_patches/L/e20c2176-2b57-4cc9-a6...   \n",
       "5    /mnt/wangyh/CN_patches/L/70e383bf-91cb-4a65-b1...   \n",
       "7    /mnt/wangyh/CN_patches/L/741d4359-8615-4783-98...   \n",
       "..                                                 ...   \n",
       "365  /mnt/wangyh/CN_patches/L/350cb3f7-a92b-412f-b2...   \n",
       "367  /mnt/wangyh/CN_patches/L/5dd71f48-ba3e-46e4-b1...   \n",
       "372  /mnt/wangyh/CN_patches/H/613f9ee2-07d2-4ec7-98...   \n",
       "373  /mnt/wangyh/CN_patches/H/4d2d1928-abac-4604-be...   \n",
       "379  /mnt/wangyh/CN_patches/L/f7db97bf-bcb4-4383-af...   \n",
       "\n",
       "                                              img_list  \n",
       "1    [/mnt/wangyh/CN_patches/L/bff29d20-3a8f-4a5d-a...  \n",
       "2    [/mnt/wangyh/CN_patches/L/edcf4ae6-c985-40ad-a...  \n",
       "3    [/mnt/wangyh/CN_patches/L/e20c2176-2b57-4cc9-a...  \n",
       "5    [/mnt/wangyh/CN_patches/L/70e383bf-91cb-4a65-b...  \n",
       "7    [/mnt/wangyh/CN_patches/L/741d4359-8615-4783-9...  \n",
       "..                                                 ...  \n",
       "365  [/mnt/wangyh/CN_patches/L/350cb3f7-a92b-412f-b...  \n",
       "367  [/mnt/wangyh/CN_patches/L/5dd71f48-ba3e-46e4-b...  \n",
       "372  [/mnt/wangyh/CN_patches/H/613f9ee2-07d2-4ec7-9...  \n",
       "373  [/mnt/wangyh/CN_patches/H/4d2d1928-abac-4604-b...  \n",
       "379  [/mnt/wangyh/CN_patches/L/f7db97bf-bcb4-4383-a...  \n",
       "\n",
       "[232 rows x 5 columns]"
      ]
     },
     "execution_count": 33,
     "metadata": {},
     "output_type": "execute_result"
    }
   ],
   "source": [
    "grouping['train_list']"
   ]
  },
  {
   "cell_type": "code",
   "execution_count": 35,
   "id": "daecfac2-6a8f-4ec5-bfbc-cfcab5362f46",
   "metadata": {},
   "outputs": [
    {
     "data": {
      "text/html": [
       "<div>\n",
       "<style scoped>\n",
       "    .dataframe tbody tr th:only-of-type {\n",
       "        vertical-align: middle;\n",
       "    }\n",
       "\n",
       "    .dataframe tbody tr th {\n",
       "        vertical-align: top;\n",
       "    }\n",
       "\n",
       "    .dataframe thead th {\n",
       "        text-align: right;\n",
       "    }\n",
       "</style>\n",
       "<table border=\"1\" class=\"dataframe\">\n",
       "  <thead>\n",
       "    <tr style=\"text-align: right;\">\n",
       "      <th></th>\n",
       "      <th>dir_uuid</th>\n",
       "      <th>TMB_H/L</th>\n",
       "      <th>10x</th>\n",
       "      <th>path</th>\n",
       "      <th>img_list</th>\n",
       "    </tr>\n",
       "  </thead>\n",
       "  <tbody>\n",
       "    <tr>\n",
       "      <th>1</th>\n",
       "      <td>bff29d20-3a8f-4a5d-a2de-0e142390551d</td>\n",
       "      <td>L</td>\n",
       "      <td>1067</td>\n",
       "      <td>/mnt/wangyh/CN_patches/L/bff29d20-3a8f-4a5d-a2...</td>\n",
       "      <td>[/mnt/wangyh/CN_patches/L/bff29d20-3a8f-4a5d-a...</td>\n",
       "    </tr>\n",
       "    <tr>\n",
       "      <th>2</th>\n",
       "      <td>edcf4ae6-c985-40ad-aff4-a0ce31b46aeb</td>\n",
       "      <td>L</td>\n",
       "      <td>951</td>\n",
       "      <td>/mnt/wangyh/CN_patches/L/edcf4ae6-c985-40ad-af...</td>\n",
       "      <td>[/mnt/wangyh/CN_patches/L/edcf4ae6-c985-40ad-a...</td>\n",
       "    </tr>\n",
       "    <tr>\n",
       "      <th>3</th>\n",
       "      <td>e20c2176-2b57-4cc9-a68a-eb6933bf60b1</td>\n",
       "      <td>L</td>\n",
       "      <td>6</td>\n",
       "      <td>/mnt/wangyh/CN_patches/L/e20c2176-2b57-4cc9-a6...</td>\n",
       "      <td>[/mnt/wangyh/CN_patches/L/e20c2176-2b57-4cc9-a...</td>\n",
       "    </tr>\n",
       "    <tr>\n",
       "      <th>5</th>\n",
       "      <td>70e383bf-91cb-4a65-b12a-950f365c4d62</td>\n",
       "      <td>L</td>\n",
       "      <td>389</td>\n",
       "      <td>/mnt/wangyh/CN_patches/L/70e383bf-91cb-4a65-b1...</td>\n",
       "      <td>[/mnt/wangyh/CN_patches/L/70e383bf-91cb-4a65-b...</td>\n",
       "    </tr>\n",
       "    <tr>\n",
       "      <th>6</th>\n",
       "      <td>790d96d7-1191-4cf7-9c78-3e879723afd8</td>\n",
       "      <td>L</td>\n",
       "      <td>1193</td>\n",
       "      <td>/mnt/wangyh/CN_patches/L/790d96d7-1191-4cf7-9c...</td>\n",
       "      <td>[/mnt/wangyh/CN_patches/L/790d96d7-1191-4cf7-9...</td>\n",
       "    </tr>\n",
       "    <tr>\n",
       "      <th>...</th>\n",
       "      <td>...</td>\n",
       "      <td>...</td>\n",
       "      <td>...</td>\n",
       "      <td>...</td>\n",
       "      <td>...</td>\n",
       "    </tr>\n",
       "    <tr>\n",
       "      <th>376</th>\n",
       "      <td>6d94e519-6dea-42d0-a505-f36ab27f2f3f</td>\n",
       "      <td>L</td>\n",
       "      <td>583</td>\n",
       "      <td>/mnt/wangyh/CN_patches/L/6d94e519-6dea-42d0-a5...</td>\n",
       "      <td>[/mnt/wangyh/CN_patches/L/6d94e519-6dea-42d0-a...</td>\n",
       "    </tr>\n",
       "    <tr>\n",
       "      <th>377</th>\n",
       "      <td>16c68e40-fc90-495a-b856-fe1f11f82143</td>\n",
       "      <td>L</td>\n",
       "      <td>169</td>\n",
       "      <td>/mnt/wangyh/CN_patches/L/16c68e40-fc90-495a-b8...</td>\n",
       "      <td>[/mnt/wangyh/CN_patches/L/16c68e40-fc90-495a-b...</td>\n",
       "    </tr>\n",
       "    <tr>\n",
       "      <th>378</th>\n",
       "      <td>ff7d6bdf-b564-41e0-b3e5-2a649423796b</td>\n",
       "      <td>L</td>\n",
       "      <td>49</td>\n",
       "      <td>/mnt/wangyh/CN_patches/L/ff7d6bdf-b564-41e0-b3...</td>\n",
       "      <td>[/mnt/wangyh/CN_patches/L/ff7d6bdf-b564-41e0-b...</td>\n",
       "    </tr>\n",
       "    <tr>\n",
       "      <th>379</th>\n",
       "      <td>f7db97bf-bcb4-4383-afe2-36f549a0bdf0</td>\n",
       "      <td>L</td>\n",
       "      <td>504</td>\n",
       "      <td>/mnt/wangyh/CN_patches/L/f7db97bf-bcb4-4383-af...</td>\n",
       "      <td>[/mnt/wangyh/CN_patches/L/f7db97bf-bcb4-4383-a...</td>\n",
       "    </tr>\n",
       "    <tr>\n",
       "      <th>380</th>\n",
       "      <td>fa95d06a-b753-4bfd-b890-82bd9ddfd974</td>\n",
       "      <td>L</td>\n",
       "      <td>163</td>\n",
       "      <td>/mnt/wangyh/CN_patches/L/fa95d06a-b753-4bfd-b8...</td>\n",
       "      <td>[/mnt/wangyh/CN_patches/L/fa95d06a-b753-4bfd-b...</td>\n",
       "    </tr>\n",
       "  </tbody>\n",
       "</table>\n",
       "<p>326 rows × 5 columns</p>\n",
       "</div>"
      ],
      "text/plain": [
       "                                 dir_uuid TMB_H/L   10x  \\\n",
       "1    bff29d20-3a8f-4a5d-a2de-0e142390551d       L  1067   \n",
       "2    edcf4ae6-c985-40ad-aff4-a0ce31b46aeb       L   951   \n",
       "3    e20c2176-2b57-4cc9-a68a-eb6933bf60b1       L     6   \n",
       "5    70e383bf-91cb-4a65-b12a-950f365c4d62       L   389   \n",
       "6    790d96d7-1191-4cf7-9c78-3e879723afd8       L  1193   \n",
       "..                                    ...     ...   ...   \n",
       "376  6d94e519-6dea-42d0-a505-f36ab27f2f3f       L   583   \n",
       "377  16c68e40-fc90-495a-b856-fe1f11f82143       L   169   \n",
       "378  ff7d6bdf-b564-41e0-b3e5-2a649423796b       L    49   \n",
       "379  f7db97bf-bcb4-4383-afe2-36f549a0bdf0       L   504   \n",
       "380  fa95d06a-b753-4bfd-b890-82bd9ddfd974       L   163   \n",
       "\n",
       "                                                  path  \\\n",
       "1    /mnt/wangyh/CN_patches/L/bff29d20-3a8f-4a5d-a2...   \n",
       "2    /mnt/wangyh/CN_patches/L/edcf4ae6-c985-40ad-af...   \n",
       "3    /mnt/wangyh/CN_patches/L/e20c2176-2b57-4cc9-a6...   \n",
       "5    /mnt/wangyh/CN_patches/L/70e383bf-91cb-4a65-b1...   \n",
       "6    /mnt/wangyh/CN_patches/L/790d96d7-1191-4cf7-9c...   \n",
       "..                                                 ...   \n",
       "376  /mnt/wangyh/CN_patches/L/6d94e519-6dea-42d0-a5...   \n",
       "377  /mnt/wangyh/CN_patches/L/16c68e40-fc90-495a-b8...   \n",
       "378  /mnt/wangyh/CN_patches/L/ff7d6bdf-b564-41e0-b3...   \n",
       "379  /mnt/wangyh/CN_patches/L/f7db97bf-bcb4-4383-af...   \n",
       "380  /mnt/wangyh/CN_patches/L/fa95d06a-b753-4bfd-b8...   \n",
       "\n",
       "                                              img_list  \n",
       "1    [/mnt/wangyh/CN_patches/L/bff29d20-3a8f-4a5d-a...  \n",
       "2    [/mnt/wangyh/CN_patches/L/edcf4ae6-c985-40ad-a...  \n",
       "3    [/mnt/wangyh/CN_patches/L/e20c2176-2b57-4cc9-a...  \n",
       "5    [/mnt/wangyh/CN_patches/L/70e383bf-91cb-4a65-b...  \n",
       "6    [/mnt/wangyh/CN_patches/L/790d96d7-1191-4cf7-9...  \n",
       "..                                                 ...  \n",
       "376  [/mnt/wangyh/CN_patches/L/6d94e519-6dea-42d0-a...  \n",
       "377  [/mnt/wangyh/CN_patches/L/16c68e40-fc90-495a-b...  \n",
       "378  [/mnt/wangyh/CN_patches/L/ff7d6bdf-b564-41e0-b...  \n",
       "379  [/mnt/wangyh/CN_patches/L/f7db97bf-bcb4-4383-a...  \n",
       "380  [/mnt/wangyh/CN_patches/L/fa95d06a-b753-4bfd-b...  \n",
       "\n",
       "[326 rows x 5 columns]"
      ]
     },
     "execution_count": 35,
     "metadata": {},
     "output_type": "execute_result"
    }
   ],
   "source": [
    "train = np.load('/home/wangyh/uro_biomarker/patho_AI/config/data_segmentation_csv/10X_tv_grouping.npy',allow_pickle=True).item()\n",
    "train['tv_list']"
   ]
  },
  {
   "cell_type": "code",
   "execution_count": 36,
   "id": "ad76832e-ae07-4a65-b565-f1ddfabc83d8",
   "metadata": {},
   "outputs": [
    {
     "data": {
      "text/plain": [
       "{'full_list':      Unnamed: 0                              dir_uuid  Tumor_Sample_ID  \\\n",
       " 0             0  d2e43ec6-5027-4f2c-932b-28a681da7cd9  TCGA-2F-A9KO-01   \n",
       " 1             1  bff29d20-3a8f-4a5d-a2de-0e142390551d  TCGA-2F-A9KP-01   \n",
       " 2             2  edcf4ae6-c985-40ad-aff4-a0ce31b46aeb  TCGA-2F-A9KP-01   \n",
       " 3             3  e20c2176-2b57-4cc9-a68a-eb6933bf60b1  TCGA-2F-A9KQ-01   \n",
       " 4             4  a085fe18-1709-417a-a779-fe69f5964766  TCGA-2F-A9KR-01   \n",
       " ..          ...                                   ...              ...   \n",
       " 376         376  6d94e519-6dea-42d0-a505-f36ab27f2f3f  TCGA-ZF-AA54-01   \n",
       " 377         377  16c68e40-fc90-495a-b856-fe1f11f82143  TCGA-ZF-AA58-01   \n",
       " 378         378  ff7d6bdf-b564-41e0-b3e5-2a649423796b  TCGA-ZF-AA5H-01   \n",
       " 379         379  f7db97bf-bcb4-4383-afe2-36f549a0bdf0  TCGA-ZF-AA5N-01   \n",
       " 380         380  fa95d06a-b753-4bfd-b890-82bd9ddfd974  TCGA-ZF-AA5P-01   \n",
       " \n",
       "     TMB_H/L   5x   10x   20x    40x  \\\n",
       " 0         H   10    53   270   1506   \n",
       " 1         L  265  1067  3980  15832   \n",
       " 2         L  229   951  3610  14405   \n",
       " 3         L    3     6    12     77   \n",
       " 4         L   22   125   638   3347   \n",
       " ..      ...  ...   ...   ...    ...   \n",
       " 376       L  153   583   862    167   \n",
       " 377       L   47   169   661   2740   \n",
       " 378       L   27    49   153    723   \n",
       " 379       L  112   504  2178   9291   \n",
       " 380       L   43   163   641   2660   \n",
       " \n",
       "                                                   path  \\\n",
       " 0    /mnt/wangyh/CN_patches/H/d2e43ec6-5027-4f2c-93...   \n",
       " 1    /mnt/wangyh/CN_patches/L/bff29d20-3a8f-4a5d-a2...   \n",
       " 2    /mnt/wangyh/CN_patches/L/edcf4ae6-c985-40ad-af...   \n",
       " 3    /mnt/wangyh/CN_patches/L/e20c2176-2b57-4cc9-a6...   \n",
       " 4    /mnt/wangyh/CN_patches/L/a085fe18-1709-417a-a7...   \n",
       " ..                                                 ...   \n",
       " 376  /mnt/wangyh/CN_patches/L/6d94e519-6dea-42d0-a5...   \n",
       " 377  /mnt/wangyh/CN_patches/L/16c68e40-fc90-495a-b8...   \n",
       " 378  /mnt/wangyh/CN_patches/L/ff7d6bdf-b564-41e0-b3...   \n",
       " 379  /mnt/wangyh/CN_patches/L/f7db97bf-bcb4-4383-af...   \n",
       " 380  /mnt/wangyh/CN_patches/L/fa95d06a-b753-4bfd-b8...   \n",
       " \n",
       "                                               img_list  \n",
       " 0    [/mnt/wangyh/CN_patches/H/d2e43ec6-5027-4f2c-9...  \n",
       " 1    [/mnt/wangyh/CN_patches/L/bff29d20-3a8f-4a5d-a...  \n",
       " 2    [/mnt/wangyh/CN_patches/L/edcf4ae6-c985-40ad-a...  \n",
       " 3    [/mnt/wangyh/CN_patches/L/e20c2176-2b57-4cc9-a...  \n",
       " 4    [/mnt/wangyh/CN_patches/L/a085fe18-1709-417a-a...  \n",
       " ..                                                 ...  \n",
       " 376  [/mnt/wangyh/CN_patches/L/6d94e519-6dea-42d0-a...  \n",
       " 377  [/mnt/wangyh/CN_patches/L/16c68e40-fc90-495a-b...  \n",
       " 378  [/mnt/wangyh/CN_patches/L/ff7d6bdf-b564-41e0-b...  \n",
       " 379  [/mnt/wangyh/CN_patches/L/f7db97bf-bcb4-4383-a...  \n",
       " 380  [/mnt/wangyh/CN_patches/L/fa95d06a-b753-4bfd-b...  \n",
       " \n",
       " [363 rows x 10 columns]}"
      ]
     },
     "execution_count": 36,
     "metadata": {},
     "output_type": "execute_result"
    }
   ],
   "source": [
    "full = np.load('/home/wangyh/uro_biomarker/patho_AI/config/data_segmentation_csv/10X_full.npy',allow_pickle=True).item()\n",
    "full"
   ]
  },
  {
   "cell_type": "code",
   "execution_count": 3,
   "id": "ec9b62e7-1b58-4777-866e-5714659a5696",
   "metadata": {},
   "outputs": [
    {
     "name": "stdout",
     "output_type": "stream",
     "text": [
      "1800\n"
     ]
    }
   ],
   "source": [
    "# with open('./mil classifier/hyperparam_select.sh') as f:\n",
    "#     lines = f.readlines()\n",
    "#     print(len(lines))"
   ]
  },
  {
   "cell_type": "code",
   "execution_count": 10,
   "id": "76f4a835-31f5-4dfb-8f69-2caeb9604237",
   "metadata": {},
   "outputs": [
    {
     "name": "stdout",
     "output_type": "stream",
     "text": [
      "nohup python train_tcga.py --lr 0.0001 --weight_decay 1e-05 --Tmax 50 --gpu_index 1 > ../../out/5_classifier/hyperparam_select/train_tcga_0.out \n",
      "\n",
      "nohup python train_tcga.py --lr 0.00019 --weight_decay 1e-06 --Tmax 50 --gpu_index 2 > ../../out/5_classifier/hyperparam_select/train_tcga_150.out \n",
      "\n",
      "nohup python train_tcga.py --lr 0.00036999999999999994 --weight_decay 1e-07 --Tmax 50 --gpu_index 3 > ../../out/5_classifier/hyperparam_select/train_tcga_300.out \n",
      "\n",
      "nohup python train_tcga.py --lr 0.00055 --weight_decay 1e-05 --Tmax 50 --gpu_index 0 > ../../out/5_classifier/hyperparam_select/train_tcga_450.out \n",
      "\n",
      "nohup python train_tcga.py --lr 0.0006399999999999999 --weight_decay 1e-06 --Tmax 50 --gpu_index 1 > ../../out/5_classifier/hyperparam_select/train_tcga_600.out \n",
      "\n",
      "nohup python train_tcga.py --lr 0.00082 --weight_decay 1e-07 --Tmax 50 --gpu_index 2 > ../../out/5_classifier/hyperparam_select/train_tcga_750.out \n",
      "\n",
      "nohup python train_tcga.py --lr 1e-05 --weight_decay 1e-05 --Tmax 50 --gpu_index 3 > ../../out/5_classifier/hyperparam_select/train_tcga_900.out \n",
      "\n",
      "nohup python train_tcga.py --lr 1.9e-05 --weight_decay 1e-06 --Tmax 50 --gpu_index 0 > ../../out/5_classifier/hyperparam_select/train_tcga_1050.out \n",
      "\n",
      "nohup python train_tcga.py --lr 3.7e-05 --weight_decay 1e-07 --Tmax 50 --gpu_index 1 > ../../out/5_classifier/hyperparam_select/train_tcga_1200.out \n",
      "\n",
      "nohup python train_tcga.py --lr 5.5e-05 --weight_decay 1e-05 --Tmax 50 --gpu_index 2 > ../../out/5_classifier/hyperparam_select/train_tcga_1350.out \n",
      "\n",
      "nohup python train_tcga.py --lr 6.4e-05 --weight_decay 1e-06 --Tmax 50 --gpu_index 3 > ../../out/5_classifier/hyperparam_select/train_tcga_1500.out \n",
      "\n",
      "nohup python train_tcga.py --lr 8.2e-05 --weight_decay 1e-07 --Tmax 50 --gpu_index 0 > ../../out/5_classifier/hyperparam_select/train_tcga_1650.out \n",
      "\n"
     ]
    }
   ],
   "source": [
    "# for i in range(12):\n",
    "#     with open(f'./mil classifier/hyperparam_select_{i+1}.sh') as f:\n",
    "#         print(f.readline())"
   ]
  },
  {
   "cell_type": "markdown",
   "id": "6ffaf0aa-0664-4c1c-98a3-a498e13d4d11",
   "metadata": {},
   "source": [
    "# args for 2nd trial"
   ]
  },
  {
   "cell_type": "code",
   "execution_count": 25,
   "id": "a68d44c0-b676-408a-9f9c-845940a7819d",
   "metadata": {},
   "outputs": [],
   "source": [
    "def batch2():\n",
    "    lr_range_ls = [(6.4e-5,8.2e-5),(1e-4,2.8e-4),(4.5e-4,6.3e-4),(1e-3,1e-2)]\n",
    "    wd_range_ls = [(1e-7,4.6e-7),(2.8e-6,6.4e-6),(8.2e-6,1e-5)]\n",
    "    hyperparameter_combs = args_generator(lr_range_ls,wd_range_ls)\n",
    "    bash_file_generator(hyperparameter_combs,2)"
   ]
  },
  {
   "cell_type": "code",
   "execution_count": 26,
   "id": "99d0321c-597f-4e3c-8ff2-d6a4c287af42",
   "metadata": {},
   "outputs": [
    {
     "name": "stdout",
     "output_type": "stream",
     "text": [
      "1200 hypermarameter combinations in total\n",
      "file generated\n"
     ]
    }
   ],
   "source": [
    "# batch2()"
   ]
  },
  {
   "cell_type": "markdown",
   "id": "d693865e-3556-47f4-aca2-d72e783c01ad",
   "metadata": {},
   "source": [
    "# 3rd trial"
   ]
  },
  {
   "cell_type": "code",
   "execution_count": 37,
   "id": "fe9aa33d-ec33-4697-8709-d3d68dc68ac8",
   "metadata": {},
   "outputs": [],
   "source": [
    "def batch3():\n",
    "    lr_range_ls = [(4e-4,5.2e-4),(8.2e-3,0.015),(5.5e-4,6.1-4),(1.9e-3,3.7e-3)]\n",
    "    wd_range_ls = [(5.32e-6,8.38e-6),(9.3e-6,9.9e-6),(8.74e-6,9.1e-6),(1.36e-7,2.08e-7)]\n",
    "    hyperparameter_combs = args_generator(lr_range_ls,wd_range_ls,steps=20)\n",
    "    bash_file_generator(hyperparameter_combs,3,total_gpu=8)"
   ]
  },
  {
   "cell_type": "code",
   "execution_count": 38,
   "id": "db945bd9-ef70-4a8c-9f47-c7a81b9fd6e8",
   "metadata": {},
   "outputs": [
    {
     "name": "stdout",
     "output_type": "stream",
     "text": [
      "6400 hypermarameter combinations in total\n",
      "file generated\n"
     ]
    }
   ],
   "source": [
    "# batch3()"
   ]
  },
  {
   "cell_type": "markdown",
   "id": "ddfe8b01-020e-4d4e-b7d2-641324a8f271",
   "metadata": {},
   "source": [
    "# 1st trial --- pretrained Resnet18 extracted feature(4th run)"
   ]
  },
  {
   "cell_type": "code",
   "execution_count": 100,
   "id": "374b169a-6c20-47cc-9e63-b2ba4424ace3",
   "metadata": {},
   "outputs": [],
   "source": [
    "def batch4():\n",
    "    lr_range_ls = [(1e-4,1e-3),(1e-5,1e-4),((1e-3,1e-2))]\n",
    "    wd_range_ls = [(1e-7,1e-6),(1e-6,1e-5)]\n",
    "    hyperparameter_combs = args_generator(lr_range_ls,wd_range_ls,steps = 10)\n",
    "    bash_file_generator_PtRes(hyperparameter_combs,4)\n",
    "    print(f'selected lr range:{lr_range_ls}')\n",
    "    print(f'selected wd range:{wd_range_ls}')"
   ]
  },
  {
   "cell_type": "code",
   "execution_count": 95,
   "id": "75755c35-ed26-46af-a663-f1b34e758d75",
   "metadata": {},
   "outputs": [
    {
     "name": "stdout",
     "output_type": "stream",
     "text": [
      "[0.0001, 0.00019, 0.00028, 0.00036999999999999994, 0.00045999999999999996, 0.00055, 0.0006399999999999999, 0.00073, 0.00082, 0.00091, 1e-05, 1.9e-05, 2.8000000000000003e-05, 3.7e-05, 4.6e-05, 5.5e-05, 6.4e-05, 7.3e-05, 8.2e-05, 9.1e-05, 0.001, 0.0019000000000000002, 0.0028000000000000004, 0.0037, 0.0046, 0.0055000000000000005, 0.0064, 0.007300000000000001, 0.0082, 0.0091]\n",
      "600 hypermarameter combinations in total,run with pretrained Resnet18 extracted features\n",
      "file generated\n",
      "selected lr range:[(0.0001, 0.001), (1e-05, 0.0001), (0.001, 0.01)]\n",
      "selected wd range:[(1e-07, 1e-06), (1e-06, 1e-05)]\n"
     ]
    }
   ],
   "source": [
    "# batch4()"
   ]
  },
  {
   "cell_type": "markdown",
   "id": "1d4ee414-86ce-430d-954a-bc611e72b047",
   "metadata": {},
   "source": [
    "# 2nd trial --- pretrained Resnet18 extracted feature,10X(5th run)"
   ]
  },
  {
   "cell_type": "code",
   "execution_count": 98,
   "id": "f87f54b3-d888-4c98-9f4d-3062f5d629f9",
   "metadata": {},
   "outputs": [],
   "source": [
    "def batch5():\n",
    "    lr_range_ls = [(4e-4,1e-3)]\n",
    "    wd_range_ls = [(1e-7,1e-6),(1e-6,1e-5)]\n",
    "    hyperparameter_combs = args_generator(lr_range_ls,wd_range_ls,steps_lr = 30,mode='linspace')\n",
    "    bash_file_generator_PtRes(hyperparameter_combs,run=5) # run need to be correctly assigned!\n",
    "    print(f'selected lr range:{lr_range_ls}')\n",
    "    print(f'selected wd range:{wd_range_ls}')"
   ]
  },
  {
   "cell_type": "code",
   "execution_count": 99,
   "id": "a0c5399c-0ee2-48e7-a67c-476b5bfe0c65",
   "metadata": {},
   "outputs": [
    {
     "name": "stdout",
     "output_type": "stream",
     "text": [
      "600 hypermarameter combinations in total,run with pretrained Resnet18 extracted features\n",
      "file generated\n",
      "selected lr range:[(0.0004, 0.001)]\n",
      "selected wd range:[(1e-07, 1e-06), (1e-06, 1e-05)]\n"
     ]
    }
   ],
   "source": [
    "batch5()"
   ]
  },
  {
   "cell_type": "markdown",
   "id": "4b4aac00-e7c3-45b0-9398-5e650cece2e8",
   "metadata": {},
   "source": [
    "# 3rd trial --- pretrained Resnet18 extracted feature,10X(6th run)"
   ]
  },
  {
   "cell_type": "code",
   "execution_count": 102,
   "id": "65abf2ec-1090-4416-a197-552d63144dd8",
   "metadata": {},
   "outputs": [],
   "source": [
    "def batch6():\n",
    "    lr_range_ls = [(4.2e-4,4.6e-4),(9e-4,9.6e-4)]\n",
    "    wd_range_ls = [(1e-7,1e-6),(1e-6,1e-5)]\n",
    "    hyperparameter_combs = args_generator(lr_range_ls,wd_range_ls,steps_lr = 20,mode='linspace')\n",
    "    bash_file_generator_PtRes(hyperparameter_combs,run=6) # run need to be correctly assigned!\n",
    "    print(f'selected lr range:{lr_range_ls}')\n",
    "    print(f'selected wd range:{wd_range_ls}')"
   ]
  },
  {
   "cell_type": "code",
   "execution_count": 104,
   "id": "aecdebc6-ae8f-4e4c-aed7-abf6f2d327bf",
   "metadata": {},
   "outputs": [
    {
     "name": "stdout",
     "output_type": "stream",
     "text": [
      "800 hypermarameter combinations in total,run with pretrained Resnet18 extracted features\n",
      "file generated\n",
      "selected lr range:[(0.00042, 0.00046), (0.0009, 0.00096)]\n",
      "selected wd range:[(1e-07, 1e-06), (1e-06, 1e-05)]\n"
     ]
    }
   ],
   "source": [
    "batch6()"
   ]
  },
  {
   "cell_type": "code",
   "execution_count": null,
   "id": "f94ffda3-c7b4-490c-a58c-fe52bec4f39c",
   "metadata": {},
   "outputs": [],
   "source": []
  }
 ],
 "metadata": {
  "kernelspec": {
   "display_name": "patho_AI",
   "language": "python",
   "name": "patho_ai"
  },
  "language_info": {
   "codemirror_mode": {
    "name": "ipython",
    "version": 3
   },
   "file_extension": ".py",
   "mimetype": "text/x-python",
   "name": "python",
   "nbconvert_exporter": "python",
   "pygments_lexer": "ipython3",
   "version": "3.8.12"
  }
 },
 "nbformat": 4,
 "nbformat_minor": 5
}
