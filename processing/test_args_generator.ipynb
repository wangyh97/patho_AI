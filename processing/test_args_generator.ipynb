{
 "cells": [
  {
   "cell_type": "code",
   "execution_count": 13,
   "id": "3ba95332-1e25-4eb4-8189-361e0aedbd33",
   "metadata": {},
   "outputs": [],
   "source": [
    "import numpy as np\n",
    "import pandas as pd\n",
    "from itertools import product"
   ]
  },
  {
   "cell_type": "code",
   "execution_count": 15,
   "id": "8524ad24-647b-4480-a817-d6fc4ee1ecf6",
   "metadata": {},
   "outputs": [],
   "source": [
    "ls_lr = np.linspace(1e-4,1e-3,10,endpoint=False).tolist() + np.linspace(1e-5,1e-4,10,endpoint=False).tolist()\n",
    "ls_weight_decay = np.linspace(1e-5,1e-4,10,endpoint=False).tolist() + np.linspace(1e-7,1e-6,10,endpoint=False).tolist() + np.linspace(1e-6,1e-5,10,endpoint=False).tolist()\n",
    "ls_Tmax = [50,100,200]"
   ]
  },
  {
   "cell_type": "code",
   "execution_count": 19,
   "id": "ac3bf4d5-42b6-407e-a0de-ea3c6c82fa5f",
   "metadata": {},
   "outputs": [],
   "source": [
    "hp_comb = [i for i in product(ls_lr,ls_weight_decay,ls_Tmax)]"
   ]
  },
  {
   "cell_type": "code",
   "execution_count": 25,
   "id": "4c3c0a12-8852-427e-93c3-e8e55c064e97",
   "metadata": {},
   "outputs": [],
   "source": [
    "str = ''\n",
    "for id,i in enumerate(hp_comb):\n",
    "    str += f'nohup python train_tcga.py --lr {i[0]} --weight_decay {i[1]} --Tmax {i[2]} > ../../out/5_classifier/hyperparameter_select/train_tcga_out{id} \\n'"
   ]
  },
  {
   "cell_type": "code",
   "execution_count": 26,
   "id": "a15087d8-4fca-4862-bf98-e77d330c9306",
   "metadata": {},
   "outputs": [],
   "source": [
    "with open('./mil classifier/hyperparam_select.sh','w') as f:\n",
    "    f.write(str)"
   ]
  },
  {
   "cell_type": "code",
   "execution_count": null,
   "id": "c292cbb4-b7b2-46fd-be9d-a9834ab5fc0e",
   "metadata": {},
   "outputs": [],
   "source": []
  }
 ],
 "metadata": {
  "kernelspec": {
   "display_name": "patho_AI",
   "language": "python",
   "name": "patho_ai"
  },
  "language_info": {
   "codemirror_mode": {
    "name": "ipython",
    "version": 3
   },
   "file_extension": ".py",
   "mimetype": "text/x-python",
   "name": "python",
   "nbconvert_exporter": "python",
   "pygments_lexer": "ipython3",
   "version": "3.8.12"
  }
 },
 "nbformat": 4,
 "nbformat_minor": 5
}
