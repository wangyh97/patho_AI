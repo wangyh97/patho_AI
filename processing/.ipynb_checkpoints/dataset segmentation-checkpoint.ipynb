{
 "cells": [
  {
   "cell_type": "code",
   "execution_count": 58,
   "id": "aea2dd0a-a295-444a-b8db-8de68357acda",
   "metadata": {},
   "outputs": [],
   "source": [
    "import pandas as pd\n",
    "import numpy as np\n",
    "import glob\n",
    "from random import *\n",
    "import os"
   ]
  },
  {
   "cell_type": "code",
   "execution_count": 100,
   "id": "3c9e3775-bc7d-4779-b6b2-99eecdd3d32c",
   "metadata": {},
   "outputs": [],
   "source": [
    "class datasets():\n",
    "    seed(10)\n",
    "    def __init__(self,scale:int):\n",
    "        \n",
    "        self.img_list = glob.glob(f'/mnt/wangyh/CN_patches/*/*/{scale}X/T*')\n",
    "        \n",
    "        def __generator(img_list,label):\n",
    "            for i in img_list:\n",
    "                if i.split('/')[4] == label:\n",
    "                    yield i\n",
    "        self.H_list = [i for i in __generator(self.img_list,label = 'H')]\n",
    "        self.L_list = [i for i in __generator(self.img_list,label = 'L')]\n",
    "        self.scale = scale\n",
    "        self.len = len(self.img_list)\n",
    "        self.L_len = len(self.L_list)\n",
    "        self.H_len = len(self.H_list)\n",
    "\n",
    "    def length(self):\n",
    "        full_length = self.len\n",
    "        H_length = self.L_len\n",
    "        L_length = self.H_len\n",
    "        print(f'full length of the dataset:{full_length},including H {H_length},L {L_length}')\n",
    "    \n",
    "    def __segmentation(self):\n",
    "        '''\n",
    "        train:val:train = 0.64:0.16:0.2\n",
    "        percentage of H / L should be balanced among three sets\n",
    "        '''\n",
    "        shuffle(self.H_list)\n",
    "        shuffle(self.L_list)\n",
    "        \n",
    "        train_list = self.H_list[:int(self.H_len*0.64)] + self.L_list[:int(self.L_len*0.64)]\n",
    "        val_list = self.H_list[int(self.H_len*0.64):int(self.H_len*0.8)] + self.L_list[int(self.L_len*0.64):int(self.L_len*0.8)]\n",
    "        test_list = self.H_list[int(self.H_len*0.8):]+self.L_list[int(self.L_len*0.8):]\n",
    "        shuffle(train_list)\n",
    "        shuffle(val_list)\n",
    "        shuffle(test_list)\n",
    "        new_img_list = train_list+val_list+test_list\n",
    "        return train_list,val_list,test_list,new_img_list\n",
    "    \n",
    "    \n",
    "    def get_train(self):\n",
    "        return self.__segmentation()[0]\n",
    "    \n",
    "    def get_val(self):\n",
    "        return self.__segmentation()[1]\n",
    "    \n",
    "    def get_test(self):\n",
    "        return self.__segmentation()[2]\n",
    "    \n",
    "    def get_csv(self,dir='../config/data_segmentation_csv'):\n",
    "        #notice: adjust the path for data saving\n",
    "        new_img_list = self.__segmentation()[3]\n",
    "        ground_truth = {path:path.split('/')[4] for path in new_img_list}\n",
    "        \n",
    "        df = pd.DataFrame(list(ground_truth.items()))\n",
    "        #save ground truth as csv\n",
    "        \n",
    "        if not os.path.exists(dir):\n",
    "            os.mkdir(dir)\n",
    "        path_csv = os.path.join(dir,f'{self.scale}X_ground_truth.csv')\n",
    "#         df.to_csv(path_csv)\n",
    "        \n",
    "        #save grouping as pickle\n",
    "        grouping = {\n",
    "            'train_list':self.get_train(),\n",
    "            'val_list': self.get_val(),\n",
    "            'test_list':self.get_test()\n",
    "        }\n",
    "        \n",
    "        path_grouping = os.path.join(dir,f'{self.scale}X_grouping.npy')\n",
    "        np.save(path_grouping,grouping)"
   ]
  },
  {
   "cell_type": "code",
   "execution_count": 101,
   "id": "1bf33f51-328e-4caa-9f9e-bc5d81f2188d",
   "metadata": {},
   "outputs": [],
   "source": [
    "data_5x = datasets(5)\n",
    "data_10x = datasets(10)\n",
    "data_20x = datasets(20)\n",
    "data_40x = datasets(40)"
   ]
  },
  {
   "cell_type": "code",
   "execution_count": 102,
   "id": "8cc119cb-6079-44d8-bf9e-4b7e103c2baa",
   "metadata": {},
   "outputs": [],
   "source": [
    "data_10x.get_csv()\n",
    "data_20x.get_csv()\n",
    "data_40x.get_csv()"
   ]
  },
  {
   "cell_type": "code",
   "execution_count": 103,
   "id": "0c5d5137-be4d-47fd-bb47-6ff0bbf5ea64",
   "metadata": {},
   "outputs": [],
   "source": [
    "data_5x.get_csv()"
   ]
  },
  {
   "cell_type": "code",
   "execution_count": null,
   "id": "a47d329e-ebe4-440b-bce6-8cb0fe70040b",
   "metadata": {},
   "outputs": [],
   "source": []
  }
 ],
 "metadata": {
  "kernelspec": {
   "display_name": "patho_AI",
   "language": "python",
   "name": "patho_ai"
  },
  "language_info": {
   "codemirror_mode": {
    "name": "ipython",
    "version": 3
   },
   "file_extension": ".py",
   "mimetype": "text/x-python",
   "name": "python",
   "nbconvert_exporter": "python",
   "pygments_lexer": "ipython3",
   "version": "3.8.12"
  }
 },
 "nbformat": 4,
 "nbformat_minor": 5
}
