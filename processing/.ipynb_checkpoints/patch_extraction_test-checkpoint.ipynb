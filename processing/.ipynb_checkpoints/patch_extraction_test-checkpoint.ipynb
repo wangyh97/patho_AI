{
 "cells": [
  {
   "cell_type": "code",
   "execution_count": 1,
   "metadata": {},
   "outputs": [],
   "source": [
    "import sys\n",
    "import glob\n",
    "sys.path.append('./extract_patches.py')\n",
    "import extract_patches as ep"
   ]
  },
  {
   "cell_type": "code",
   "execution_count": null,
   "metadata": {},
   "outputs": [],
   "source": [
    "file_path = 'I:/TCGA_bladder/TCGA_bladder/0b804fd8-70c4-458d-a172-3329118ca6d3/'\n",
    "svs_path = r.glob(file_path)"
   ]
  }
 ],
 "metadata": {
  "kernelspec": {
   "display_name": "Python 3.8.13 ('cv_py38')",
   "language": "python",
   "name": "python3"
  },
  "language_info": {
   "codemirror_mode": {
    "name": "ipython",
    "version": 3
   },
   "file_extension": ".py",
   "mimetype": "text/x-python",
   "name": "python",
   "nbconvert_exporter": "python",
   "pygments_lexer": "ipython3",
   "version": "3.8.13"
  },
  "orig_nbformat": 4,
  "vscode": {
   "interpreter": {
    "hash": "4e28155199267a10c509b59e8e194816b4d500ee9999e65bedc01748a29bbc7d"
   }
  }
 },
 "nbformat": 4,
 "nbformat_minor": 2
}
