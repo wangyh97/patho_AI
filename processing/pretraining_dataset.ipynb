{
 "cells": [
  {
   "cell_type": "code",
   "execution_count": 39,
   "metadata": {},
   "outputs": [],
   "source": [
    "import glob\n",
    "import os\n",
    "import pathlib\n",
    "from pathlib import Path\n",
    "\n",
    "import pandas as pd\n",
    "\n",
    "os.environ[\"KMP_DUPLICATE_LIB_OK\"] = \"TRUE\""
   ]
  },
  {
   "cell_type": "code",
   "execution_count": 53,
   "metadata": {},
   "outputs": [
    {
     "data": {
      "text/plain": [
       "'/home/wangyh/uro_biomarker/patho_AI'"
      ]
     },
     "execution_count": 53,
     "metadata": {},
     "output_type": "execute_result"
    }
   ],
   "source": [
    "os.getcwd()"
   ]
  },
  {
   "cell_type": "code",
   "execution_count": 43,
   "metadata": {},
   "outputs": [],
   "source": [
    "df = pd.read_csv(\"./config/dir_uuid.csv\") #用于pretraining的uuid\n",
    "uuid = df[\"dir_uuid\"]  # 获取符合条件的uuid\n",
    "\n",
    "slides = glob.glob(f\"/mnt/wangyh/TCGA_bladder/TCGA_bladder/*/*.svs\") #所有slide的path\n",
    "wsi_path = []\n",
    "for i in slides:\n",
    "    id = os.path.split(Path(i).parent)[1]\n",
    "    if id in uuid.values:\n",
    "        wsi_path.append(i)\n",
    "\n",
    "# print(wsi_path)\n",
    "# print(len(wsi_path))\n",
    "pd.Series(wsi_path).to_csv('./config/wsi_path_for_pretraining.csv')"
   ]
  },
  {
   "cell_type": "markdown",
   "metadata": {},
   "source": [
    "# 获取cart下载的压缩包中的数据，其中有clinical.xml及omf.xml"
   ]
  },
  {
   "cell_type": "code",
   "execution_count": null,
   "metadata": {},
   "outputs": [],
   "source": [
    "clin_data = glob.glob('/home/wangyh/uro_biomarker/patho_AI/clinical_data_files/*/*.xml')\n",
    "clin_data"
   ]
  },
  {
   "cell_type": "code",
   "execution_count": 51,
   "metadata": {},
   "outputs": [
    {
     "data": {
      "text/plain": [
       "573"
      ]
     },
     "execution_count": 51,
     "metadata": {},
     "output_type": "execute_result"
    }
   ],
   "source": [
    "len(clin_data)"
   ]
  },
  {
   "cell_type": "markdown",
   "metadata": {},
   "source": [
    "# 获取clinical的数据"
   ]
  },
  {
   "cell_type": "code",
   "execution_count": 84,
   "metadata": {},
   "outputs": [
    {
     "data": {
      "text/plain": [
       "array(['case_id', 'case_submitter_id', 'project_id', 'age_at_index',\n",
       "       'age_is_obfuscated', 'cause_of_death', 'cause_of_death_source',\n",
       "       'country_of_residence_at_enrollment', 'days_to_birth',\n",
       "       'days_to_death', 'ethnicity', 'gender',\n",
       "       'occupation_duration_years', 'premature_at_birth', 'race',\n",
       "       'vital_status', 'weeks_gestation_at_birth', 'year_of_birth',\n",
       "       'year_of_death', 'adrenal_hormone', 'age_at_diagnosis',\n",
       "       'ajcc_clinical_m', 'ajcc_clinical_n', 'ajcc_clinical_stage',\n",
       "       'ajcc_clinical_t', 'ajcc_pathologic_m', 'ajcc_pathologic_n',\n",
       "       'ajcc_pathologic_stage', 'ajcc_pathologic_t',\n",
       "       'ajcc_staging_system_edition', 'anaplasia_present',\n",
       "       'anaplasia_present_type', 'ann_arbor_b_symptoms',\n",
       "       'ann_arbor_b_symptoms_described', 'ann_arbor_clinical_stage',\n",
       "       'ann_arbor_extranodal_involvement', 'ann_arbor_pathologic_stage',\n",
       "       'best_overall_response', 'breslow_thickness',\n",
       "       'burkitt_lymphoma_clinical_variant', 'child_pugh_classification',\n",
       "       'circumferential_resection_margin', 'classification_of_tumor',\n",
       "       'cog_liver_stage', 'cog_neuroblastoma_risk_group',\n",
       "       'cog_renal_stage', 'cog_rhabdomyosarcoma_risk_group',\n",
       "       'days_to_best_overall_response', 'days_to_diagnosis',\n",
       "       'days_to_last_follow_up', 'days_to_last_known_disease_status',\n",
       "       'days_to_recurrence', 'eln_risk_classification',\n",
       "       'enneking_msts_grade', 'enneking_msts_metastasis',\n",
       "       'enneking_msts_stage', 'enneking_msts_tumor_site',\n",
       "       'esophageal_columnar_dysplasia_degree',\n",
       "       'esophageal_columnar_metaplasia_present', 'figo_stage',\n",
       "       'figo_staging_edition_year', 'first_symptom_prior_to_diagnosis',\n",
       "       'gastric_esophageal_junction_involvement', 'gleason_grade_group',\n",
       "       'gleason_grade_tertiary', 'gleason_patterns_percent',\n",
       "       'goblet_cells_columnar_mucosa_present', 'greatest_tumor_dimension',\n",
       "       'gross_tumor_weight', 'icd_10_code', 'igcccg_stage', 'inpc_grade',\n",
       "       'inpc_histologic_group', 'inrg_stage', 'inss_stage',\n",
       "       'international_prognostic_index', 'irs_group', 'irs_stage',\n",
       "       'ishak_fibrosis_score', 'iss_stage',\n",
       "       'largest_extrapelvic_peritoneal_focus',\n",
       "       'last_known_disease_status', 'laterality',\n",
       "       'lymph_node_involved_site', 'lymph_nodes_positive',\n",
       "       'lymph_nodes_tested', 'lymphatic_invasion_present',\n",
       "       'margin_distance', 'margins_involved_site', 'masaoka_stage',\n",
       "       'medulloblastoma_molecular_classification',\n",
       "       'metastasis_at_diagnosis', 'metastasis_at_diagnosis_site',\n",
       "       'method_of_diagnosis', 'micropapillary_features',\n",
       "       'mitosis_karyorrhexis_index', 'mitotic_count', 'morphology',\n",
       "       'non_nodal_regional_disease', 'non_nodal_tumor_deposits',\n",
       "       'ovarian_specimen_status', 'ovarian_surface_involvement',\n",
       "       'papillary_renal_cell_type', 'percent_tumor_invasion',\n",
       "       'perineural_invasion_present',\n",
       "       'peripancreatic_lymph_nodes_positive',\n",
       "       'peripancreatic_lymph_nodes_tested',\n",
       "       'peritoneal_fluid_cytological_status', 'pregnant_at_diagnosis',\n",
       "       'primary_diagnosis', 'primary_disease', 'primary_gleason_grade',\n",
       "       'prior_malignancy', 'prior_treatment', 'progression_or_recurrence',\n",
       "       'residual_disease', 'satellite_nodule_present',\n",
       "       'secondary_gleason_grade', 'site_of_resection_or_biopsy',\n",
       "       'sites_of_involvement', 'supratentorial_localization',\n",
       "       'synchronous_malignancy', 'tissue_or_organ_of_origin',\n",
       "       'transglottic_extension', 'tumor_confined_to_organ_of_origin',\n",
       "       'tumor_depth', 'tumor_focality', 'tumor_grade',\n",
       "       'tumor_largest_dimension_diameter', 'tumor_regression_grade',\n",
       "       'tumor_stage', 'vascular_invasion_present',\n",
       "       'vascular_invasion_type', 'weiss_assessment_score',\n",
       "       'who_cns_grade', 'who_nte_grade', 'wilms_tumor_histologic_subtype',\n",
       "       'year_of_diagnosis', 'chemo_concurrent_to_radiation',\n",
       "       'days_to_treatment_end', 'days_to_treatment_start',\n",
       "       'initial_disease_status', 'number_of_cycles',\n",
       "       'reason_treatment_ended', 'regimen_or_line_of_therapy',\n",
       "       'route_of_administration', 'therapeutic_agents',\n",
       "       'treatment_anatomic_site', 'treatment_arm', 'treatment_dose',\n",
       "       'treatment_dose_units', 'treatment_effect',\n",
       "       'treatment_effect_indicator', 'treatment_frequency',\n",
       "       'treatment_intent_type', 'treatment_or_therapy',\n",
       "       'treatment_outcome', 'treatment_type'], dtype=object)"
      ]
     },
     "execution_count": 84,
     "metadata": {},
     "output_type": "execute_result"
    }
   ],
   "source": [
    "clinical_data = pd.read_table('./clinical_cart/clinical.tsv',sep='\\t')\n",
    "clinical_data.columns.values"
   ]
  },
  {
   "cell_type": "code",
   "execution_count": 69,
   "metadata": {},
   "outputs": [
    {
     "data": {
      "text/html": [
       "<div>\n",
       "<style scoped>\n",
       "    .dataframe tbody tr th:only-of-type {\n",
       "        vertical-align: middle;\n",
       "    }\n",
       "\n",
       "    .dataframe tbody tr th {\n",
       "        vertical-align: top;\n",
       "    }\n",
       "\n",
       "    .dataframe thead th {\n",
       "        text-align: right;\n",
       "    }\n",
       "</style>\n",
       "<table border=\"1\" class=\"dataframe\">\n",
       "  <thead>\n",
       "    <tr style=\"text-align: right;\">\n",
       "      <th></th>\n",
       "      <th>Cohort</th>\n",
       "      <th>ID</th>\n",
       "      <th>Tumor_Sample_ID</th>\n",
       "      <th>Silent per Mb</th>\n",
       "      <th>TMB</th>\n",
       "    </tr>\n",
       "  </thead>\n",
       "  <tbody>\n",
       "    <tr>\n",
       "      <th>91</th>\n",
       "      <td>BLCA</td>\n",
       "      <td>TCGA-FD-A43S</td>\n",
       "      <td>TCGA-FD-A43S-01</td>\n",
       "      <td>0.000000</td>\n",
       "      <td>0.000000</td>\n",
       "    </tr>\n",
       "    <tr>\n",
       "      <th>92</th>\n",
       "      <td>BLCA</td>\n",
       "      <td>TCGA-XF-AAN8</td>\n",
       "      <td>TCGA-XF-AAN8-01</td>\n",
       "      <td>0.030943</td>\n",
       "      <td>0.000000</td>\n",
       "    </tr>\n",
       "    <tr>\n",
       "      <th>93</th>\n",
       "      <td>BLCA</td>\n",
       "      <td>TCGA-4Z-AA7N</td>\n",
       "      <td>TCGA-4Z-AA7N-01</td>\n",
       "      <td>0.310769</td>\n",
       "      <td>0.310769</td>\n",
       "    </tr>\n",
       "    <tr>\n",
       "      <th>94</th>\n",
       "      <td>BLCA</td>\n",
       "      <td>TCGA-DK-A3WY</td>\n",
       "      <td>TCGA-DK-A3WY-01</td>\n",
       "      <td>0.089070</td>\n",
       "      <td>0.326590</td>\n",
       "    </tr>\n",
       "    <tr>\n",
       "      <th>95</th>\n",
       "      <td>BLCA</td>\n",
       "      <td>TCGA-XF-AAME</td>\n",
       "      <td>TCGA-XF-AAME-01</td>\n",
       "      <td>0.063186</td>\n",
       "      <td>0.410711</td>\n",
       "    </tr>\n",
       "    <tr>\n",
       "      <th>...</th>\n",
       "      <td>...</td>\n",
       "      <td>...</td>\n",
       "      <td>...</td>\n",
       "      <td>...</td>\n",
       "      <td>...</td>\n",
       "    </tr>\n",
       "    <tr>\n",
       "      <th>495</th>\n",
       "      <td>BLCA</td>\n",
       "      <td>TCGA-DK-A3WW</td>\n",
       "      <td>TCGA-DK-A3WW-01</td>\n",
       "      <td>10.215587</td>\n",
       "      <td>29.433306</td>\n",
       "    </tr>\n",
       "    <tr>\n",
       "      <th>496</th>\n",
       "      <td>BLCA</td>\n",
       "      <td>TCGA-DK-A1AC</td>\n",
       "      <td>TCGA-DK-A1AC-01</td>\n",
       "      <td>16.737009</td>\n",
       "      <td>37.477656</td>\n",
       "    </tr>\n",
       "    <tr>\n",
       "      <th>497</th>\n",
       "      <td>BLCA</td>\n",
       "      <td>TCGA-YC-A89H</td>\n",
       "      <td>TCGA-YC-A89H-01</td>\n",
       "      <td>19.620691</td>\n",
       "      <td>40.105187</td>\n",
       "    </tr>\n",
       "    <tr>\n",
       "      <th>498</th>\n",
       "      <td>BLCA</td>\n",
       "      <td>TCGA-MV-A51V</td>\n",
       "      <td>TCGA-MV-A51V-01</td>\n",
       "      <td>11.779311</td>\n",
       "      <td>40.586437</td>\n",
       "    </tr>\n",
       "    <tr>\n",
       "      <th>499</th>\n",
       "      <td>BLCA</td>\n",
       "      <td>TCGA-DK-A6AW</td>\n",
       "      <td>TCGA-DK-A6AW-01</td>\n",
       "      <td>26.289582</td>\n",
       "      <td>101.693809</td>\n",
       "    </tr>\n",
       "  </tbody>\n",
       "</table>\n",
       "<p>409 rows × 5 columns</p>\n",
       "</div>"
      ],
      "text/plain": [
       "    Cohort            ID  Tumor_Sample_ID  Silent per Mb         TMB\n",
       "91    BLCA  TCGA-FD-A43S  TCGA-FD-A43S-01       0.000000    0.000000\n",
       "92    BLCA  TCGA-XF-AAN8  TCGA-XF-AAN8-01       0.030943    0.000000\n",
       "93    BLCA  TCGA-4Z-AA7N  TCGA-4Z-AA7N-01       0.310769    0.310769\n",
       "94    BLCA  TCGA-DK-A3WY  TCGA-DK-A3WY-01       0.089070    0.326590\n",
       "95    BLCA  TCGA-XF-AAME  TCGA-XF-AAME-01       0.063186    0.410711\n",
       "..     ...           ...              ...            ...         ...\n",
       "495   BLCA  TCGA-DK-A3WW  TCGA-DK-A3WW-01      10.215587   29.433306\n",
       "496   BLCA  TCGA-DK-A1AC  TCGA-DK-A1AC-01      16.737009   37.477656\n",
       "497   BLCA  TCGA-YC-A89H  TCGA-YC-A89H-01      19.620691   40.105187\n",
       "498   BLCA  TCGA-MV-A51V  TCGA-MV-A51V-01      11.779311   40.586437\n",
       "499   BLCA  TCGA-DK-A6AW  TCGA-DK-A6AW-01      26.289582  101.693809\n",
       "\n",
       "[409 rows x 5 columns]"
      ]
     },
     "execution_count": 69,
     "metadata": {},
     "output_type": "execute_result"
    }
   ],
   "source": [
    "df = pd.read_csv('./config/TCGA TMB.csv')\n",
    "TMB = df[df['Cohort']=='BLCA']"
   ]
  },
  {
   "cell_type": "code",
   "execution_count": 87,
   "metadata": {},
   "outputs": [],
   "source": [
    "clinical_data.merge(TMB,left_on='case_submitter_id',right_on='ID',how='inner').to_csv('./config/merged_clinical_data_with_TMB.csv')"
   ]
  },
  {
   "cell_type": "code",
   "execution_count": 90,
   "metadata": {},
   "outputs": [
    {
     "data": {
      "text/plain": [
       "'/home/wangyh/uro_biomarker/patho_AI'"
      ]
     },
     "execution_count": 90,
     "metadata": {},
     "output_type": "execute_result"
    }
   ],
   "source": []
  },
  {
   "cell_type": "code",
   "execution_count": null,
   "metadata": {},
   "outputs": [],
   "source": []
  }
 ],
 "metadata": {
  "kernelspec": {
   "display_name": "base",
   "language": "python",
   "name": "base"
  },
  "language_info": {
   "codemirror_mode": {
    "name": "ipython",
    "version": 3
   },
   "file_extension": ".py",
   "mimetype": "text/x-python",
   "name": "python",
   "nbconvert_exporter": "python",
   "pygments_lexer": "ipython3",
   "version": "3.8.12"
  },
  "vscode": {
   "interpreter": {
    "hash": "be7f9b939c4b0d6646bd6e1fd5ac0b5ac685cf95a2b904b517e96a6e9af6dfd3"
   }
  }
 },
 "nbformat": 4,
 "nbformat_minor": 4
}
