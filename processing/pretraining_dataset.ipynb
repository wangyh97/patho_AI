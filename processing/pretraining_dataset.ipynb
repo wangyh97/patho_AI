{
 "cells": [
  {
   "cell_type": "code",
   "execution_count": 1,
   "metadata": {},
   "outputs": [],
   "source": [
    "import glob\n",
    "import os\n",
    "import pathlib\n",
    "from pathlib import Path\n",
    "\n",
    "import pandas as pd\n",
    "\n",
    "os.environ[\"KMP_DUPLICATE_LIB_OK\"] = \"TRUE\""
   ]
  },
  {
   "cell_type": "code",
   "execution_count": 2,
   "metadata": {},
   "outputs": [
    {
     "data": {
      "text/plain": [
       "'/home/wangyh/uro_biomarker/patho_AI'"
      ]
     },
     "execution_count": 2,
     "metadata": {},
     "output_type": "execute_result"
    }
   ],
   "source": [
    "os.getcwd()"
   ]
  },
  {
   "cell_type": "code",
   "execution_count": 3,
   "metadata": {},
   "outputs": [],
   "source": [
    "df = pd.read_csv(\"./config/dir_uuid.csv\") #用于pretraining的uuid\n",
    "uuid = df[\"dir_uuid\"]  # 获取符合条件的uuid\n",
    "\n",
    "slides = glob.glob(f\"/mnt/wangyh/TCGA_bladder/TCGA_bladder/*/*.svs\") #所有slide的path\n",
    "wsi_path = []\n",
    "for i in slides:\n",
    "    id = os.path.split(Path(i).parent)[1]\n",
    "    if id in uuid.values:\n",
    "        wsi_path.append(i)\n",
    "\n",
    "# print(wsi_path)\n",
    "# print(len(wsi_path))\n",
    "pd.Series(wsi_path).to_csv('./config/wsi_path_for_pretraining.csv')"
   ]
  },
  {
   "cell_type": "markdown",
   "metadata": {},
   "source": [
    "# 获取cart下载的压缩包中的数据，其中有clinical.xml及omf.xml"
   ]
  },
  {
   "cell_type": "code",
   "execution_count": null,
   "metadata": {},
   "outputs": [],
   "source": [
    "clin_data = glob.glob('/home/wangyh/uro_biomarker/patho_AI/clinical_data_files/*/*.xml')\n",
    "clin_data"
   ]
  },
  {
   "cell_type": "code",
   "execution_count": 5,
   "metadata": {},
   "outputs": [
    {
     "data": {
      "text/plain": [
       "573"
      ]
     },
     "execution_count": 5,
     "metadata": {},
     "output_type": "execute_result"
    }
   ],
   "source": [
    "len(clin_data)"
   ]
  },
  {
   "cell_type": "markdown",
   "metadata": {},
   "source": [
    "# 获取clinical的数据"
   ]
  },
  {
   "cell_type": "code",
   "execution_count": null,
   "metadata": {},
   "outputs": [],
   "source": [
    "clinical_data = pd.read_table('./clinical_cart/clinical.tsv',sep='\\t')\n",
    "clinical_data.columns.values"
   ]
  },
  {
   "cell_type": "code",
   "execution_count": 7,
   "metadata": {},
   "outputs": [],
   "source": [
    "df = pd.read_csv('./config/TCGA TMB.csv')\n",
    "TMB = df[df['Cohort']=='BLCA']"
   ]
  },
  {
   "cell_type": "markdown",
   "metadata": {},
   "source": [
    "# 合并数据，输出到csv，用R看一下"
   ]
  },
  {
   "cell_type": "code",
   "execution_count": 8,
   "metadata": {},
   "outputs": [],
   "source": [
    "clinical_data.merge(TMB,left_on='case_submitter_id',right_on='ID',how='inner').to_csv('./config/merged_clinical_data_with_TMB.csv')"
   ]
  },
  {
   "cell_type": "markdown",
   "metadata": {},
   "source": [
    "# 用python看一下csv，提取有用的列进行下一步处理"
   ]
  },
  {
   "cell_type": "code",
   "execution_count": 9,
   "metadata": {},
   "outputs": [
    {
     "data": {
      "text/html": [
       "<div>\n",
       "<style scoped>\n",
       "    .dataframe tbody tr th:only-of-type {\n",
       "        vertical-align: middle;\n",
       "    }\n",
       "\n",
       "    .dataframe tbody tr th {\n",
       "        vertical-align: top;\n",
       "    }\n",
       "\n",
       "    .dataframe thead th {\n",
       "        text-align: right;\n",
       "    }\n",
       "</style>\n",
       "<table border=\"1\" class=\"dataframe\">\n",
       "  <thead>\n",
       "    <tr style=\"text-align: right;\">\n",
       "      <th></th>\n",
       "      <th>case_submitter_id</th>\n",
       "      <th>days_to_death</th>\n",
       "      <th>days_to_last_follow_up</th>\n",
       "      <th>vital_status</th>\n",
       "      <th>TMB</th>\n",
       "      <th>day_to_endpoint</th>\n",
       "    </tr>\n",
       "  </thead>\n",
       "  <tbody>\n",
       "    <tr>\n",
       "      <th>0</th>\n",
       "      <td>TCGA-DK-A2I6</td>\n",
       "      <td>'--</td>\n",
       "      <td>2656</td>\n",
       "      <td>Alive</td>\n",
       "      <td>6.835336</td>\n",
       "      <td>0</td>\n",
       "    </tr>\n",
       "    <tr>\n",
       "      <th>2</th>\n",
       "      <td>TCGA-FD-A6TK</td>\n",
       "      <td>'--</td>\n",
       "      <td>330</td>\n",
       "      <td>Alive</td>\n",
       "      <td>3.183424</td>\n",
       "      <td>0</td>\n",
       "    </tr>\n",
       "    <tr>\n",
       "      <th>4</th>\n",
       "      <td>TCGA-UY-A78L</td>\n",
       "      <td>'--</td>\n",
       "      <td>1127</td>\n",
       "      <td>Alive</td>\n",
       "      <td>5.182940</td>\n",
       "      <td>0</td>\n",
       "    </tr>\n",
       "    <tr>\n",
       "      <th>6</th>\n",
       "      <td>TCGA-4Z-AA84</td>\n",
       "      <td>'--</td>\n",
       "      <td>460</td>\n",
       "      <td>Alive</td>\n",
       "      <td>12.011275</td>\n",
       "      <td>0</td>\n",
       "    </tr>\n",
       "    <tr>\n",
       "      <th>8</th>\n",
       "      <td>TCGA-XF-A9SK</td>\n",
       "      <td>486</td>\n",
       "      <td>'--</td>\n",
       "      <td>Dead</td>\n",
       "      <td>3.964546</td>\n",
       "      <td>0</td>\n",
       "    </tr>\n",
       "    <tr>\n",
       "      <th>...</th>\n",
       "      <td>...</td>\n",
       "      <td>...</td>\n",
       "      <td>...</td>\n",
       "      <td>...</td>\n",
       "      <td>...</td>\n",
       "      <td>...</td>\n",
       "    </tr>\n",
       "    <tr>\n",
       "      <th>808</th>\n",
       "      <td>TCGA-FD-A6TA</td>\n",
       "      <td>'--</td>\n",
       "      <td>1912</td>\n",
       "      <td>Alive</td>\n",
       "      <td>7.337379</td>\n",
       "      <td>0</td>\n",
       "    </tr>\n",
       "    <tr>\n",
       "      <th>810</th>\n",
       "      <td>TCGA-UY-A8OB</td>\n",
       "      <td>'--</td>\n",
       "      <td>2109</td>\n",
       "      <td>Alive</td>\n",
       "      <td>9.247481</td>\n",
       "      <td>0</td>\n",
       "    </tr>\n",
       "    <tr>\n",
       "      <th>812</th>\n",
       "      <td>TCGA-UY-A9PE</td>\n",
       "      <td>'--</td>\n",
       "      <td>189</td>\n",
       "      <td>Alive</td>\n",
       "      <td>5.644348</td>\n",
       "      <td>0</td>\n",
       "    </tr>\n",
       "    <tr>\n",
       "      <th>814</th>\n",
       "      <td>TCGA-GU-A42P</td>\n",
       "      <td>332</td>\n",
       "      <td>195</td>\n",
       "      <td>Dead</td>\n",
       "      <td>6.620123</td>\n",
       "      <td>0</td>\n",
       "    </tr>\n",
       "    <tr>\n",
       "      <th>816</th>\n",
       "      <td>TCGA-4Z-AA7Q</td>\n",
       "      <td>510</td>\n",
       "      <td>'--</td>\n",
       "      <td>Dead</td>\n",
       "      <td>6.393041</td>\n",
       "      <td>0</td>\n",
       "    </tr>\n",
       "  </tbody>\n",
       "</table>\n",
       "<p>409 rows × 6 columns</p>\n",
       "</div>"
      ],
      "text/plain": [
       "    case_submitter_id days_to_death days_to_last_follow_up vital_status  \\\n",
       "0        TCGA-DK-A2I6           '--                   2656        Alive   \n",
       "2        TCGA-FD-A6TK           '--                    330        Alive   \n",
       "4        TCGA-UY-A78L           '--                   1127        Alive   \n",
       "6        TCGA-4Z-AA84           '--                    460        Alive   \n",
       "8        TCGA-XF-A9SK           486                    '--         Dead   \n",
       "..                ...           ...                    ...          ...   \n",
       "808      TCGA-FD-A6TA           '--                   1912        Alive   \n",
       "810      TCGA-UY-A8OB           '--                   2109        Alive   \n",
       "812      TCGA-UY-A9PE           '--                    189        Alive   \n",
       "814      TCGA-GU-A42P           332                    195         Dead   \n",
       "816      TCGA-4Z-AA7Q           510                    '--         Dead   \n",
       "\n",
       "           TMB  day_to_endpoint  \n",
       "0     6.835336                0  \n",
       "2     3.183424                0  \n",
       "4     5.182940                0  \n",
       "6    12.011275                0  \n",
       "8     3.964546                0  \n",
       "..         ...              ...  \n",
       "808   7.337379                0  \n",
       "810   9.247481                0  \n",
       "812   5.644348                0  \n",
       "814   6.620123                0  \n",
       "816   6.393041                0  \n",
       "\n",
       "[409 rows x 6 columns]"
      ]
     },
     "execution_count": 9,
     "metadata": {},
     "output_type": "execute_result"
    }
   ],
   "source": [
    "merged = pd.read_csv('./config/merged_clinical_data_with_TMB.csv')[['case_submitter_id','days_to_death','days_to_last_follow_up','vital_status','TMB']].drop_duplicates()\n",
    "merged['day_to_endpoint'] = 0\n",
    "merged"
   ]
  },
  {
   "cell_type": "markdown",
   "metadata": {},
   "source": [
    "# 整合一下死亡及last follow up的数据"
   ]
  },
  {
   "cell_type": "code",
   "execution_count": 23,
   "metadata": {},
   "outputs": [
    {
     "data": {
      "text/html": [
       "<div>\n",
       "<style scoped>\n",
       "    .dataframe tbody tr th:only-of-type {\n",
       "        vertical-align: middle;\n",
       "    }\n",
       "\n",
       "    .dataframe tbody tr th {\n",
       "        vertical-align: top;\n",
       "    }\n",
       "\n",
       "    .dataframe thead th {\n",
       "        text-align: right;\n",
       "    }\n",
       "</style>\n",
       "<table border=\"1\" class=\"dataframe\">\n",
       "  <thead>\n",
       "    <tr style=\"text-align: right;\">\n",
       "      <th></th>\n",
       "      <th>case_submitter_id</th>\n",
       "      <th>days_to_death</th>\n",
       "      <th>days_to_last_follow_up</th>\n",
       "      <th>vital_status</th>\n",
       "      <th>TMB</th>\n",
       "      <th>day_to_endpoint</th>\n",
       "    </tr>\n",
       "  </thead>\n",
       "  <tbody>\n",
       "    <tr>\n",
       "      <th>0</th>\n",
       "      <td>TCGA-DK-A2I6</td>\n",
       "      <td>'--</td>\n",
       "      <td>2656</td>\n",
       "      <td>Alive</td>\n",
       "      <td>6.835336</td>\n",
       "      <td>2656</td>\n",
       "    </tr>\n",
       "    <tr>\n",
       "      <th>2</th>\n",
       "      <td>TCGA-FD-A6TK</td>\n",
       "      <td>'--</td>\n",
       "      <td>330</td>\n",
       "      <td>Alive</td>\n",
       "      <td>3.183424</td>\n",
       "      <td>330</td>\n",
       "    </tr>\n",
       "    <tr>\n",
       "      <th>4</th>\n",
       "      <td>TCGA-UY-A78L</td>\n",
       "      <td>'--</td>\n",
       "      <td>1127</td>\n",
       "      <td>Alive</td>\n",
       "      <td>5.18294</td>\n",
       "      <td>1127</td>\n",
       "    </tr>\n",
       "    <tr>\n",
       "      <th>6</th>\n",
       "      <td>TCGA-4Z-AA84</td>\n",
       "      <td>'--</td>\n",
       "      <td>460</td>\n",
       "      <td>Alive</td>\n",
       "      <td>12.011275</td>\n",
       "      <td>460</td>\n",
       "    </tr>\n",
       "    <tr>\n",
       "      <th>8</th>\n",
       "      <td>TCGA-XF-A9SK</td>\n",
       "      <td>486</td>\n",
       "      <td>'--</td>\n",
       "      <td>Dead</td>\n",
       "      <td>3.964546</td>\n",
       "      <td>486</td>\n",
       "    </tr>\n",
       "    <tr>\n",
       "      <th>...</th>\n",
       "      <td>...</td>\n",
       "      <td>...</td>\n",
       "      <td>...</td>\n",
       "      <td>...</td>\n",
       "      <td>...</td>\n",
       "      <td>...</td>\n",
       "    </tr>\n",
       "    <tr>\n",
       "      <th>808</th>\n",
       "      <td>TCGA-FD-A6TA</td>\n",
       "      <td>'--</td>\n",
       "      <td>1912</td>\n",
       "      <td>Alive</td>\n",
       "      <td>7.337379</td>\n",
       "      <td>1912</td>\n",
       "    </tr>\n",
       "    <tr>\n",
       "      <th>810</th>\n",
       "      <td>TCGA-UY-A8OB</td>\n",
       "      <td>'--</td>\n",
       "      <td>2109</td>\n",
       "      <td>Alive</td>\n",
       "      <td>9.247481</td>\n",
       "      <td>2109</td>\n",
       "    </tr>\n",
       "    <tr>\n",
       "      <th>812</th>\n",
       "      <td>TCGA-UY-A9PE</td>\n",
       "      <td>'--</td>\n",
       "      <td>189</td>\n",
       "      <td>Alive</td>\n",
       "      <td>5.644348</td>\n",
       "      <td>189</td>\n",
       "    </tr>\n",
       "    <tr>\n",
       "      <th>814</th>\n",
       "      <td>TCGA-GU-A42P</td>\n",
       "      <td>332</td>\n",
       "      <td>195</td>\n",
       "      <td>Dead</td>\n",
       "      <td>6.620123</td>\n",
       "      <td>332</td>\n",
       "    </tr>\n",
       "    <tr>\n",
       "      <th>816</th>\n",
       "      <td>TCGA-4Z-AA7Q</td>\n",
       "      <td>510</td>\n",
       "      <td>'--</td>\n",
       "      <td>Dead</td>\n",
       "      <td>6.393041</td>\n",
       "      <td>510</td>\n",
       "    </tr>\n",
       "  </tbody>\n",
       "</table>\n",
       "<p>409 rows × 6 columns</p>\n",
       "</div>"
      ],
      "text/plain": [
       "    case_submitter_id days_to_death days_to_last_follow_up vital_status  \\\n",
       "0        TCGA-DK-A2I6           '--                   2656        Alive   \n",
       "2        TCGA-FD-A6TK           '--                    330        Alive   \n",
       "4        TCGA-UY-A78L           '--                   1127        Alive   \n",
       "6        TCGA-4Z-AA84           '--                    460        Alive   \n",
       "8        TCGA-XF-A9SK           486                    '--         Dead   \n",
       "..                ...           ...                    ...          ...   \n",
       "808      TCGA-FD-A6TA           '--                   1912        Alive   \n",
       "810      TCGA-UY-A8OB           '--                   2109        Alive   \n",
       "812      TCGA-UY-A9PE           '--                    189        Alive   \n",
       "814      TCGA-GU-A42P           332                    195         Dead   \n",
       "816      TCGA-4Z-AA7Q           510                    '--         Dead   \n",
       "\n",
       "           TMB day_to_endpoint  \n",
       "0     6.835336            2656  \n",
       "2     3.183424             330  \n",
       "4      5.18294            1127  \n",
       "6    12.011275             460  \n",
       "8     3.964546             486  \n",
       "..         ...             ...  \n",
       "808   7.337379            1912  \n",
       "810   9.247481            2109  \n",
       "812   5.644348             189  \n",
       "814   6.620123             332  \n",
       "816   6.393041             510  \n",
       "\n",
       "[409 rows x 6 columns]"
      ]
     },
     "execution_count": 23,
     "metadata": {},
     "output_type": "execute_result"
    }
   ],
   "source": [
    "merged_T = merged.T\n",
    "for a,i in merged_T.items():\n",
    "#     print(a,i['days_to_death']==\"'--\")\n",
    "    if i['days_to_death']==\"'--\":\n",
    "        i['day_to_endpoint'] = i['days_to_last_follow_up']\n",
    "    else:\n",
    "        i['day_to_endpoint'] = i['days_to_death']\n",
    "merged_T.T.to_csv('./config/TMB&D2D.txt',sep='\\t',index)\n",
    "merged_T.T"
   ]
  },
  {
   "cell_type": "code",
   "execution_count": 20,
   "metadata": {},
   "outputs": [
    {
     "data": {
      "text/plain": [
       "'/home/wangyh/uro_biomarker/patho_AI'"
      ]
     },
     "execution_count": 20,
     "metadata": {},
     "output_type": "execute_result"
    }
   ],
   "source": [
    "os.getcwd()"
   ]
  }
 ],
 "metadata": {
  "kernelspec": {
   "display_name": "base",
   "language": "python",
   "name": "base"
  },
  "language_info": {
   "codemirror_mode": {
    "name": "ipython",
    "version": 3
   },
   "file_extension": ".py",
   "mimetype": "text/x-python",
   "name": "python",
   "nbconvert_exporter": "python",
   "pygments_lexer": "ipython3",
   "version": "3.8.15"
  },
  "vscode": {
   "interpreter": {
    "hash": "be7f9b939c4b0d6646bd6e1fd5ac0b5ac685cf95a2b904b517e96a6e9af6dfd3"
   }
  }
 },
 "nbformat": 4,
 "nbformat_minor": 4
}
