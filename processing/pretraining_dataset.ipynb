{
 "cells": [
  {
   "cell_type": "code",
   "execution_count": 16,
   "metadata": {},
   "outputs": [],
   "source": [
    "import glob\n",
    "import os\n",
    "import pathlib\n",
    "from pathlib import Path\n",
    "\n",
    "import pandas as pd\n",
    "\n",
    "os.environ[\"KMP_DUPLICATE_LIB_OK\"] = \"TRUE\""
   ]
  },
  {
   "cell_type": "code",
   "execution_count": 30,
   "metadata": {},
   "outputs": [],
   "source": [
    "df = pd.read_csv(\"../config/dir_uuid.csv\")\n",
    "uuid = df[\"dir_uuid\"]  # 获取符合条件的uuid\n",
    "\n",
    "slides = glob.glob(f\"/mnt/wangyh/TCGA_bladder/TCGA_bladder/*/*.svs\")\n",
    "wsi_path = []\n",
    "for i in slides:\n",
    "    id = os.path.split(Path(i).parent)[1]\n",
    "    if id in uuid.values:\n",
    "        wsi_path.append(i)\n",
    "\n",
    "# print(wsi_path)\n",
    "# print(len(wsi_path))\n",
    "pd.Series(wsi_path).to_csv('../config/wsi_path_for_pretraining.csv')"
   ]
  },
  {
   "cell_type": "code",
   "execution_count": null,
   "metadata": {},
   "outputs": [],
   "source": []
  }
 ],
 "metadata": {
  "kernelspec": {
   "display_name": "base",
   "language": "python",
   "name": "base"
  },
  "language_info": {
   "codemirror_mode": {
    "name": "ipython",
    "version": 3
   },
   "file_extension": ".py",
   "mimetype": "text/x-python",
   "name": "python",
   "nbconvert_exporter": "python",
   "pygments_lexer": "ipython3",
   "version": "3.8.12"
  },
  "vscode": {
   "interpreter": {
    "hash": "be7f9b939c4b0d6646bd6e1fd5ac0b5ac685cf95a2b904b517e96a6e9af6dfd3"
   }
  }
 },
 "nbformat": 4,
 "nbformat_minor": 4
}
