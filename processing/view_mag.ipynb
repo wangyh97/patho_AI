{
 "cells": [
  {
   "cell_type": "code",
   "execution_count": 5,
   "id": "c9a6b809-bcc5-448b-8937-c53928cc9493",
   "metadata": {},
   "outputs": [],
   "source": [
    "import pandas as pd\n",
    "import openslide\n",
    "import cv2\n",
    "import matplotlib.pyplot as plt"
   ]
  },
  {
   "cell_type": "code",
   "execution_count": 6,
   "id": "ec0759ea-ae02-4124-864b-3092dfd0bebd",
   "metadata": {},
   "outputs": [],
   "source": [
    "svs = '/mnt/wangyh/TCGA_bladder/TCGA_bladder/66c9a30b-2303-47fa-abe5-85f8ee3abbaf/TCGA-G2-AA3B-01Z-00-DX5.57084980-934B-4A4A-A720-24FA2E9E0CB2.svs'"
   ]
  },
  {
   "cell_type": "code",
   "execution_count": 7,
   "id": "d9ef00f9-818b-4ed3-812a-855b36a5f88d",
   "metadata": {},
   "outputs": [
    {
     "data": {
      "text/plain": [
       "'40'"
      ]
     },
     "execution_count": 7,
     "metadata": {},
     "output_type": "execute_result"
    }
   ],
   "source": [
    "slide = openslide.OpenSlide(svs)\n",
    "slide.properties['aperio.AppMag']"
   ]
  },
  {
   "cell_type": "code",
   "execution_count": 16,
   "id": "74b177a1-b315-4563-8f4e-6e2098bf9872",
   "metadata": {},
   "outputs": [
    {
     "data": {
      "text/plain": [
       "0     /mnt/wangyh/TCGA_bladder/TCGA_bladder/28a0ced3...\n",
       "1     /mnt/wangyh/TCGA_bladder/TCGA_bladder/b78959f2...\n",
       "2     /mnt/wangyh/TCGA_bladder/TCGA_bladder/96027b95...\n",
       "3     /mnt/wangyh/TCGA_bladder/TCGA_bladder/c15c23f2...\n",
       "4     /mnt/wangyh/TCGA_bladder/TCGA_bladder/3bf47d5d...\n",
       "                            ...                        \n",
       "66    /mnt/wangyh/TCGA_bladder/TCGA_bladder/44f9dbf5...\n",
       "67    /mnt/wangyh/TCGA_bladder/TCGA_bladder/dddf8b78...\n",
       "68    /mnt/wangyh/TCGA_bladder/TCGA_bladder/724d0c82...\n",
       "69    /mnt/wangyh/TCGA_bladder/TCGA_bladder/2fce1392...\n",
       "70    /mnt/wangyh/TCGA_bladder/TCGA_bladder/a5328381...\n",
       "Name: 0, Length: 71, dtype: object"
      ]
     },
     "execution_count": 16,
     "metadata": {},
     "output_type": "execute_result"
    }
   ],
   "source": [
    "wsi_path = pd.read_csv('../config/wsi_path_for_pretraining.csv').iloc[:,1]\n",
    "wsi_path"
   ]
  },
  {
   "cell_type": "code",
   "execution_count": 21,
   "id": "a1ddea0a-79ae-4007-bc05-16dd253e7c9f",
   "metadata": {},
   "outputs": [
    {
     "data": {
      "text/plain": [
       "0      /mnt/wangyh/TCGA_bladder/TCGA_bladder/66c9a30b...\n",
       "1      /mnt/wangyh/TCGA_bladder/TCGA_bladder/474e93f2...\n",
       "2      /mnt/wangyh/TCGA_bladder/TCGA_bladder/9cf7130c...\n",
       "3      /mnt/wangyh/TCGA_bladder/TCGA_bladder/1f24af21...\n",
       "4      /mnt/wangyh/TCGA_bladder/TCGA_bladder/0fcdc140...\n",
       "                             ...                        \n",
       "413    /mnt/wangyh/TCGA_bladder/TCGA_bladder/c1fe25ca...\n",
       "414    /mnt/wangyh/TCGA_bladder/TCGA_bladder/a5328381...\n",
       "415    /mnt/wangyh/TCGA_bladder/TCGA_bladder/58e4093c...\n",
       "416    /mnt/wangyh/TCGA_bladder/TCGA_bladder/28ebbb69...\n",
       "417    /mnt/wangyh/TCGA_bladder/TCGA_bladder/bf5a00e8...\n",
       "Name: 0, Length: 418, dtype: object"
      ]
     },
     "execution_count": 21,
     "metadata": {},
     "output_type": "execute_result"
    }
   ],
   "source": [
    "slides = pd.read_csv('../config/slides.csv').iloc[:,1]\n",
    "slides"
   ]
  },
  {
   "cell_type": "code",
   "execution_count": null,
   "id": "cb6d9c3e-c77d-4d27-8651-cf4fb598d6d1",
   "metadata": {},
   "outputs": [],
   "source": [
    "#看一下slides的放大倍数\n",
    "def show_Mag(path):\n",
    "    sl = openslide.OpenSlide(path)\n",
    "    Mag = sl.properties['aperio.AppMag']\n",
    "    sl.close()\n",
    "    return Mag\n",
    "\n",
    "Mag_ls = []\n",
    "for i in slides:\n",
    "    Mag_ls.append(show_Mag(i))\n",
    "Mag_ls"
   ]
  },
  {
   "cell_type": "code",
   "execution_count": null,
   "id": "69ee2540-2929-4ded-ac51-87cd2f710b61",
   "metadata": {},
   "outputs": [],
   "source": []
  }
 ],
 "metadata": {
  "kernelspec": {
   "display_name": "patho_AI",
   "language": "python",
   "name": "patho_ai"
  },
  "language_info": {
   "codemirror_mode": {
    "name": "ipython",
    "version": 3
   },
   "file_extension": ".py",
   "mimetype": "text/x-python",
   "name": "python",
   "nbconvert_exporter": "python",
   "pygments_lexer": "ipython3",
   "version": "3.8.12"
  }
 },
 "nbformat": 4,
 "nbformat_minor": 5
}
