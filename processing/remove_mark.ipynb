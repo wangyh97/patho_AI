{
 "cells": [
  {
   "cell_type": "code",
   "execution_count": 5,
   "id": "fcbe626e-c1aa-43a1-9524-dcc22db9029e",
   "metadata": {},
   "outputs": [
    {
     "ename": "ModuleNotFoundError",
     "evalue": "No module named 'func'",
     "output_type": "error",
     "traceback": [
      "\u001b[1;31m---------------------------------------------------------------------------\u001b[0m",
      "\u001b[1;31mModuleNotFoundError\u001b[0m                       Traceback (most recent call last)",
      "\u001b[1;32mg:\\gitcode\\patho_AI\\processing\\remove_mark.ipynb Cell 1\u001b[0m in \u001b[0;36m<cell line: 3>\u001b[1;34m()\u001b[0m\n\u001b[0;32m      <a href='vscode-notebook-cell:/g%3A/gitcode/patho_AI/processing/remove_mark.ipynb#W0sZmlsZQ%3D%3D?line=0'>1</a>\u001b[0m \u001b[39mimport\u001b[39;00m \u001b[39msys\u001b[39;00m\n\u001b[0;32m      <a href='vscode-notebook-cell:/g%3A/gitcode/patho_AI/processing/remove_mark.ipynb#W0sZmlsZQ%3D%3D?line=1'>2</a>\u001b[0m \u001b[39mimport\u001b[39;00m \u001b[39mtifffile\u001b[39;00m \u001b[39mas\u001b[39;00m \u001b[39mtif\u001b[39;00m\n\u001b[1;32m----> <a href='vscode-notebook-cell:/g%3A/gitcode/patho_AI/processing/remove_mark.ipynb#W0sZmlsZQ%3D%3D?line=2'>3</a>\u001b[0m \u001b[39mfrom\u001b[39;00m \u001b[39mfunc\u001b[39;00m \u001b[39mimport\u001b[39;00m basic\n",
      "\u001b[1;31mModuleNotFoundError\u001b[0m: No module named 'func'"
     ]
    }
   ],
   "source": [
    "import sys\n",
    "import tifffile as tif"
   ]
  },
  {
   "attachments": {},
   "cell_type": "markdown",
   "id": "8a5c322a",
   "metadata": {},
   "source": [
    "libpath in windows"
   ]
  },
  {
   "cell_type": "code",
   "execution_count": null,
   "id": "1761333b",
   "metadata": {},
   "outputs": [],
   "source": [
    "lib_path = ['G:\\\\gitcode\\\\python-wsi-preprocessing\\\\deephistopath\\\\wsi']\n",
    "for i in lib_path:\n",
    "    sys.path.append(i)"
   ]
  },
  {
   "attachments": {},
   "cell_type": "markdown",
   "id": "d41e95c4",
   "metadata": {},
   "source": [
    "libpath in linux"
   ]
  },
  {
   "cell_type": "code",
   "execution_count": null,
   "id": "d13a587b",
   "metadata": {},
   "outputs": [],
   "source": [
    "lib_path = ['/home/wangyh/uro_biomarker/python-wsi-preprocessing/deephistopath/wsi']\n",
    "for i in lib_path:\n",
    "    sys.path.append(i)"
   ]
  },
  {
   "cell_type": "code",
   "execution_count": 11,
   "id": "1d7800ed-dcd0-44ab-bf1f-178cfa022783",
   "metadata": {},
   "outputs": [
    {
     "ename": "ModuleNotFoundError",
     "evalue": "No module named 'deephistopath'",
     "output_type": "error",
     "traceback": [
      "\u001b[0;31m---------------------------------------------------------------------------\u001b[0m",
      "\u001b[0;31mModuleNotFoundError\u001b[0m                       Traceback (most recent call last)",
      "Input \u001b[0;32mIn [11]\u001b[0m, in \u001b[0;36m<cell line: 1>\u001b[0;34m()\u001b[0m\n\u001b[0;32m----> 1\u001b[0m \u001b[38;5;28;01mimport\u001b[39;00m \u001b[38;5;21;01mfilter\u001b[39;00m\n\u001b[1;32m      2\u001b[0m \u001b[38;5;28;01mimport\u001b[39;00m \u001b[38;5;21;01mslide\u001b[39;00m\n\u001b[1;32m      3\u001b[0m \u001b[38;5;28;01mimport\u001b[39;00m \u001b[38;5;21;01mtiles\u001b[39;00m\n",
      "File \u001b[0;32m~/uro_biomarker/python-wsi-preprocessing/deephistopath/wsi/filter.py:30\u001b[0m, in \u001b[0;36m<module>\u001b[0;34m\u001b[0m\n\u001b[1;32m     27\u001b[0m \u001b[38;5;28;01mimport\u001b[39;00m \u001b[38;5;21;01mskimage\u001b[39;00m\u001b[38;5;21;01m.\u001b[39;00m\u001b[38;5;21;01mmorphology\u001b[39;00m \u001b[38;5;28;01mas\u001b[39;00m \u001b[38;5;21;01msk_morphology\u001b[39;00m\n\u001b[1;32m     28\u001b[0m \u001b[38;5;28;01mimport\u001b[39;00m \u001b[38;5;21;01mskimage\u001b[39;00m\u001b[38;5;21;01m.\u001b[39;00m\u001b[38;5;21;01msegmentation\u001b[39;00m \u001b[38;5;28;01mas\u001b[39;00m \u001b[38;5;21;01msk_segmentation\u001b[39;00m\n\u001b[0;32m---> 30\u001b[0m \u001b[38;5;28;01mfrom\u001b[39;00m \u001b[38;5;21;01mdeephistopath\u001b[39;00m\u001b[38;5;21;01m.\u001b[39;00m\u001b[38;5;21;01mwsi\u001b[39;00m \u001b[38;5;28;01mimport\u001b[39;00m slide\n\u001b[1;32m     31\u001b[0m \u001b[38;5;28;01mfrom\u001b[39;00m \u001b[38;5;21;01mdeephistopath\u001b[39;00m\u001b[38;5;21;01m.\u001b[39;00m\u001b[38;5;21;01mwsi\u001b[39;00m \u001b[38;5;28;01mimport\u001b[39;00m util\n\u001b[1;32m     32\u001b[0m \u001b[38;5;28;01mfrom\u001b[39;00m \u001b[38;5;21;01mdeephistopath\u001b[39;00m\u001b[38;5;21;01m.\u001b[39;00m\u001b[38;5;21;01mwsi\u001b[39;00m\u001b[38;5;21;01m.\u001b[39;00m\u001b[38;5;21;01mutil\u001b[39;00m \u001b[38;5;28;01mimport\u001b[39;00m Time\n",
      "\u001b[0;31mModuleNotFoundError\u001b[0m: No module named 'deephistopath'"
     ]
    }
   ],
   "source": [
    "import filter\n",
    "import slide\n",
    "import tiles\n",
    "import utils"
   ]
  },
  {
   "cell_type": "code",
   "execution_count": null,
   "id": "5441f42b-507a-4c9b-8845-cb8a03cf50d7",
   "metadata": {},
   "outputs": [],
   "source": []
  }
 ],
 "metadata": {
  "kernelspec": {
   "display_name": "cv_py38",
   "language": "python",
   "name": "python3"
  },
  "language_info": {
   "codemirror_mode": {
    "name": "ipython",
    "version": 3
   },
   "file_extension": ".py",
   "mimetype": "text/x-python",
   "name": "python",
   "nbconvert_exporter": "python",
   "pygments_lexer": "ipython3",
   "version": "3.8.13"
  },
  "vscode": {
   "interpreter": {
    "hash": "4e28155199267a10c509b59e8e194816b4d500ee9999e65bedc01748a29bbc7d"
   }
  }
 },
 "nbformat": 4,
 "nbformat_minor": 5
}
