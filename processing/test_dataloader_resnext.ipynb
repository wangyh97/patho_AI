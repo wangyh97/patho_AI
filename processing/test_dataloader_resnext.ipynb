{
 "cells": [
  {
   "cell_type": "code",
   "execution_count": 1,
   "id": "5589476a-dff6-4d1a-918c-b6a364403b09",
   "metadata": {},
   "outputs": [
    {
     "name": "stderr",
     "output_type": "stream",
     "text": [
      "/home/wangyh/miniconda3/envs/patho_AI/lib/python3.8/site-packages/tqdm/auto.py:22: TqdmWarning: IProgress not found. Please update jupyter and ipywidgets. See https://ipywidgets.readthedocs.io/en/stable/user_install.html\n",
      "  from .autonotebook import tqdm as notebook_tqdm\n"
     ]
    }
   ],
   "source": [
    "from torchvision import transforms, datasets\n",
    "import os\n",
    "import glob\n",
    "from random import shuffle\n",
    "import torch\n",
    "from pathlib import Path\n",
    "from PIL import Image\n",
    "from matplotlib import pyplot as plt\n",
    "import scipy.io as scio\n",
    "from func import basic,visualization\n",
    "import numpy as np\n",
    "import pandas as pd"
   ]
  },
  {
   "cell_type": "markdown",
   "id": "8258977b-4e4b-422d-951d-163e3beb6fd0",
   "metadata": {
    "jp-MarkdownHeadingCollapsed": true
   },
   "source": [
    "# 以5x做单折测试 -- 旧 混合版"
   ]
  },
  {
   "cell_type": "markdown",
   "id": "e411f3d9-e52c-4764-afe5-0f99a96e96e4",
   "metadata": {},
   "source": [
    "## 分配数据集"
   ]
  },
  {
   "cell_type": "code",
   "execution_count": 171,
   "id": "af3ee2b9-0449-4bc7-bbfc-2bd6147e435c",
   "metadata": {},
   "outputs": [],
   "source": [
    "data_5x = glob.glob('/mnt/wangyh/CN_patches/*/*/5X/T*')\n",
    "# set of 5x tumor tiles, has a length of 28277"
   ]
  },
  {
   "cell_type": "code",
   "execution_count": 21,
   "id": "a29ee94d-5726-46ab-9a66-af5c0297807d",
   "metadata": {},
   "outputs": [],
   "source": [
    "# 5折交叉\n",
    "size_val = len(data_5x)//5\n",
    "# size_train = len(data_5x)- size_val\n",
    "\n",
    "shuffle(data_5x)\n",
    "val = data_5x[:size_val]\n",
    "train = data_5x[size_val:]"
   ]
  },
  {
   "cell_type": "code",
   "execution_count": null,
   "id": "4db7f183-7376-4589-9052-3398cb26f430",
   "metadata": {},
   "outputs": [],
   "source": [
    "IMG_EXTENSIONS = ['.jpg', '.jpeg', '.png', '.ppm', '.bmp', '.pgm']"
   ]
  },
  {
   "cell_type": "code",
   "execution_count": 39,
   "id": "ab6bf1c7-c331-493b-86a8-c94c4e1f39b4",
   "metadata": {},
   "outputs": [],
   "source": [
    "def myData(args):\n",
    "# data_transform, pay attention that the input of Normalize() is Tensor and the input of RandomResizedCrop() or RandomHorizontalFlip() is PIL Image\n",
    "    data_transforms = {\n",
    "        'train': transforms.Compose([\n",
    "            transforms.Resize(256),\n",
    "            transforms.RandomCrop(224),\n",
    "            transforms.RandomHorizontalFlip(),\n",
    "            transforms.ToTensor(),\n",
    "            transforms.Normalize([0.485, 0.456, 0.406], [0.229, 0.224, 0.225])\n",
    "        ]),\n",
    "        'val': transforms.Compose([\n",
    "            transforms.Resize(256),\n",
    "            transforms.CenterCrop(224),\n",
    "            transforms.ToTensor(),\n",
    "            transforms.Normalize([0.485, 0.456, 0.406], [0.229, 0.224, 0.225])\n",
    "        ]),\n",
    "    }\n",
    "    image_datasets = {}\n",
    "    #image_datasets['train'] = datasets.ImageFolder(os.path.join(args.data_dir, 'ILSVRC2012_img_train'), data_transforms['train'])\n",
    "\n",
    "    image_datasets['train'] = myDataSet(train,data_transforms=data_transforms['train'])\n",
    "    image_datasets['val'] = myDataSet(val,data_transforms=data_transforms['val'])\n",
    "\n",
    "    # wrap your data and label into Tensor\n",
    "    dataloders = {x: torch.utils.data.DataLoader(image_datasets[x],\n",
    "                                                 batch_size=args.batch_size,\n",
    "                                                 shuffle=True,\n",
    "                                                 num_workers=args.num_workers) for x in ['train', 'val']}\n",
    "\n",
    "\n",
    "    dataset_sizes = {x: len(image_datasets[x]) for x in ['train', 'val']}\n",
    "    return dataloders, dataset_sizes\n",
    "\n",
    "class myDataSet(torch.utils.data.Dataset):\n",
    "    def __init__(self, img_list,label,data_transforms = None):\n",
    "        label_dic = {\n",
    "            'H':0,\n",
    "            'L':1\n",
    "        }\n",
    "        self.img_list = img_list\n",
    "        self.label_dic = label_dic\n",
    "        self.label = label\n",
    "        self.data_transforms = data_transforms\n",
    "    def __len__(self):\n",
    "        return len(self.img_list)\n",
    "\n",
    "    def __getitem__(self, index):\n",
    "        label_dic = {\n",
    "            'H':0,\n",
    "            'L':1\n",
    "        }\n",
    "        item = self.img_list[index]\n",
    "        img = Image.open(item)\n",
    "        if self.data_transforms is not None:\n",
    "            try:\n",
    "                img = self.data_transforms(img)\n",
    "            except:\n",
    "                print(\"Cannot transform image: {}\".format(self.img_list[index]))\n",
    "        label = label_dic[self.label]\n",
    "        return img, label"
   ]
  },
  {
   "cell_type": "markdown",
   "id": "b6b52758-8fe2-4871-96a1-0078a983bc62",
   "metadata": {
    "jp-MarkdownHeadingCollapsed": true
   },
   "source": [
    "# 对5x数据集，resnext表现评估"
   ]
  },
  {
   "cell_type": "code",
   "execution_count": 89,
   "id": "cc39d4eb-d758-4cb5-b733-14fa20a85f49",
   "metadata": {},
   "outputs": [],
   "source": [
    "loss = np.load(\"./resnext/output/lossdata.npy\",allow_pickle= True).item()"
   ]
  },
  {
   "cell_type": "code",
   "execution_count": 94,
   "id": "78bcb835-05fc-49aa-90f4-47276015b465",
   "metadata": {},
   "outputs": [],
   "source": [
    "acc = np.load('./resnext/output/accdata.npy',allow_pickle=True).item()"
   ]
  },
  {
   "cell_type": "code",
   "execution_count": 121,
   "id": "125a9f00-1948-4f9f-9913-34d68fd95e4b",
   "metadata": {},
   "outputs": [],
   "source": [
    "df_loss = pd.DataFrame(loss)"
   ]
  },
  {
   "cell_type": "code",
   "execution_count": null,
   "id": "375775ef-e27e-4764-8a64-dabc2d7858fd",
   "metadata": {},
   "outputs": [],
   "source": [
    "for x in ['train','val']:\n",
    "    acc[x] = [i.cpu() for i in acc[x]]"
   ]
  },
  {
   "cell_type": "code",
   "execution_count": 115,
   "id": "bffa843d-f5b9-42c1-8dbf-2514cf6aadac",
   "metadata": {},
   "outputs": [],
   "source": [
    "df_acc = pd.DataFrame(acc)"
   ]
  },
  {
   "cell_type": "code",
   "execution_count": 130,
   "id": "1b398f4b-2d1e-4a9f-87e0-7751706a6971",
   "metadata": {},
   "outputs": [
    {
     "data": {
      "text/plain": [
       "<matplotlib.legend.Legend at 0x7fcacb39bdf0>"
      ]
     },
     "execution_count": 130,
     "metadata": {},
     "output_type": "execute_result"
    },
    {
     "data": {
      "image/png": "[encoded data removed]",
      "text/plain": [
       "<Figure size 2160x720 with 2 Axes>"
      ]
     },
     "metadata": {
      "needs_background": "light"
     },
     "output_type": "display_data"
    }
   ],
   "source": [
    "fig,axes = plt.subplots(1,2,figsize = (30,10))\n",
    "ax1 = axes[0]\n",
    "ax1.set_title('loss')\n",
    "ax1.plot(df_loss['train'],label = 'train')\n",
    "ax1.plot(df_loss['val'],label = 'loss')\n",
    "ax1.legend()\n",
    "\n",
    "\n",
    "ax2 = axes[1]\n",
    "ax2.set_title('accuracy')\n",
    "ax2.plot(df_acc['train'],label = 'train')\n",
    "ax2.plot(df_acc['val'],label = 'loss')\n",
    "ax2.legend()"
   ]
  },
  {
   "cell_type": "markdown",
   "id": "1bccef7b-7be8-495b-9e19-b6deeee60a15",
   "metadata": {},
   "source": [
    "# 用内部数据自己做一下验证"
   ]
  },
  {
   "cell_type": "markdown",
   "id": "3dc81c5e-581f-4f5c-acac-ed800bdaa431",
   "metadata": {},
   "source": [
    "在resnext文件夹里面进行验证，不在该文件夹会报namespace错误：\n",
    "\n",
    "AttributeError: Can't get attribute 'ResNeXt' on <module 'resnext' (namespace)>"
   ]
  },
  {
   "cell_type": "markdown",
   "id": "b48d6112-29fa-4f31-84d0-8e6a065147ea",
   "metadata": {},
   "source": [
    "# 以5x做测试 -- 新 patient balance版"
   ]
  },
  {
   "cell_type": "code",
   "execution_count": 2,
   "id": "e077a2b1-f9fa-4860-8a43-563b1cf3eb30",
   "metadata": {},
   "outputs": [],
   "source": [
    "class dataset_reform():\n",
    "    def __init__(self,dataset):\n",
    "        ''' \n",
    "        args:\n",
    "            dataset:path of a npy file,containing a dict, arranged in form:\n",
    "                {'train_list':<a dataframe>,\n",
    "                'val_list':<a dataframe>,\n",
    "                'test_list':<a dataframe>\n",
    "                },\n",
    "            formed in dataset segmentation.ipynb\n",
    "        '''\n",
    "        data = np.load(dataset,allow_pickle=True).item()\n",
    "\n",
    "        self.training = data['train_list']\n",
    "        self.val = data['val_list']\n",
    "        self.testing = data['test_list']\n",
    "\n",
    "        self.training_count = self.__get_patches_count(self.training)\n",
    "        self.val_count = self.__get_patches_count(self.val)\n",
    "        self.testing_count = self.__get_patches_count(self.testing)\n",
    "    \n",
    "    def __get_patches_count(self,data):\n",
    "        '''\n",
    "        args:\n",
    "            data:['self.training','self.val','self.testing']\n",
    "        returns:\n",
    "            a list of patches count in each list\n",
    "        '''\n",
    "        return data.iloc[:,2]\n",
    "\n",
    "    def __get_patches_count_with_label(self,data):\n",
    "        '''\n",
    "        H/L in each dataset is equal\n",
    "        '''\n",
    "        H_count = data[data['TMB_H/L']=='H'].iloc[:,2]\n",
    "        L_count = data[data['TMB_H/L']=='L'].iloc[:,2]\n",
    "        return H_count,L_count\n",
    "    \n",
    "    def __getattribute__(self, name: str):\n",
    "        return object.__getattribute__(self,name)\n",
    "    \n",
    "    def get(self,*args):\n",
    "        return self.__get_patches_count_with_label(*args)"
   ]
  },
  {
   "cell_type": "code",
   "execution_count": 3,
   "id": "4164ba17-4885-4e4e-92e6-93bd3aaaa340",
   "metadata": {},
   "outputs": [],
   "source": [
    "dataset_5x = dataset_reform('../config/data_segmentation_csv/5X_grouping.npy')"
   ]
  },
  {
   "cell_type": "markdown",
   "id": "56581d7a-f4fa-4799-acbe-fcdf27bb84ae",
   "metadata": {},
   "source": [
    "1. 每个病人都取H median数量的patch：\n",
    "\n",
    "    根据事先对dataset的统计，H median无一例外均小于L median。由于patch少的和patch多的分布并不均匀，median相较于mean更能够代表整体统计分布\n",
    "    \n",
    "    对于L的病人，取H median，超过1/2的人欠采样，余下者过采样\n",
    "    \n",
    "    对于H的病人，1/2的人欠采样，1/2的人过采样\n",
    "    \n",
    "    但由于L：H>1，此时L patches：H patches = L / H,比例严重失衡。故所有H病人均需要过采样 / data_aug，使得最终得到的H/L位于0.4-0.6之间，以获得更好的稳定性。\n",
    "    \n",
    "2. 每个病人都去max(H/L count)的patch：避免数据损失过多 对比两种方法的效果\n",
    "3. 通过torch中dataloader的sampling解决\n",
    "4. 通过在net里替换class_weighted cross entrophy loss解决"
   ]
  },
  {
   "cell_type": "code",
   "execution_count": 4,
   "id": "5e0634df-360f-44b0-852e-3b64ac5f15a7",
   "metadata": {},
   "outputs": [],
   "source": [
    "train_df = dataset_5x.training\n",
    "val_df = dataset_5x.val\n",
    "test_df = dataset_5x.testing\n",
    "\n",
    "def get_patches_count_with_label(data):\n",
    "    '''\n",
    "        H/L in each dataset is equal\n",
    "        '''\n",
    "    H_count = data[data['TMB_H/L']=='H']['5x']\n",
    "    L_count = data[data['TMB_H/L']=='L'].iloc[:,2]\n",
    "    return H_count,L_count\n",
    "\n",
    "train_H_count,train_L_count = get_patches_count_with_label(train_df) \n",
    "target_num = round(train_H_count.median())"
   ]
  },
  {
   "cell_type": "code",
   "execution_count": 7,
   "id": "4346744a-0402-45aa-9e77-c76d6d1c4cb9",
   "metadata": {},
   "outputs": [
    {
     "data": {
      "text/html": [
       "<div>\n",
       "<style scoped>\n",
       "    .dataframe tbody tr th:only-of-type {\n",
       "        vertical-align: middle;\n",
       "    }\n",
       "\n",
       "    .dataframe tbody tr th {\n",
       "        vertical-align: top;\n",
       "    }\n",
       "\n",
       "    .dataframe thead th {\n",
       "        text-align: right;\n",
       "    }\n",
       "</style>\n",
       "<table border=\"1\" class=\"dataframe\">\n",
       "  <thead>\n",
       "    <tr style=\"text-align: right;\">\n",
       "      <th></th>\n",
       "      <th>dir_uuid</th>\n",
       "      <th>TMB_H/L</th>\n",
       "      <th>5x</th>\n",
       "      <th>path</th>\n",
       "      <th>img_list</th>\n",
       "    </tr>\n",
       "  </thead>\n",
       "  <tbody>\n",
       "    <tr>\n",
       "      <th>1</th>\n",
       "      <td>bff29d20-3a8f-4a5d-a2de-0e142390551d</td>\n",
       "      <td>L</td>\n",
       "      <td>265</td>\n",
       "      <td>/mnt/wangyh/CN_patches/L/bff29d20-3a8f-4a5d-a2...</td>\n",
       "      <td>[/mnt/wangyh/CN_patches/L/bff29d20-3a8f-4a5d-a...</td>\n",
       "    </tr>\n",
       "    <tr>\n",
       "      <th>2</th>\n",
       "      <td>edcf4ae6-c985-40ad-aff4-a0ce31b46aeb</td>\n",
       "      <td>L</td>\n",
       "      <td>229</td>\n",
       "      <td>/mnt/wangyh/CN_patches/L/edcf4ae6-c985-40ad-af...</td>\n",
       "      <td>[/mnt/wangyh/CN_patches/L/edcf4ae6-c985-40ad-a...</td>\n",
       "    </tr>\n",
       "    <tr>\n",
       "      <th>3</th>\n",
       "      <td>e20c2176-2b57-4cc9-a68a-eb6933bf60b1</td>\n",
       "      <td>L</td>\n",
       "      <td>3</td>\n",
       "      <td>/mnt/wangyh/CN_patches/L/e20c2176-2b57-4cc9-a6...</td>\n",
       "      <td>[/mnt/wangyh/CN_patches/L/e20c2176-2b57-4cc9-a...</td>\n",
       "    </tr>\n",
       "    <tr>\n",
       "      <th>5</th>\n",
       "      <td>70e383bf-91cb-4a65-b12a-950f365c4d62</td>\n",
       "      <td>L</td>\n",
       "      <td>135</td>\n",
       "      <td>/mnt/wangyh/CN_patches/L/70e383bf-91cb-4a65-b1...</td>\n",
       "      <td>[/mnt/wangyh/CN_patches/L/70e383bf-91cb-4a65-b...</td>\n",
       "    </tr>\n",
       "    <tr>\n",
       "      <th>6</th>\n",
       "      <td>790d96d7-1191-4cf7-9c78-3e879723afd8</td>\n",
       "      <td>L</td>\n",
       "      <td>305</td>\n",
       "      <td>/mnt/wangyh/CN_patches/L/790d96d7-1191-4cf7-9c...</td>\n",
       "      <td>[/mnt/wangyh/CN_patches/L/790d96d7-1191-4cf7-9...</td>\n",
       "    </tr>\n",
       "  </tbody>\n",
       "</table>\n",
       "</div>"
      ],
      "text/plain": [
       "                               dir_uuid TMB_H/L   5x  \\\n",
       "1  bff29d20-3a8f-4a5d-a2de-0e142390551d       L  265   \n",
       "2  edcf4ae6-c985-40ad-aff4-a0ce31b46aeb       L  229   \n",
       "3  e20c2176-2b57-4cc9-a68a-eb6933bf60b1       L    3   \n",
       "5  70e383bf-91cb-4a65-b12a-950f365c4d62       L  135   \n",
       "6  790d96d7-1191-4cf7-9c78-3e879723afd8       L  305   \n",
       "\n",
       "                                                path  \\\n",
       "1  /mnt/wangyh/CN_patches/L/bff29d20-3a8f-4a5d-a2...   \n",
       "2  /mnt/wangyh/CN_patches/L/edcf4ae6-c985-40ad-af...   \n",
       "3  /mnt/wangyh/CN_patches/L/e20c2176-2b57-4cc9-a6...   \n",
       "5  /mnt/wangyh/CN_patches/L/70e383bf-91cb-4a65-b1...   \n",
       "6  /mnt/wangyh/CN_patches/L/790d96d7-1191-4cf7-9c...   \n",
       "\n",
       "                                            img_list  \n",
       "1  [/mnt/wangyh/CN_patches/L/bff29d20-3a8f-4a5d-a...  \n",
       "2  [/mnt/wangyh/CN_patches/L/edcf4ae6-c985-40ad-a...  \n",
       "3  [/mnt/wangyh/CN_patches/L/e20c2176-2b57-4cc9-a...  \n",
       "5  [/mnt/wangyh/CN_patches/L/70e383bf-91cb-4a65-b...  \n",
       "6  [/mnt/wangyh/CN_patches/L/790d96d7-1191-4cf7-9...  "
      ]
     },
     "execution_count": 7,
     "metadata": {},
     "output_type": "execute_result"
    }
   ],
   "source": [
    "train_df.head()"
   ]
  },
  {
   "cell_type": "code",
   "execution_count": 10,
   "id": "76172fce-7f14-41dc-b432-c70b7555f837",
   "metadata": {},
   "outputs": [],
   "source": [
    "labels = np.zeros(2)"
   ]
  },
  {
   "cell_type": "code",
   "execution_count": 11,
   "id": "0cc27f88-5a1c-4cab-b639-be59e4b0960d",
   "metadata": {},
   "outputs": [
    {
     "ename": "ValueError",
     "evalue": "setting an array element with a sequence.",
     "output_type": "error",
     "traceback": [
      "\u001b[0;31m---------------------------------------------------------------------------\u001b[0m",
      "\u001b[0;31mTypeError\u001b[0m                                 Traceback (most recent call last)",
      "File \u001b[0;32m~/miniconda3/envs/patho_AI/lib/python3.8/site-packages/pandas/core/series.py:191\u001b[0m, in \u001b[0;36m_coerce_method.<locals>.wrapper\u001b[0;34m(self)\u001b[0m\n\u001b[1;32m    190\u001b[0m     \u001b[38;5;28;01mreturn\u001b[39;00m converter(\u001b[38;5;28mself\u001b[39m\u001b[38;5;241m.\u001b[39miloc[\u001b[38;5;241m0\u001b[39m])\n\u001b[0;32m--> 191\u001b[0m \u001b[38;5;28;01mraise\u001b[39;00m \u001b[38;5;167;01mTypeError\u001b[39;00m(\u001b[38;5;124mf\u001b[39m\u001b[38;5;124m\"\u001b[39m\u001b[38;5;124mcannot convert the series to \u001b[39m\u001b[38;5;132;01m{\u001b[39;00mconverter\u001b[38;5;132;01m}\u001b[39;00m\u001b[38;5;124m\"\u001b[39m)\n",
      "\u001b[0;31mTypeError\u001b[0m: cannot convert the series to <class 'float'>",
      "\nThe above exception was the direct cause of the following exception:\n",
      "\u001b[0;31mValueError\u001b[0m                                Traceback (most recent call last)",
      "Input \u001b[0;32mIn [11]\u001b[0m, in \u001b[0;36m<cell line: 1>\u001b[0;34m()\u001b[0m\n\u001b[0;32m----> 1\u001b[0m labels[\u001b[38;5;241m0\u001b[39m]\u001b[38;5;241m=\u001b[39mtrain_df\u001b[38;5;241m.\u001b[39miloc[\u001b[38;5;241m1\u001b[39m]\n",
      "\u001b[0;31mValueError\u001b[0m: setting an array element with a sequence."
     ]
    }
   ],
   "source": [
    "labels[0]=train_df.iloc[1]"
   ]
  },
  {
   "cell_type": "markdown",
   "id": "54806508-8b18-4fd6-a52b-bacc0373ab68",
   "metadata": {},
   "source": [
    "# 方法1 / 2：每个patient取相同patch count，在patient level进行under/subsample"
   ]
  },
  {
   "cell_type": "markdown",
   "id": "1c08dcd6-75bb-4257-a23a-61d84280e7bb",
   "metadata": {},
   "source": [
    "## 测试：欠采样"
   ]
  },
  {
   "cell_type": "code",
   "execution_count": 6,
   "id": "168676cb-4f86-4376-9f2e-66ea470d6d34",
   "metadata": {},
   "outputs": [
    {
     "name": "stdout",
     "output_type": "stream",
     "text": [
      "consuming0.028205156326293945s\n"
     ]
    }
   ],
   "source": [
    "from imblearn.combine import SMOTEENN\n",
    "from collections import Counter\n",
    "from sklearn.datasets import make_classification\n",
    "import time\n",
    "from tqdm import tqdm\n",
    "\n",
    "data_transforms = transforms.Compose([\n",
    "            transforms.Resize(256),\n",
    "            transforms.RandomCrop(224),\n",
    "            transforms.RandomHorizontalFlip(),\n",
    "            transforms.ToTensor(),\n",
    "            transforms.Normalize([0.485, 0.456, 0.406], [0.229, 0.224, 0.225])\n",
    "        ])\n",
    "\n",
    "tick = time.time()\n",
    "img_path_list = sum(train_df['img_list'],[])\n",
    "\n",
    "#------------------ using map-------------------------#\n",
    "# def path2img(path):\n",
    "#     with Image.open(path) as img:\n",
    "#         if data_transforms is not None:\n",
    "#             try:\n",
    "#                 img = data_transforms(img)\n",
    "#             except:\n",
    "#                 print('Cannot transform image{i}')\n",
    "#         return img\n",
    "# img_list = list(map(path2img,tqdm(img_path_list)))\n",
    "\n",
    "#---------------------using for cycle to iterate---------------------------#\n",
    "# img_list = []\n",
    "# for i in tqdm(img_path_list):\n",
    "#     with Image.open(i) as img:\n",
    "#         if data_transforms is not None:\n",
    "#             try:\n",
    "#                 img = data_transforms(img)\n",
    "#             except:\n",
    "#                 print('Cannot transform image{i}')\n",
    "#         img_list.append(img)\n",
    "    \n",
    "label_list = sum([list(train_df['TMB_H/L'].iloc[i])*train_df['5x'].iloc[i] for i in range(train_df.shape[0])],[])\n",
    "\n",
    "print(f'consuming{time.time()-tick}s')"
   ]
  },
  {
   "cell_type": "markdown",
   "id": "5cd5581b-b962-4349-8e29-7821145edc9c",
   "metadata": {},
   "source": [
    "use multiprocessing -- much faster"
   ]
  },
  {
   "cell_type": "code",
   "execution_count": 7,
   "id": "df1d5669-a544-421b-b1e2-bbf8982a6dda",
   "metadata": {},
   "outputs": [
    {
     "name": "stdout",
     "output_type": "stream",
     "text": [
      "Overwriting temp.py\n"
     ]
    }
   ],
   "source": [
    "%%writefile temp.py\n",
    "from PIL import Image\n",
    "from torchvision import transforms, datasets\n",
    "from imblearn.combine import SMOTETomek\n",
    "\n",
    "data_transforms = transforms.Compose([\n",
    "            transforms.Resize(256),\n",
    "            transforms.RandomCrop(224),\n",
    "            transforms.RandomHorizontalFlip(),\n",
    "            transforms.ToTensor(),\n",
    "            transforms.Normalize([0.485, 0.456, 0.406], [0.229, 0.224, 0.225])\n",
    "        ])\n",
    "\n",
    "def load_and_transform_image(img_path):\n",
    "    with Image.open(img_path) as img:\n",
    "        if data_transforms is not None:\n",
    "            try:\n",
    "                img = data_transforms(img)\n",
    "            except:\n",
    "                print(f'Cannot transform image {img_path}')\n",
    "        return img\n",
    "    \n",
    "def resample(tup):\n",
    "    img,lab = tup\n",
    "    images_stacked = list(img)\n",
    "    label_list_seg = list(lab)\n",
    "    \n",
    "    smoteenn = SMOTETomek(sampling_strategy='not majority',random_state = 10)\n",
    "    resampled_images, resampled_labels = smoteenn.fit_resample(images_stacked, label_list_seg)\n",
    "    return resampled_images, resampled_labels\n",
    "\n",
    "def batch_resample(images_stacked,label_list):\n",
    "    for i in range(images_stacked.shape[0]//1000+1):\n",
    "        if i != range(images_stacked.shape[0]//1000+1)[-1]:\n",
    "            yield images_stacked[i*1000:(i+1)*1000],label_list[i*1000:(i+1)*1000]\n",
    "        elif i == images_stacked.shape[0]//1000:\n",
    "            yield images_stacked[i*1000:],label_list[i*1000:]"
   ]
  },
  {
   "cell_type": "code",
   "execution_count": 8,
   "id": "ea82643f-e84c-470c-bc5f-d480d133e9cb",
   "metadata": {},
   "outputs": [
    {
     "name": "stderr",
     "output_type": "stream",
     "text": [
      "100%|██████████| 19463/19463 [03:10<00:00, 102.13it/s]\n"
     ]
    }
   ],
   "source": [
    "from multiprocess import Pool,set_start_method\n",
    "from tqdm import tqdm\n",
    "from temp import load_and_transform_image\n",
    "\n",
    "if __name__ == '__main__':\n",
    "    img_list = []\n",
    "    with Pool(24) as p:\n",
    "        for img in p.imap(load_and_transform_image,tqdm(img_path_list)):\n",
    "            img_list.append(img)"
   ]
  },
  {
   "cell_type": "code",
   "execution_count": 10,
   "id": "c097ac86-3bbb-4077-b763-ae48d4c84130",
   "metadata": {},
   "outputs": [
    {
     "name": "stderr",
     "output_type": "stream",
     "text": [
      "images_np: 100%|██████████| 19463/19463 [00:10<00:00, 1862.13it/s]\n",
      "images_2d: 100%|██████████| 19463/19463 [00:00<00:00, 1158221.09it/s]\n"
     ]
    },
    {
     "name": "stdout",
     "output_type": "stream",
     "text": [
      "consuming10.175659656524658s\n"
     ]
    }
   ],
   "source": [
    "images_np = list(map(np.array, tqdm(img_list, desc='images_np')))\n",
    "label_list_seg = label_list\n",
    "# Reshape the images to 2D arrays\n",
    "images_2d = [img.reshape(-1, img.shape[0] * img.shape[1] * img.shape[2]) for img in tqdm(images_np,desc='images_2d')]\n",
    "\n",
    "#shuffle them all \n",
    "combined = list(zip(images_2d,label_list))\n",
    "shuffle(combined)\n",
    "images_2d[:],label_list[:] = zip(*combined)\n",
    "\n",
    "# Stack the 2D arrays into a single 2D array\n",
    "tock = time.time()\n",
    "images_stacked = np.vstack(images_2d)\n",
    "print(f'consuming{time.time()-tock}s')"
   ]
  },
  {
   "cell_type": "code",
   "execution_count": 10,
   "id": "7aa58d88-192d-426b-8230-5c3a87aa485c",
   "metadata": {},
   "outputs": [],
   "source": [
    "# # Create a SMOTEENN instance\n",
    "# from imblearn.combine import SMOTETomek\n",
    "# smoteenn = SMOTETomek(sampling_strategy='not majority',random_state = 10)"
   ]
  },
  {
   "cell_type": "code",
   "execution_count": null,
   "id": "dffcbb7f-33ce-46cb-b530-27dc457465ea",
   "metadata": {},
   "outputs": [
    {
     "name": "stderr",
     "output_type": "stream",
     "text": [
      " 75%|███████▌  | 15/20 [19:34<14:29, 173.91s/it]"
     ]
    }
   ],
   "source": [
    "# #wouldnt work\n",
    "# from temp import resample,batch_resample\n",
    "\n",
    "# if __name__ == '__main__':\n",
    "    \n",
    "#     tock = time.time()\n",
    "#     resampled_images = []\n",
    "#     resampled_labels = []\n",
    "#     batch_iter = batch_resample(images_stacked,label_list)\n",
    "#     batch_list = [i for i in batch_iter]\n",
    "#     with Pool(24) as p:\n",
    "#         for batch_resampled_images,batch_resampled_labels in p.imap(resample,tqdm(batch_list)):\n",
    "#             resampled_images.append(batch_resampled_images)\n",
    "#             resampled_labels.append(batch_resampled_labels)\n",
    "#     p.close()\n",
    "#     p.join()\n",
    "#     print(f'consuming{time.time()-tock}s')"
   ]
  },
  {
   "cell_type": "code",
   "execution_count": 11,
   "id": "f8b9fe9a-6acb-4463-94a4-cc9af21791d6",
   "metadata": {},
   "outputs": [
    {
     "ename": "NameError",
     "evalue": "name 'smoteenn' is not defined",
     "output_type": "error",
     "traceback": [
      "\u001b[0;31m---------------------------------------------------------------------------\u001b[0m",
      "\u001b[0;31mNameError\u001b[0m                                 Traceback (most recent call last)",
      "Input \u001b[0;32mIn [11]\u001b[0m, in \u001b[0;36m<cell line: 3>\u001b[0;34m()\u001b[0m\n\u001b[1;32m      1\u001b[0m \u001b[38;5;66;03m# # Resample the data using SMOTEENN\u001b[39;00m\n\u001b[1;32m      2\u001b[0m tock \u001b[38;5;241m=\u001b[39m time\u001b[38;5;241m.\u001b[39mtime()\n\u001b[0;32m----> 3\u001b[0m resampled_images, resampled_labels \u001b[38;5;241m=\u001b[39m \u001b[43msmoteenn\u001b[49m\u001b[38;5;241m.\u001b[39mfit_resample(images_stacked, label_list)\n\u001b[1;32m      4\u001b[0m \u001b[38;5;28mprint\u001b[39m(\u001b[38;5;124mf\u001b[39m\u001b[38;5;124m'\u001b[39m\u001b[38;5;124mconsuming\u001b[39m\u001b[38;5;132;01m{\u001b[39;00mtime\u001b[38;5;241m.\u001b[39mtime()\u001b[38;5;241m-\u001b[39mtock\u001b[38;5;132;01m}\u001b[39;00m\u001b[38;5;124ms\u001b[39m\u001b[38;5;124m'\u001b[39m)\n",
      "\u001b[0;31mNameError\u001b[0m: name 'smoteenn' is not defined"
     ]
    },
    {
     "name": "stdout",
     "output_type": "stream",
     "text": [
      "ERROR! Session/line number was not unique in database. History logging moved to new session 394\n"
     ]
    }
   ],
   "source": [
    "# # Resample the data using SMOTEENN\n",
    "tock = time.time()\n",
    "resampled_images, resampled_labels = smoteenn.fit_resample(images_stacked, label_list)\n",
    "print(f'consuming{time.time()-tock}s')"
   ]
  },
  {
   "cell_type": "code",
   "execution_count": null,
   "id": "5eeec4c3-2c44-4019-968d-108929b5e7a9",
   "metadata": {},
   "outputs": [],
   "source": [
    "from collections import Counter\n",
    "print(sorted(Counter(label_list_seg).items()))\n",
    "print(sorted(Counter(resampled_labels).items()))\n",
    "# resampled_labels.count('H')"
   ]
  },
  {
   "cell_type": "markdown",
   "id": "e6022050-8811-4585-8057-e1c241f5af7a",
   "metadata": {},
   "source": [
    "Reshape the resampled images back to their original shape"
   ]
  },
  {
   "cell_type": "code",
   "execution_count": null,
   "id": "a935087d-52d3-407c-b7d3-dd897297e702",
   "metadata": {},
   "outputs": [],
   "source": [
    "# resampled_images_np = [img.reshape(images_np[0].shape) for img in resampled_images]"
   ]
  },
  {
   "cell_type": "markdown",
   "id": "466b161a-4f7b-4d27-ac0d-9892979ec25c",
   "metadata": {},
   "source": [
    "Convert the resampled numpy arrays back to PIL images"
   ]
  },
  {
   "cell_type": "code",
   "execution_count": 66,
   "id": "ebed8761-136b-48a0-98f2-daf461a5270a",
   "metadata": {},
   "outputs": [
    {
     "data": {
      "text/plain": [
       "19463"
      ]
     },
     "execution_count": 66,
     "metadata": {},
     "output_type": "execute_result"
    }
   ],
   "source": [
    "# resampled_images_pil = [Image.fromarray(img) for img in resampled_images_np]"
   ]
  },
  {
   "cell_type": "code",
   "execution_count": 1,
   "id": "344e9cdc-3bef-4a12-ad4b-e02da520d10e",
   "metadata": {},
   "outputs": [],
   "source": [
    "import random\n",
    "\n",
    "features = [1, 2, 3, 4, 5]\n",
    "labels = ['a', 'b', 'c', 'd', 'e']\n",
    "\n",
    "combined = list(zip(features, labels))\n",
    "random.shuffle(combined)\n",
    "\n",
    "features[:], labels[:] = zip(*combined)"
   ]
  },
  {
   "cell_type": "code",
   "execution_count": 3,
   "id": "709b8717-9d54-407e-ba9a-c8a916b6d447",
   "metadata": {},
   "outputs": [
    {
     "name": "stdout",
     "output_type": "stream",
     "text": [
      "[2, 4, 1, 5, 3]\n",
      "['b', 'd', 'a', 'e', 'c']\n"
     ]
    }
   ],
   "source": [
    "print(features)\n",
    "print(labels)"
   ]
  },
  {
   "cell_type": "markdown",
   "id": "0e6ab21c-0d92-45b3-9860-c868f3172dc2",
   "metadata": {},
   "source": [
    "# 方法3：imbalanced sampler"
   ]
  },
  {
   "cell_type": "code",
   "execution_count": 70,
   "id": "8df5d478-06ff-4d14-81a0-1e0f9b60ebfd",
   "metadata": {},
   "outputs": [],
   "source": [
    "# import sys\n",
    "# sys.path.append('/home/wangyh/uro_biomarker/imbalanced-dataset-sampler/')\n",
    "# from torchsampler import ImbalancedDatasetSampler\n",
    "import imblearn\n",
    "\n",
    "def imb_Dataloader(args):\n",
    "# data_transform, pay attention that the input of Normalize() is Tensor and the input of RandomResizedCrop() or RandomHorizontalFlip() is PIL Image\n",
    "    data_transforms = {\n",
    "        'train': transforms.Compose([\n",
    "            transforms.Resize(256),\n",
    "            transforms.RandomCrop(224),\n",
    "            transforms.RandomHorizontalFlip(),\n",
    "            transforms.ToTensor(),\n",
    "            transforms.Normalize([0.485, 0.456, 0.406], [0.229, 0.224, 0.225])\n",
    "        ]),\n",
    "        'val': transforms.Compose([\n",
    "            transforms.Resize(256),\n",
    "            transforms.CenterCrop(224),\n",
    "            transforms.ToTensor(),\n",
    "            transforms.Normalize([0.485, 0.456, 0.406], [0.229, 0.224, 0.225])\n",
    "        ]),\n",
    "    }\n",
    "    image_datasets = {}\n",
    "    #image_datasets['train'] = datasets.ImageFolder(os.path.join(args.data_dir, 'ILSVRC2012_img_train'), data_transforms['train'])\n",
    "\n",
    "    image_datasets['train'] = imb_DataSet(train_df,data_transforms=data_transforms['train'])\n",
    "    image_datasets['val'] = imb_DataSet(val_df,data_transforms=data_transforms['val'])\n",
    "\n",
    "    # wrap your data and label into Tensor\n",
    "    dataloders = {'train': torch.utils.data.DataLoader(image_datasets['train'],\n",
    "                                                 batch_size=args.batch_size,\n",
    "                                                 sampler = ImbalancedDatasetSampler(image_datasets['train']),\n",
    "                                                 num_workers=args.num_workers),\n",
    "                 'val':torch.utils.data.DataLoader(image_datasets['val'],\n",
    "                                                 batch_size=args.batch_size,\n",
    "                                                 shuffle=True,\n",
    "                                                 num_workers=args.num_workers)}\n",
    "\n",
    "\n",
    "    dataset_sizes = {x: len(image_datasets[x]) for x in ['train', 'val']}\n",
    "    return dataloders, dataset_sizes\n",
    "\n",
    "class imb_DataSet(torch.utils.data.Dataset):\n",
    "    def __init__(self, data_df,data_transforms = None):\n",
    "        '''\n",
    "        data_df:[train_df,val_df,test_df],\n",
    "            obtained from reading files in './config/data_segmentation_csv/{scale}X.csv'. \n",
    "            containing infos listed below:\n",
    "                dir_uuid\tTMB_H/L \t5x(patch_count) \tpath\timg_list\n",
    "                    img_list: series of list, each correspond to all preprocessed_patch_file_paths\n",
    "        '''\n",
    "        label_dic = {\n",
    "            'H':0,\n",
    "            'L':1\n",
    "        }\n",
    "        self.img_list = sum(data_df['img_list'],[])  #concat wrapped list into one, constructing full list of img_path_list\n",
    "        self.label_dic = label_dic\n",
    "        self.label_list = sum([list(data_df['TMB_H/L'].iloc[i])*data_df['10x'].iloc[i] for i in range(data_df.shape[0])],[]) # constrcting full list of label, in same sequence as img_list\n",
    "        self.data_transforms = data_transforms\n",
    "    def __len__(self):\n",
    "        return len(self.img_list)\n",
    "\n",
    "    def __getitem__(self, index):\n",
    "        label_dic = {\n",
    "            'H':0,\n",
    "            'L':1\n",
    "        }\n",
    "        \n",
    "        img_list_to_array = []\n",
    "        label_list = self.label_list\n",
    "        \n",
    "        for i in self.img_list:\n",
    "            if self.data_transforms is not None:\n",
    "                try:\n",
    "                    i = self.data_transforms(i)\n",
    "                except:\n",
    "                    print(\"Cannot transform image: {}\".format(self.img_list[index]))\n",
    "            img_list_to_array.append(i)\n",
    "        img_list_to_array_balanced,label_list_balanced = imblearn.make_imbalance(img_list_to_array,label_list,sampling_strategy = {'H':len(self.img_list)//2,'L':len(self.img_list)-len(self.img_list)//2})    \n",
    "        \n",
    "        img = img_list_to_array_balanced[index]\n",
    "        label = label_list_balanced[index]\n",
    "        label = label_dic[label]\n",
    "        return img, label\n",
    "    def get_labels()"
   ]
  },
  {
   "cell_type": "code",
   "execution_count": null,
   "id": "b6a8084e-d809-4641-9cc8-fd442ddb2a9c",
   "metadata": {},
   "outputs": [],
   "source": []
  },
  {
   "cell_type": "markdown",
   "id": "ce519814-516c-468d-a779-631b8cb357c1",
   "metadata": {},
   "source": [
    "# 方法4：替换net中的loss function"
   ]
  },
  {
   "cell_type": "code",
   "execution_count": 3,
   "id": "e5e940e3-4c08-4e1d-97ce-035bf23577d3",
   "metadata": {},
   "outputs": [
    {
     "ename": "ArgsError",
     "evalue": "a cannot be 1",
     "output_type": "error",
     "traceback": [
      "\u001b[0;31m---------------------------------------------------------------------------\u001b[0m",
      "\u001b[0;31mArgsError\u001b[0m                                 Traceback (most recent call last)",
      "Input \u001b[0;32mIn [3]\u001b[0m, in \u001b[0;36m<cell line: 5>\u001b[0;34m()\u001b[0m\n\u001b[1;32m      3\u001b[0m     \u001b[38;5;28;01mif\u001b[39;00m a \u001b[38;5;241m==\u001b[39m \u001b[38;5;241m1\u001b[39m:\n\u001b[1;32m      4\u001b[0m         \u001b[38;5;28;01mraise\u001b[39;00m ArgsError(\u001b[38;5;124m'\u001b[39m\u001b[38;5;124ma cannot be 1\u001b[39m\u001b[38;5;124m'\u001b[39m)\n\u001b[0;32m----> 5\u001b[0m \u001b[43merror_raise\u001b[49m\u001b[43m(\u001b[49m\u001b[38;5;241;43m1\u001b[39;49m\u001b[43m)\u001b[49m\n",
      "Input \u001b[0;32mIn [3]\u001b[0m, in \u001b[0;36merror_raise\u001b[0;34m(a)\u001b[0m\n\u001b[1;32m      2\u001b[0m \u001b[38;5;28;01mdef\u001b[39;00m \u001b[38;5;21merror_raise\u001b[39m(a):\n\u001b[1;32m      3\u001b[0m     \u001b[38;5;28;01mif\u001b[39;00m a \u001b[38;5;241m==\u001b[39m \u001b[38;5;241m1\u001b[39m:\n\u001b[0;32m----> 4\u001b[0m         \u001b[38;5;28;01mraise\u001b[39;00m ArgsError(\u001b[38;5;124m'\u001b[39m\u001b[38;5;124ma cannot be 1\u001b[39m\u001b[38;5;124m'\u001b[39m)\n",
      "\u001b[0;31mArgsError\u001b[0m: a cannot be 1"
     ]
    }
   ],
   "source": [
    "class ArgsError(Exception): pass\n",
    "def error_raise(a):\n",
    "    if a == 1:\n",
    "        raise ArgsError('a cannot be 1')\n",
    "error_raise(1)"
   ]
  },
  {
   "cell_type": "code",
   "execution_count": null,
   "id": "1583ea2b-eaee-4e2c-ac73-6bac35071652",
   "metadata": {},
   "outputs": [],
   "source": []
  }
 ],
 "metadata": {
  "kernelspec": {
   "display_name": "patho_AI",
   "language": "python",
   "name": "patho_ai"
  },
  "language_info": {
   "codemirror_mode": {
    "name": "ipython",
    "version": 3
   },
   "file_extension": ".py",
   "mimetype": "text/x-python",
   "name": "python",
   "nbconvert_exporter": "python",
   "pygments_lexer": "ipython3",
   "version": "3.8.12"
  }
 },
 "nbformat": 4,
 "nbformat_minor": 5
}
