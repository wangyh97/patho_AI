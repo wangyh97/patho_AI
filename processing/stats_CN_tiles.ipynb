{
 "cells": [
  {
   "cell_type": "code",
   "execution_count": 4,
   "id": "9394327b-f3a6-431e-ba2a-da28c2f9a400",
   "metadata": {},
   "outputs": [
    {
     "name": "stderr",
     "output_type": "stream",
     "text": [
      "/home/wangyh/miniconda3/envs/patho_AI/lib/python3.8/site-packages/tqdm/auto.py:22: TqdmWarning: IProgress not found. Please update jupyter and ipywidgets. See https://ipywidgets.readthedocs.io/en/stable/user_install.html\n",
      "  from .autonotebook import tqdm as notebook_tqdm\n"
     ]
    }
   ],
   "source": [
    "import os\n",
    "import glob\n",
    "from func import basic\n",
    "from func import visualization"
   ]
  },
  {
   "cell_type": "markdown",
   "id": "5c0744de-a7a7-4b31-9375-8fafc4d84e51",
   "metadata": {},
   "source": [
    "## 统计CN_tiles总数"
   ]
  },
  {
   "cell_type": "code",
   "execution_count": 2,
   "id": "2d0282e3-cdf2-4c17-9d6f-d99e2929af79",
   "metadata": {},
   "outputs": [],
   "source": [
    "# time consuming, do not rerun the cell\n",
    "L_NT_tile_paths = glob.glob('/mnt/wangyh/TCGA_patches/L/*/*/non*')\n",
    "L_T_tile_paths = glob.glob('/mnt/wangyh/TCGA_patches/L/*/*/T*')\n",
    "H_NT_tile_paths = glob.glob('/mnt/wangyh/TCGA_patches/H/*/*/non*')\n",
    "H_T_tile_paths = glob.glob('/mnt/wangyh/TCGA_patches/H/*/*/T*')"
   ]
  },
  {
   "cell_type": "code",
   "execution_count": 5,
   "id": "88055205-c23d-433c-9e30-0cdad3cf966d",
   "metadata": {},
   "outputs": [
    {
     "name": "stdout",
     "output_type": "stream",
     "text": [
      "LN\n",
      "allocated memory:占用 14.18 MB内存\n",
      "\n",
      "type:<class 'list'> \n",
      "len:1671277\n",
      "shape:not a ndarray\n",
      "size:not a ndarray\n",
      "keys:not a dict\n",
      "\n",
      "LT\n",
      "allocated memory:占用 17.94 MB内存\n",
      "\n",
      "type:<class 'list'> \n",
      "len:2250657\n",
      "shape:not a ndarray\n",
      "size:not a ndarray\n",
      "keys:not a dict\n",
      "\n",
      "HN\n",
      "allocated memory:占用 2.42 MB内存\n",
      "\n",
      "type:<class 'list'> \n",
      "len:317279\n",
      "shape:not a ndarray\n",
      "size:not a ndarray\n",
      "keys:not a dict\n",
      "\n",
      "HT\n",
      "allocated memory:占用 3.45 MB内存\n",
      "\n",
      "type:<class 'list'> \n",
      "len:434164\n",
      "shape:not a ndarray\n",
      "size:not a ndarray\n",
      "keys:not a dict\n",
      "\n"
     ]
    }
   ],
   "source": [
    "basic.show_info(LN = L_NT_tile_paths,LT = L_T_tile_paths,HN = H_NT_tile_paths,HT = H_T_tile_paths)"
   ]
  },
  {
   "cell_type": "code",
   "execution_count": null,
   "id": "0902c2d6-be56-4ed3-81cb-b768b089a714",
   "metadata": {},
   "outputs": [],
   "source": []
  }
 ],
 "metadata": {
  "kernelspec": {
   "display_name": "patho_AI",
   "language": "python",
   "name": "patho_ai"
  },
  "language_info": {
   "codemirror_mode": {
    "name": "ipython",
    "version": 3
   },
   "file_extension": ".py",
   "mimetype": "text/x-python",
   "name": "python",
   "nbconvert_exporter": "python",
   "pygments_lexer": "ipython3",
   "version": "3.8.12"
  }
 },
 "nbformat": 4,
 "nbformat_minor": 5
}
