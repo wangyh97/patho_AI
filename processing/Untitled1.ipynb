{
 "cells": [
  {
   "cell_type": "code",
   "execution_count": 8,
   "id": "b9aa0b62-8655-41fa-8b74-8af20dc96de0",
   "metadata": {},
   "outputs": [],
   "source": [
    "import pandas as pd\n",
    "import numpy as np\n",
    "import os"
   ]
  },
  {
   "cell_type": "code",
   "execution_count": 9,
   "id": "2c7ef7f4-20c4-4f81-a792-fe375d2a7e31",
   "metadata": {},
   "outputs": [
    {
     "data": {
      "text/plain": [
       "0     /mnt/wangyh/TCGA_bladder/TCGA_bladder/28a0ced3...\n",
       "1     /mnt/wangyh/TCGA_bladder/TCGA_bladder/b78959f2...\n",
       "2     /mnt/wangyh/TCGA_bladder/TCGA_bladder/96027b95...\n",
       "3     /mnt/wangyh/TCGA_bladder/TCGA_bladder/c15c23f2...\n",
       "4     /mnt/wangyh/TCGA_bladder/TCGA_bladder/3bf47d5d...\n",
       "                            ...                        \n",
       "66    /mnt/wangyh/TCGA_bladder/TCGA_bladder/44f9dbf5...\n",
       "67    /mnt/wangyh/TCGA_bladder/TCGA_bladder/dddf8b78...\n",
       "68    /mnt/wangyh/TCGA_bladder/TCGA_bladder/724d0c82...\n",
       "69    /mnt/wangyh/TCGA_bladder/TCGA_bladder/2fce1392...\n",
       "70    /mnt/wangyh/TCGA_bladder/TCGA_bladder/a5328381...\n",
       "Name: uuid, Length: 71, dtype: object"
      ]
     },
     "execution_count": 9,
     "metadata": {},
     "output_type": "execute_result"
    }
   ],
   "source": [
    "raw_path = pd.read_csv('../config/wsi_path_for_pretraining.csv').iloc[:,1]\n",
    "raw_path.name = 'uuid'\n",
    "raw_path"
   ]
  },
  {
   "cell_type": "code",
   "execution_count": 11,
   "id": "d8b6714c-4a82-41b8-8952-c1ccbc51172c",
   "metadata": {},
   "outputs": [],
   "source": [
    "raw_path['label'] = np.arange(71)"
   ]
  },
  {
   "cell_type": "code",
   "execution_count": 12,
   "id": "b46f8f24-b948-4a70-84bf-8d9a60f33331",
   "metadata": {},
   "outputs": [
    {
     "data": {
      "text/plain": [
       "0        /mnt/wangyh/TCGA_bladder/TCGA_bladder/28a0ced3...\n",
       "1        /mnt/wangyh/TCGA_bladder/TCGA_bladder/b78959f2...\n",
       "2        /mnt/wangyh/TCGA_bladder/TCGA_bladder/96027b95...\n",
       "3        /mnt/wangyh/TCGA_bladder/TCGA_bladder/c15c23f2...\n",
       "4        /mnt/wangyh/TCGA_bladder/TCGA_bladder/3bf47d5d...\n",
       "                               ...                        \n",
       "67       /mnt/wangyh/TCGA_bladder/TCGA_bladder/dddf8b78...\n",
       "68       /mnt/wangyh/TCGA_bladder/TCGA_bladder/724d0c82...\n",
       "69       /mnt/wangyh/TCGA_bladder/TCGA_bladder/2fce1392...\n",
       "70       /mnt/wangyh/TCGA_bladder/TCGA_bladder/a5328381...\n",
       "label    [0, 1, 2, 3, 4, 5, 6, 7, 8, 9, 10, 11, 12, 13,...\n",
       "Name: uuid, Length: 72, dtype: object"
      ]
     },
     "execution_count": 12,
     "metadata": {},
     "output_type": "execute_result"
    }
   ],
   "source": [
    "raw_path"
   ]
  },
  {
   "cell_type": "code",
   "execution_count": null,
   "id": "93ea5d4f-9d31-4a3d-9b66-418f1110f4f0",
   "metadata": {},
   "outputs": [],
   "source": []
  }
 ],
 "metadata": {
  "kernelspec": {
   "display_name": "base",
   "language": "python",
   "name": "base"
  },
  "language_info": {
   "codemirror_mode": {
    "name": "ipython",
    "version": 3
   },
   "file_extension": ".py",
   "mimetype": "text/x-python",
   "name": "python",
   "nbconvert_exporter": "python",
   "pygments_lexer": "ipython3",
   "version": "3.8.12"
  }
 },
 "nbformat": 4,
 "nbformat_minor": 5
}
