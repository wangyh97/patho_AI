{
 "cells": [
  {
   "cell_type": "code",
   "execution_count": 2,
   "metadata": {},
   "outputs": [
    {
     "ename": "FileNotFoundError",
     "evalue": "[WinError 3] 系统找不到指定的路径。: 'D:/edge下载/openslide-win64-20220811/bin'",
     "output_type": "error",
     "traceback": [
      "\u001b[1;31m---------------------------------------------------------------------------\u001b[0m",
      "\u001b[1;31mFileNotFoundError\u001b[0m                         Traceback (most recent call last)",
      "\u001b[1;32mg:\\gitcode\\patho_AI\\processing\\patch_extraction_test.ipynb Cell 1\u001b[0m in \u001b[0;36m<cell line: 3>\u001b[1;34m()\u001b[0m\n\u001b[0;32m      <a href='vscode-notebook-cell:/g%3A/gitcode/patho_AI/processing/patch_extraction_test.ipynb#W0sZmlsZQ%3D%3D?line=0'>1</a>\u001b[0m \u001b[39mimport\u001b[39;00m \u001b[39msys\u001b[39;00m\n\u001b[0;32m      <a href='vscode-notebook-cell:/g%3A/gitcode/patho_AI/processing/patch_extraction_test.ipynb#W0sZmlsZQ%3D%3D?line=1'>2</a>\u001b[0m sys\u001b[39m.\u001b[39mpath\u001b[39m.\u001b[39mappend(\u001b[39m'\u001b[39m\u001b[39m./extract_patches.py\u001b[39m\u001b[39m'\u001b[39m)\n\u001b[1;32m----> <a href='vscode-notebook-cell:/g%3A/gitcode/patho_AI/processing/patch_extraction_test.ipynb#W0sZmlsZQ%3D%3D?line=2'>3</a>\u001b[0m \u001b[39mimport\u001b[39;00m \u001b[39mextract_patches\u001b[39;00m \u001b[39mas\u001b[39;00m \u001b[39mep\u001b[39;00m\n",
      "File \u001b[1;32mg:\\gitcode\\patho_AI\\processing\\extract_patches.py:14\u001b[0m, in \u001b[0;36m<module>\u001b[1;34m\u001b[0m\n\u001b[0;32m     12\u001b[0m \u001b[39mimport\u001b[39;00m \u001b[39mos\u001b[39;00m\n\u001b[0;32m     13\u001b[0m \u001b[39mif\u001b[39;00m \u001b[39mhasattr\u001b[39m(os,\u001b[39m'\u001b[39m\u001b[39madd_dll_directory\u001b[39m\u001b[39m'\u001b[39m):\n\u001b[1;32m---> 14\u001b[0m     \u001b[39mwith\u001b[39;00m os\u001b[39m.\u001b[39;49madd_dll_directory(\u001b[39m'\u001b[39;49m\u001b[39mD:/edge下载/openslide-win64-20220811/bin\u001b[39;49m\u001b[39m'\u001b[39;49m):\n\u001b[0;32m     15\u001b[0m         \u001b[39mimport\u001b[39;00m \u001b[39mopenslide\u001b[39;00m\n\u001b[0;32m     16\u001b[0m \u001b[39melse\u001b[39;00m:\n",
      "File \u001b[1;32me:\\anaconda\\lib\\os.py:1109\u001b[0m, in \u001b[0;36madd_dll_directory\u001b[1;34m(path)\u001b[0m\n\u001b[0;32m   1099\u001b[0m \u001b[39m\"\"\"Add a path to the DLL search path.\u001b[39;00m\n\u001b[0;32m   1100\u001b[0m \n\u001b[0;32m   1101\u001b[0m \u001b[39mThis search path is used when resolving dependencies for imported\u001b[39;00m\n\u001b[1;32m   (...)\u001b[0m\n\u001b[0;32m   1106\u001b[0m \u001b[39musing it in a with statement.\u001b[39;00m\n\u001b[0;32m   1107\u001b[0m \u001b[39m\"\"\"\u001b[39;00m\n\u001b[0;32m   1108\u001b[0m \u001b[39mimport\u001b[39;00m \u001b[39mnt\u001b[39;00m\n\u001b[1;32m-> 1109\u001b[0m cookie \u001b[39m=\u001b[39m nt\u001b[39m.\u001b[39;49m_add_dll_directory(path)\n\u001b[0;32m   1110\u001b[0m \u001b[39mreturn\u001b[39;00m _AddedDllDirectory(\n\u001b[0;32m   1111\u001b[0m     path,\n\u001b[0;32m   1112\u001b[0m     cookie,\n\u001b[0;32m   1113\u001b[0m     nt\u001b[39m.\u001b[39m_remove_dll_directory\n\u001b[0;32m   1114\u001b[0m )\n",
      "\u001b[1;31mFileNotFoundError\u001b[0m: [WinError 3] 系统找不到指定的路径。: 'D:/edge下载/openslide-win64-20220811/bin'"
     ]
    }
   ],
   "source": [
    "import sys\n",
    "sys.path.append('./extract_patches.py')\n",
    "import extract_patches as ep"
   ]
  }
 ],
 "metadata": {
  "kernelspec": {
   "display_name": "Python 3.8.12 ('base')",
   "language": "python",
   "name": "python3"
  },
  "language_info": {
   "codemirror_mode": {
    "name": "ipython",
    "version": 3
   },
   "file_extension": ".py",
   "mimetype": "text/x-python",
   "name": "python",
   "nbconvert_exporter": "python",
   "pygments_lexer": "ipython3",
   "version": "3.8.12"
  },
  "orig_nbformat": 4,
  "vscode": {
   "interpreter": {
    "hash": "7758e92e9a61d7a3490898707f7eeb937c85e9d1e8d4e877cc6c187218f226d5"
   }
  }
 },
 "nbformat": 4,
 "nbformat_minor": 2
}
