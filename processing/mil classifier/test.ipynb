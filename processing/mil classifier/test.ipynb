{
 "cells": [
  {
   "cell_type": "code",
   "execution_count": 1,
   "id": "785315d0-94eb-47f1-a067-231928da8d43",
   "metadata": {},
   "outputs": [
    {
     "name": "stderr",
     "output_type": "stream",
     "text": [
      "/home/wangyh/miniconda3/envs/patho_AI/lib/python3.8/site-packages/tqdm/auto.py:22: TqdmWarning: IProgress not found. Please update jupyter and ipywidgets. See https://ipywidgets.readthedocs.io/en/stable/user_install.html\n",
      "  from .autonotebook import tqdm as notebook_tqdm\n"
     ]
    }
   ],
   "source": [
    "import torch\n",
    "import torch.nn as nn\n",
    "from torch.utils.data import DataLoader\n",
    "from torch.autograd import Variable\n",
    "import torchvision.transforms.functional as VF\n",
    "from torchvision import transforms\n",
    "\n",
    "import sys, argparse, os, copy, itertools, glob, datetime\n",
    "import pandas as pd\n",
    "import numpy as np\n",
    "from sklearn.utils import shuffle\n",
    "from sklearn.metrics import roc_curve, roc_auc_score, precision_recall_fscore_support\n",
    "from sklearn.datasets import load_svmlight_file\n",
    "from collections import OrderedDict"
   ]
  },
  {
   "cell_type": "code",
   "execution_count": 66,
   "id": "f2a643b4-09f3-4db4-bb98-f3457990e9f4",
   "metadata": {},
   "outputs": [],
   "source": [
    "feature = np.load('../../data/10X_full_slide_features.npy',allow_pickle=True).item()\n",
    "train = np.load('../../config/data_segmentation_csv/10X_tv_grouping.npy',allow_pickle=True).item()\n",
    "full = np.load('../../config/data_segmentation_csv/10X_full.npy',allow_pickle=True).item()\n",
    "train_index = list(train['tv_list'].index)\n",
    "full_index = list(full['full_list'].index)\n",
    "test_index = list(set(full_index)-set(train_index))\n",
    "\n",
    "index_dict = {ind:i for i,ind in enumerate(full_index)}\n",
    "label_dict = {'L':0,'H':1}"
   ]
  },
  {
   "cell_type": "code",
   "execution_count": 80,
   "id": "d20a6bb7-e1b3-452d-afb1-c440d0cf576b",
   "metadata": {},
   "outputs": [],
   "source": [
    "class args():\n",
    "    def __init__(self):\n",
    "        self.dataset = 'TCGA_BLCA'\n",
    "        self.num_classes = 2\n",
    "\n",
    "    def __getattribute__(self, __name: str):\n",
    "        return object.__getattribute__(self, __name)\n",
    "    \n",
    "args = args()"
   ]
  },
  {
   "cell_type": "code",
   "execution_count": 97,
   "id": "344c662b-d19c-42b9-8df8-9bc5886932b7",
   "metadata": {},
   "outputs": [],
   "source": [
    "def get_bag_feats(index, args):\n",
    "#     if args.dataset == 'TCGA-lung-default':\n",
    "#         feats_csv_path = 'datasets/tcga-dataset/tcga_lung_data_feats/' + csv_file_df.iloc[0].split('/')[1] + '.csv'\n",
    "#     else:\n",
    "#         feats_csv_path = csv_file_df.iloc[0]\n",
    "#     df = pd.read_csv(feats_csv_path)\n",
    "#     feats = shuffle(df).reset_index(drop=True)\n",
    "#     feats = feats.to_numpy()\n",
    "#     label = np.zeros(args.num_classes)\n",
    "#     if args.num_classes==1:\n",
    "#         label[0] = csv_file_df.iloc[1]\n",
    "#     else:\n",
    "#         if int(csv_file_df.iloc[1])<=(len(label)-1):\n",
    "#             label[int(csv_file_df.iloc[1])] = 1\n",
    "#     labels = [feature[f'index{index_dict[i]}'][1] for i in indexes]  #list of labels, in form of ['H','L','L'...]\n",
    "#     feats = [feature[f'index{index_dict[i]}'][2] for i in indexes]\n",
    "    \n",
    "    global features\n",
    "    global index_dict\n",
    "    \n",
    "    feats_og = pd.DataFrame(features[f'index{index_dict[index]}'][2])\n",
    "    feats = shuffle(feats_og).reset_index(drop=True).to_numpy()\n",
    "    label_og = label_dict[features[f'index{index_dict[index]}'][1]]   # transformed label in form of int,[0,1]\n",
    "    \n",
    "    label = np.zeros(args.num_classes)\n",
    "    if args.num_classes==1:\n",
    "        label[0] = label_og\n",
    "    else:\n",
    "        if int(label_og)<=(len(label)-1):\n",
    "            label[int(label_og)] = 1\n",
    "    return label,feats"
   ]
  },
  {
   "cell_type": "code",
   "execution_count": 98,
   "id": "9fa7c444-0897-434e-8b15-47b5ccaa391a",
   "metadata": {},
   "outputs": [],
   "source": [
    "_,f = get_bag_feats(test_index[0],args)"
   ]
  },
  {
   "cell_type": "code",
   "execution_count": 1,
   "id": "09976fad-5a9f-4e0b-81db-5e13f2b242dc",
   "metadata": {},
   "outputs": [
    {
     "ename": "NameError",
     "evalue": "name 'torch' is not defined",
     "output_type": "error",
     "traceback": [
      "\u001b[0;31m---------------------------------------------------------------------------\u001b[0m",
      "\u001b[0;31mNameError\u001b[0m                                 Traceback (most recent call last)",
      "Input \u001b[0;32mIn [1]\u001b[0m, in \u001b[0;36m<cell line: 1>\u001b[0;34m()\u001b[0m\n\u001b[0;32m----> 1\u001b[0m f \u001b[38;5;241m=\u001b[39m \u001b[43mtorch\u001b[49m\u001b[38;5;241m.\u001b[39mtensor(f)\n",
      "\u001b[0;31mNameError\u001b[0m: name 'torch' is not defined"
     ]
    }
   ],
   "source": []
  },
  {
   "cell_type": "code",
   "execution_count": 2,
   "id": "c72eb47f-2147-408a-9966-867971bba292",
   "metadata": {},
   "outputs": [
    {
     "name": "stderr",
     "output_type": "stream",
     "text": [
      "2023-05-14 12:19:12.879156: I tensorflow/stream_executor/platform/default/dso_loader.cc:53] Successfully opened dynamic library libcudart.so.11.0\n"
     ]
    },
    {
     "ename": "AssertionError",
     "evalue": "scalar should be 0D",
     "output_type": "error",
     "traceback": [
      "\u001b[0;31m---------------------------------------------------------------------------\u001b[0m",
      "\u001b[0;31mAssertionError\u001b[0m                            Traceback (most recent call last)",
      "Input \u001b[0;32mIn [2]\u001b[0m, in \u001b[0;36m<cell line: 4>\u001b[0;34m()\u001b[0m\n\u001b[1;32m      2\u001b[0m \u001b[38;5;28;01mfrom\u001b[39;00m \u001b[38;5;21;01mtorch\u001b[39;00m\u001b[38;5;21;01m.\u001b[39;00m\u001b[38;5;21;01mutils\u001b[39;00m\u001b[38;5;21;01m.\u001b[39;00m\u001b[38;5;21;01mtensorboard\u001b[39;00m \u001b[38;5;28;01mimport\u001b[39;00m SummaryWriter\n\u001b[1;32m      3\u001b[0m writter \u001b[38;5;241m=\u001b[39m SummaryWriter(\u001b[38;5;124m'\u001b[39m\u001b[38;5;124mtest/abc\u001b[39m\u001b[38;5;124m'\u001b[39m)\n\u001b[0;32m----> 4\u001b[0m \u001b[43mwritter\u001b[49m\u001b[38;5;241;43m.\u001b[39;49m\u001b[43madd_scalar\u001b[49m\u001b[43m(\u001b[49m\u001b[38;5;124;43m'\u001b[39;49m\u001b[38;5;124;43mtest\u001b[39;49m\u001b[38;5;124;43m'\u001b[39;49m\u001b[43m,\u001b[49m\u001b[43mtorch\u001b[49m\u001b[38;5;241;43m.\u001b[39;49m\u001b[43mtensor\u001b[49m\u001b[43m(\u001b[49m\u001b[43m[\u001b[49m\u001b[38;5;241;43m0\u001b[39;49m\u001b[43m,\u001b[49m\u001b[38;5;241;43m1\u001b[39;49m\u001b[43m]\u001b[49m\u001b[43m)\u001b[49m\u001b[43m)\u001b[49m\n",
      "File \u001b[0;32m~/miniconda3/envs/patho_AI/lib/python3.8/site-packages/torch/utils/tensorboard/writer.py:387\u001b[0m, in \u001b[0;36mSummaryWriter.add_scalar\u001b[0;34m(self, tag, scalar_value, global_step, walltime, new_style, double_precision)\u001b[0m\n\u001b[1;32m    383\u001b[0m     \u001b[38;5;28;01mfrom\u001b[39;00m \u001b[38;5;21;01mcaffe2\u001b[39;00m\u001b[38;5;21;01m.\u001b[39;00m\u001b[38;5;21;01mpython\u001b[39;00m \u001b[38;5;28;01mimport\u001b[39;00m workspace\n\u001b[1;32m    385\u001b[0m     scalar_value \u001b[38;5;241m=\u001b[39m workspace\u001b[38;5;241m.\u001b[39mFetchBlob(scalar_value)\n\u001b[0;32m--> 387\u001b[0m summary \u001b[38;5;241m=\u001b[39m \u001b[43mscalar\u001b[49m\u001b[43m(\u001b[49m\n\u001b[1;32m    388\u001b[0m \u001b[43m    \u001b[49m\u001b[43mtag\u001b[49m\u001b[43m,\u001b[49m\u001b[43m \u001b[49m\u001b[43mscalar_value\u001b[49m\u001b[43m,\u001b[49m\u001b[43m \u001b[49m\u001b[43mnew_style\u001b[49m\u001b[38;5;241;43m=\u001b[39;49m\u001b[43mnew_style\u001b[49m\u001b[43m,\u001b[49m\u001b[43m \u001b[49m\u001b[43mdouble_precision\u001b[49m\u001b[38;5;241;43m=\u001b[39;49m\u001b[43mdouble_precision\u001b[49m\n\u001b[1;32m    389\u001b[0m \u001b[43m\u001b[49m\u001b[43m)\u001b[49m\n\u001b[1;32m    390\u001b[0m \u001b[38;5;28mself\u001b[39m\u001b[38;5;241m.\u001b[39m_get_file_writer()\u001b[38;5;241m.\u001b[39madd_summary(summary, global_step, walltime)\n",
      "File \u001b[0;32m~/miniconda3/envs/patho_AI/lib/python3.8/site-packages/torch/utils/tensorboard/summary.py:280\u001b[0m, in \u001b[0;36mscalar\u001b[0;34m(name, scalar, collections, new_style, double_precision)\u001b[0m\n\u001b[1;32m    264\u001b[0m \u001b[38;5;124;03m\"\"\"Outputs a `Summary` protocol buffer containing a single scalar value.\u001b[39;00m\n\u001b[1;32m    265\u001b[0m \u001b[38;5;124;03mThe generated Summary has a Tensor.proto containing the input Tensor.\u001b[39;00m\n\u001b[1;32m    266\u001b[0m \u001b[38;5;124;03mArgs:\u001b[39;00m\n\u001b[0;32m   (...)\u001b[0m\n\u001b[1;32m    277\u001b[0m \u001b[38;5;124;03m  ValueError: If tensor has the wrong shape or type.\u001b[39;00m\n\u001b[1;32m    278\u001b[0m \u001b[38;5;124;03m\"\"\"\u001b[39;00m\n\u001b[1;32m    279\u001b[0m scalar \u001b[38;5;241m=\u001b[39m make_np(scalar)\n\u001b[0;32m--> 280\u001b[0m \u001b[38;5;28;01massert\u001b[39;00m scalar\u001b[38;5;241m.\u001b[39msqueeze()\u001b[38;5;241m.\u001b[39mndim \u001b[38;5;241m==\u001b[39m \u001b[38;5;241m0\u001b[39m, \u001b[38;5;124m\"\u001b[39m\u001b[38;5;124mscalar should be 0D\u001b[39m\u001b[38;5;124m\"\u001b[39m\n\u001b[1;32m    281\u001b[0m \u001b[38;5;66;03m# python float is double precision in numpy\u001b[39;00m\n\u001b[1;32m    282\u001b[0m scalar \u001b[38;5;241m=\u001b[39m \u001b[38;5;28mfloat\u001b[39m(scalar)\n",
      "\u001b[0;31mAssertionError\u001b[0m: scalar should be 0D"
     ]
    }
   ],
   "source": [
    "import torch\n",
    "from torch.utils.tensorboard import SummaryWriter\n",
    "writter = SummaryWriter('test/abc')\n",
    "writter.add_scalar('test',torch.tensor([0,1]))"
   ]
  },
  {
   "cell_type": "code",
   "execution_count": null,
   "id": "ce833fc8-b020-4f5b-802a-5f8be1ef8585",
   "metadata": {},
   "outputs": [],
   "source": []
  }
 ],
 "metadata": {
  "kernelspec": {
   "display_name": "patho_AI",
   "language": "python",
   "name": "patho_ai"
  },
  "language_info": {
   "codemirror_mode": {
    "name": "ipython",
    "version": 3
   },
   "file_extension": ".py",
   "mimetype": "text/x-python",
   "name": "python",
   "nbconvert_exporter": "python",
   "pygments_lexer": "ipython3",
   "version": "3.8.12"
  }
 },
 "nbformat": 4,
 "nbformat_minor": 5
}
