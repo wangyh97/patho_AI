{
 "cells": [
  {
   "cell_type": "code",
   "execution_count": 1,
   "id": "785315d0-94eb-47f1-a067-231928da8d43",
   "metadata": {},
   "outputs": [
    {
     "name": "stderr",
     "output_type": "stream",
     "text": [
      "/home/wangyh/miniconda3/envs/patho_AI/lib/python3.8/site-packages/tqdm/auto.py:22: TqdmWarning: IProgress not found. Please update jupyter and ipywidgets. See https://ipywidgets.readthedocs.io/en/stable/user_install.html\n",
      "  from .autonotebook import tqdm as notebook_tqdm\n"
     ]
    }
   ],
   "source": [
    "import torch\n",
    "import torch.nn as nn\n",
    "from torch.utils.data import DataLoader\n",
    "from torch.autograd import Variable\n",
    "import torchvision.transforms.functional as VF\n",
    "from torchvision import transforms\n",
    "\n",
    "import sys, argparse, os, copy, itertools, glob, datetime\n",
    "import pandas as pd\n",
    "import numpy as np\n",
    "from sklearn.utils import shuffle\n",
    "from sklearn.metrics import roc_curve, roc_auc_score, precision_recall_fscore_support\n",
    "from sklearn.datasets import load_svmlight_file\n",
    "from collections import OrderedDict"
   ]
  },
  {
   "cell_type": "code",
   "execution_count": 66,
   "id": "f2a643b4-09f3-4db4-bb98-f3457990e9f4",
   "metadata": {},
   "outputs": [],
   "source": [
    "feature = np.load('../../data/10X_full_slide_features.npy',allow_pickle=True).item()\n",
    "train = np.load('../../config/data_segmentation_csv/10X_tv_grouping.npy',allow_pickle=True).item()\n",
    "full = np.load('../../config/data_segmentation_csv/10X_full.npy',allow_pickle=True).item()\n",
    "train_index = list(train['tv_list'].index)\n",
    "full_index = list(full['full_list'].index)\n",
    "test_index = list(set(full_index)-set(train_index))\n",
    "\n",
    "index_dict = {ind:i for i,ind in enumerate(full_index)}\n",
    "label_dict = {'L':0,'H':1}"
   ]
  },
  {
   "cell_type": "code",
   "execution_count": 80,
   "id": "d20a6bb7-e1b3-452d-afb1-c440d0cf576b",
   "metadata": {},
   "outputs": [],
   "source": [
    "class args():\n",
    "    def __init__(self):\n",
    "        self.dataset = 'TCGA_BLCA'\n",
    "        self.num_classes = 2\n",
    "\n",
    "    def __getattribute__(self, __name: str):\n",
    "        return object.__getattribute__(self, __name)\n",
    "    \n",
    "args = args()"
   ]
  },
  {
   "cell_type": "code",
   "execution_count": 97,
   "id": "344c662b-d19c-42b9-8df8-9bc5886932b7",
   "metadata": {},
   "outputs": [],
   "source": [
    "def get_bag_feats(index, args):\n",
    "#     if args.dataset == 'TCGA-lung-default':\n",
    "#         feats_csv_path = 'datasets/tcga-dataset/tcga_lung_data_feats/' + csv_file_df.iloc[0].split('/')[1] + '.csv'\n",
    "#     else:\n",
    "#         feats_csv_path = csv_file_df.iloc[0]\n",
    "#     df = pd.read_csv(feats_csv_path)\n",
    "#     feats = shuffle(df).reset_index(drop=True)\n",
    "#     feats = feats.to_numpy()\n",
    "#     label = np.zeros(args.num_classes)\n",
    "#     if args.num_classes==1:\n",
    "#         label[0] = csv_file_df.iloc[1]\n",
    "#     else:\n",
    "#         if int(csv_file_df.iloc[1])<=(len(label)-1):\n",
    "#             label[int(csv_file_df.iloc[1])] = 1\n",
    "#     labels = [feature[f'index{index_dict[i]}'][1] for i in indexes]  #list of labels, in form of ['H','L','L'...]\n",
    "#     feats = [feature[f'index{index_dict[i]}'][2] for i in indexes]\n",
    "    \n",
    "    global features\n",
    "    global index_dict\n",
    "    \n",
    "    feats_og = pd.DataFrame(features[f'index{index_dict[index]}'][2])\n",
    "    feats = shuffle(feats_og).reset_index(drop=True).to_numpy()\n",
    "    label_og = label_dict[features[f'index{index_dict[index]}'][1]]   # transformed label in form of int,[0,1]\n",
    "    \n",
    "    label = np.zeros(args.num_classes)\n",
    "    if args.num_classes==1:\n",
    "        label[0] = label_og\n",
    "    else:\n",
    "        if int(label_og)<=(len(label)-1):\n",
    "            label[int(label_og)] = 1\n",
    "    return label,feats"
   ]
  },
  {
   "cell_type": "code",
   "execution_count": 98,
   "id": "9fa7c444-0897-434e-8b15-47b5ccaa391a",
   "metadata": {},
   "outputs": [],
   "source": [
    "_,f = get_bag_feats(test_index[0],args)"
   ]
  },
  {
   "cell_type": "code",
   "execution_count": 99,
   "id": "09976fad-5a9f-4e0b-81db-5e13f2b242dc",
   "metadata": {},
   "outputs": [
    {
     "data": {
      "text/plain": [
       "array([[ 0.03614862,  0.01931491,  0.00420622, ..., -0.03121399,\n",
       "        -0.02962754,  0.02326941],\n",
       "       [-0.01056455,  0.00552965,  0.00076318, ...,  0.00204356,\n",
       "        -0.00944971,  0.03375618],\n",
       "       [ 0.01624807, -0.02702549,  0.03657382, ...,  0.00324069,\n",
       "        -0.0203822 ,  0.00076802],\n",
       "       ...,\n",
       "       [ 0.01556042, -0.01698582,  0.00343989, ..., -0.00370609,\n",
       "         0.01280652, -0.03815655],\n",
       "       [-0.02748846, -0.00973979,  0.00167668, ...,  0.01203365,\n",
       "        -0.0328464 , -0.00955074],\n",
       "       [ 0.02604579, -0.03191727, -0.07271944, ..., -0.01442208,\n",
       "        -0.00617436,  0.07784676]], dtype=float32)"
      ]
     },
     "execution_count": 99,
     "metadata": {},
     "output_type": "execute_result"
    }
   ],
   "source": [
    "f"
   ]
  },
  {
   "cell_type": "code",
   "execution_count": null,
   "id": "c72eb47f-2147-408a-9966-867971bba292",
   "metadata": {},
   "outputs": [],
   "source": []
  }
 ],
 "metadata": {
  "kernelspec": {
   "display_name": "patho_AI",
   "language": "python",
   "name": "patho_ai"
  },
  "language_info": {
   "codemirror_mode": {
    "name": "ipython",
    "version": 3
   },
   "file_extension": ".py",
   "mimetype": "text/x-python",
   "name": "python",
   "nbconvert_exporter": "python",
   "pygments_lexer": "ipython3",
   "version": "3.8.12"
  }
 },
 "nbformat": 4,
 "nbformat_minor": 5
}
