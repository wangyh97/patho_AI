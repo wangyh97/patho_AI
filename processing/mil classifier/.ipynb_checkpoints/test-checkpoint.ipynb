{
 "cells": [
  {
   "cell_type": "code",
   "execution_count": 1,
   "id": "785315d0-94eb-47f1-a067-231928da8d43",
   "metadata": {},
   "outputs": [
    {
     "name": "stderr",
     "output_type": "stream",
     "text": [
      "/home/wangyh/miniconda3/envs/patho_AI/lib/python3.8/site-packages/tqdm/auto.py:22: TqdmWarning: IProgress not found. Please update jupyter and ipywidgets. See https://ipywidgets.readthedocs.io/en/stable/user_install.html\n",
      "  from .autonotebook import tqdm as notebook_tqdm\n"
     ]
    }
   ],
   "source": [
    "import torch\n",
    "import torch.nn as nn\n",
    "from torch.utils.data import DataLoader\n",
    "from torch.autograd import Variable\n",
    "import torchvision.transforms.functional as VF\n",
    "from torchvision import transforms\n",
    "\n",
    "import sys, argparse, os, copy, itertools, glob, datetime\n",
    "import pandas as pd\n",
    "import numpy as np\n",
    "from sklearn.utils import shuffle\n",
    "from sklearn.metrics import roc_curve, roc_auc_score, precision_recall_fscore_support\n",
    "from sklearn.datasets import load_svmlight_file\n",
    "from collections import OrderedDict"
   ]
  },
  {
   "cell_type": "code",
   "execution_count": 66,
   "id": "f2a643b4-09f3-4db4-bb98-f3457990e9f4",
   "metadata": {},
   "outputs": [],
   "source": [
    "feature = np.load('../../data/10X_full_slide_features.npy',allow_pickle=True).item()\n",
    "train = np.load('../../config/data_segmentation_csv/10X_tv_grouping.npy',allow_pickle=True).item()\n",
    "full = np.load('../../config/data_segmentation_csv/10X_full.npy',allow_pickle=True).item()\n",
    "train_index = list(train['tv_list'].index)\n",
    "full_index = list(full['full_list'].index)\n",
    "test_index = list(set(full_index)-set(train_index))\n",
    "\n",
    "index_dict = {ind:i for i,ind in enumerate(full_index)}\n",
    "label_dict = {'L':0,'H':1}"
   ]
  },
  {
   "cell_type": "code",
   "execution_count": 80,
   "id": "d20a6bb7-e1b3-452d-afb1-c440d0cf576b",
   "metadata": {},
   "outputs": [],
   "source": [
    "class args():\n",
    "    def __init__(self):\n",
    "        self.dataset = 'TCGA_BLCA'\n",
    "        self.num_classes = 2\n",
    "\n",
    "    def __getattribute__(self, __name: str):\n",
    "        return object.__getattribute__(self, __name)\n",
    "    \n",
    "args = args()"
   ]
  },
  {
   "cell_type": "code",
   "execution_count": 87,
   "id": "344c662b-d19c-42b9-8df8-9bc5886932b7",
   "metadata": {},
   "outputs": [],
   "source": [
    "def get_bag_feats(index, args):\n",
    "#     if args.dataset == 'TCGA-lung-default':\n",
    "#         feats_csv_path = 'datasets/tcga-dataset/tcga_lung_data_feats/' + csv_file_df.iloc[0].split('/')[1] + '.csv'\n",
    "#     else:\n",
    "#         feats_csv_path = csv_file_df.iloc[0]\n",
    "#     df = pd.read_csv(feats_csv_path)\n",
    "#     feats = shuffle(df).reset_index(drop=True)\n",
    "#     feats = feats.to_numpy()\n",
    "#     label = np.zeros(args.num_classes)\n",
    "#     if args.num_classes==1:\n",
    "#         label[0] = csv_file_df.iloc[1]\n",
    "#     else:\n",
    "#         if int(csv_file_df.iloc[1])<=(len(label)-1):\n",
    "#             label[int(csv_file_df.iloc[1])] = 1\n",
    "#     labels = [feature[f'index{index_dict[i]}'][1] for i in indexes]  #list of labels, in form of ['H','L','L'...]\n",
    "#     feats = [feature[f'index{index_dict[i]}'][2] for i in indexes]\n",
    "    \n",
    "    global features\n",
    "    global index_dict\n",
    "    \n",
    "    feats_og = pd.DataFrame(features[f'index{index_dict[index]}'][2])\n",
    "    feats = shuffle(feats_og).reset_index(drop=True).to_numpy()\n",
    "    label_og = label_dict[features[f'index{index_dict[index]}'][1]]\n",
    "    \n",
    "    label = np.zeros(args.num_classes)\n",
    "    if args.num_classes==1:\n",
    "        label[0] = label_dict[label_og]\n",
    "    else:\n",
    "        if int(label_dict[label_og])<=(len(label)-1):\n",
    "            label[int(label_dict[label_og])] = 1\n",
    "    return label,feats"
   ]
  },
  {
   "cell_type": "code",
   "execution_count": 88,
   "id": "9fa7c444-0897-434e-8b15-47b5ccaa391a",
   "metadata": {},
   "outputs": [
    {
     "data": {
      "text/plain": [
       "(array([0., 1.]),\n",
       " array([[-0.00675709,  0.02075649, -0.00334996, ..., -0.0205915 ,\n",
       "         -0.01555042,  0.02551364],\n",
       "        [ 0.01577863, -0.02273145, -0.06258216, ..., -0.02450243,\n",
       "         -0.00290647,  0.02156596],\n",
       "        [ 0.01863295, -0.01899777,  0.03162501, ...,  0.01648095,\n",
       "         -0.00027668,  0.03627598],\n",
       "        ...,\n",
       "        [-0.00525531, -0.01225789, -0.00722192, ...,  0.03092067,\n",
       "          0.01419014, -0.00814812],\n",
       "        [-0.02077035, -0.01887589,  0.0008723 , ...,  0.01397115,\n",
       "         -0.0024001 , -0.02237615],\n",
       "        [-0.0185443 , -0.0259435 ,  0.0056215 , ..., -0.01363204,\n",
       "          0.02962577, -0.05543531]], dtype=float32))"
      ]
     },
     "execution_count": 88,
     "metadata": {},
     "output_type": "execute_result"
    }
   ],
   "source": [
    "get_bag_feats(test_index[0],args)"
   ]
  },
  {
   "cell_type": "code",
   "execution_count": 77,
   "id": "09976fad-5a9f-4e0b-81db-5e13f2b242dc",
   "metadata": {},
   "outputs": [
    {
     "data": {
      "text/plain": [
       "1"
      ]
     },
     "execution_count": 77,
     "metadata": {},
     "output_type": "execute_result"
    }
   ],
   "source": [
    "label_dict['H']"
   ]
  },
  {
   "cell_type": "code",
   "execution_count": null,
   "id": "c72eb47f-2147-408a-9966-867971bba292",
   "metadata": {},
   "outputs": [],
   "source": []
  }
 ],
 "metadata": {
  "kernelspec": {
   "display_name": "patho_AI",
   "language": "python",
   "name": "patho_ai"
  },
  "language_info": {
   "codemirror_mode": {
    "name": "ipython",
    "version": 3
   },
   "file_extension": ".py",
   "mimetype": "text/x-python",
   "name": "python",
   "nbconvert_exporter": "python",
   "pygments_lexer": "ipython3",
   "version": "3.8.12"
  }
 },
 "nbformat": 4,
 "nbformat_minor": 5
}
