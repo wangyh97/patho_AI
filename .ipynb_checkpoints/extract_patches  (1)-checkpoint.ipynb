{
 "cells": [
  {
   "cell_type": "code",
   "execution_count": 1,
   "metadata": {
    "ExecuteTime": {
     "end_time": "2020-07-04T12:46:31.897968Z",
     "start_time": "2020-07-04T12:46:31.358034Z"
    }
   },
   "outputs": [
    {
     "ename": "ImportError",
     "evalue": "DLL load failed while importing etree: 找不到指定的程序。",
     "output_type": "error",
     "traceback": [
      "\u001b[1;31m---------------------------------------------------------------------------\u001b[0m",
      "\u001b[1;31mImportError\u001b[0m                               Traceback (most recent call last)",
      "Input \u001b[1;32mIn [1]\u001b[0m, in \u001b[0;36m<cell line: 8>\u001b[1;34m()\u001b[0m\n\u001b[0;32m      5\u001b[0m get_ipython()\u001b[38;5;241m.\u001b[39mrun_line_magic(\u001b[38;5;124m'\u001b[39m\u001b[38;5;124mmatplotlib\u001b[39m\u001b[38;5;124m'\u001b[39m, \u001b[38;5;124m'\u001b[39m\u001b[38;5;124minline\u001b[39m\u001b[38;5;124m'\u001b[39m)\n\u001b[0;32m      6\u001b[0m \u001b[38;5;28;01mimport\u001b[39;00m \u001b[38;5;21;01mcv2\u001b[39;00m\n\u001b[1;32m----> 8\u001b[0m \u001b[38;5;28;01mfrom\u001b[39;00m \u001b[38;5;21;01mlxml\u001b[39;00m \u001b[38;5;28;01mimport\u001b[39;00m etree\n\u001b[0;32m     10\u001b[0m \u001b[38;5;28;01mfrom\u001b[39;00m \u001b[38;5;21;01mpathlib\u001b[39;00m \u001b[38;5;28;01mimport\u001b[39;00m Path   \u001b[38;5;66;03m#搞定\u001b[39;00m\n\u001b[0;32m     11\u001b[0m \u001b[38;5;28;01mfrom\u001b[39;00m \u001b[38;5;21;01mPIL\u001b[39;00m \u001b[38;5;28;01mimport\u001b[39;00m Image\n",
      "\u001b[1;31mImportError\u001b[0m: DLL load failed while importing etree: 找不到指定的程序。"
     ]
    }
   ],
   "source": [
    "import openslide\n",
    "from openslide.deepzoom import DeepZoomGenerator\n",
    "import numpy as np\n",
    "import matplotlib.pyplot as plt\n",
    "%matplotlib inline\n",
    "import cv2\n",
    "\n",
    "from lxml import etree\n",
    "\n",
    "from pathlib import Path   #搞定\n",
    "from PIL import Image\n",
    "Image.MAX_IMAGE_PIXELS = None\n",
    "import os\n",
    "import gc\n",
    "import time"
   ]
  },
  {
   "cell_type": "markdown",
   "metadata": {},
   "source": [
    "# 函数"
   ]
  },
  {
   "cell_type": "code",
   "execution_count": 2,
   "metadata": {
    "ExecuteTime": {
     "end_time": "2020-07-04T14:14:11.499410Z",
     "start_time": "2020-07-04T14:14:11.442787Z"
    }
   },
   "outputs": [],
   "source": [
    "def get_slide(slide_path):\n",
    "    slide = openslide.OpenSlide(slide_path)\n",
    "    return slide\n",
    "\n",
    "def AnnotationParser(path):  #提取xml中各个anonotation的坐标信息\n",
    "    assert Path(path).exists(), \"This annotation file does not exist.\"\n",
    "    tree = etree.parse(path)\n",
    "    annotations = tree.xpath(\"/ASAP_Annotations/Annotations/Annotation\")   # 返回的是一个element\n",
    "    annotation_groups = tree.xpath(\"/ASAP_Annotations/AnnotationGroups/Group\")\n",
    "    classes = [group.attrib[\"Name\"] for group in annotation_groups]\n",
    "    def read_mask_coord(cls):  #读取要mask的部分的坐标信息\n",
    "        for annotation in annotations:\n",
    "            if annotation.attrib[\"PartOfGroup\"] == cls:   #这里cls为tumor，fat\n",
    "                contour = []\n",
    "                for coord in annotation.xpath(\"Coordinates/Coordinate\"):  #坐标的位置信息，在x，y属性以tuple保存在contour\n",
    "                    x = np.float(coord.attrib[\"X\"])\n",
    "                    y = np.float(coord.attrib[\"Y\"])\n",
    "                    contour.append([round(float(x)),round(float(y))])\n",
    "                #mask_coords[cls].extend(contour)\n",
    "                mask_coords[cls].append(contour)\n",
    "    def read_mask_coords(classes):\n",
    "        for cls in classes:\n",
    "            read_mask_coord(cls)   #?是不是应该返回mask coords？########\n",
    "        return mask_coords            \n",
    "    mask_coords = {} #一个dict，以cls：contour的形式保存坐标信息，其中contuor是一个以tuple为元素的列表\n",
    "    for cls in classes:\n",
    "        mask_coords[cls] = []  #初始化各个cls的contuor信息为空列表\n",
    "    mask_coords = read_mask_coords(classes) #classes为列表，包含各个cls\n",
    "    return mask_coords,classes\n",
    "def Annotation(slide,path,save_path=None,rule=False,save=False):\n",
    "    #wsi_height = slide.wsi_height\n",
    "    #wsi_width = slide.wsi_width\n",
    "    \n",
    "    wsi_width,wsi_height = slide.level_dimensions[0] #第一个level中x，y方向上分别对应的像素数量\n",
    "    masks = {} #mask的dict，储存不同cls的contour\n",
    "    contours = {}\n",
    "    mask_coords, classes = AnnotationParser(path)\n",
    "    \n",
    "    def base_mask(cls,wsi_height,wsi_width):\n",
    "        masks[cls] = np.zeros((wsi_height,wsi_width),dtype=np.uint8)\n",
    "    def base_masks(wsi_height,wsi_width):\n",
    "        for cls in classes:\n",
    "            base_mask(cls,wsi_height,wsi_width)\n",
    "        return masks\n",
    "    def main_masks(classes,mask_coords,masks):\n",
    "        for cls in classes:\n",
    "            contours = np.array(mask_coords[cls])\n",
    "            #contours = mask_coords[cls]\n",
    "            for contour in contours:\n",
    "                #print(f\"cls:{cls},\\ncontour:{contour},\\ntype:{type(contour)}\")\n",
    "                masks[cls] = cv2.drawContours(masks[cls],[np.int32(contour)],0,True,thickness=cv2.FILLED)\n",
    "        return masks\n",
    "   # def make_masks()\n",
    "    def export_mask(save_path,cls):\n",
    "        assert Path(save_path).is_dir()\n",
    "        cv2.imwrite(str(Path(save_path)/\"{}.tiff\".format(cls)),masks[cls],(cv2.IMWRITE_PXM_BINARY,1))\n",
    "    def export_masks(save_path):\n",
    "        for cls in masks.keys():\n",
    "            export_mask(save_path,cls)\n",
    "    def exclude_masks(masks,rule,classes):\n",
    "        #masks_exclude = masks.copy()\n",
    "        masks_exclude = masks\n",
    "        for cls in classes:\n",
    "            for exclude in rule[cls][\"excludes\"]:\n",
    "                if exclude in masks:\n",
    "                    overlap_area = cv2.bitwise_and(masks[cls],masks[exclude])\n",
    "                    masks_exclude[cls] = cv2.bitwise_xor(masks[cls],overlap_area)\n",
    "        #masks = masks_exclude\n",
    "        return masks_exclude\n",
    "                    \n",
    "    masks = base_masks(wsi_height,wsi_width)\n",
    "    masks = main_masks(classes,mask_coords,masks)\n",
    "    if rule:\n",
    "        classes = list(set(classes) & set(rule.keys()))\n",
    "        masks = exclude_masks(masks,rule,classes)\n",
    "        #include_masks(rule)\n",
    "        #exclude_masks(rule)\n",
    "    if save:\n",
    "        export_masks(save_path)\n",
    "    if \"artifact\" not in classes:\n",
    "        masks[\"artifact\"] = np.zeros((wsi_height,wsi_width),dtype=np.uint8)\n",
    "    if \"mark\" not in classes:\n",
    "        masks[\"mark\"] = np.zeros((wsi_height,wsi_width),dtype=np.uint8)\n",
    "    return masks \n",
    "\n",
    "def show_thumb_mask(mask,size=512):  #将单个mask resize\n",
    "    #mask = masks[cls]\n",
    "    height, width = mask.shape\n",
    "    scale = max(size / height, size / width)\n",
    "    mask_resized = cv2.resize(mask, dsize=None, fx=scale, fy=scale)\n",
    "    mask_scaled = mask_resized * 255\n",
    "    plt.imshow(mask_scaled)\n",
    "    return mask_scaled\n",
    "\n",
    "def get_mask_slide(masks):\n",
    "    tumor_slide = openslide.ImageSlide(Image.fromarray(masks[\"tumors\"]))\n",
    "    mark_slide = openslide.ImageSlide(Image.fromarray(masks[\"mark\"]))\n",
    "    arti_slide = openslide.ImageSlide(Image.fromarray(masks[\"artifact\"]))\n",
    "    return tumor_slide,mark_slide,arti_slide\n",
    "\n",
    "def get_tiles(slide,tumor_slide,mark_slide,arti_slide,tile_size=512,overlap=False,limit_bounds=False):\n",
    "    slide_tiles = DeepZoomGenerator(slide,tile_size,overlap=overlap,limit_bounds=limit_bounds)\n",
    "    tumor_tiles = DeepZoomGenerator(tumor_slide,tile_size,overlap=overlap,limit_bounds=limit_bounds)\n",
    "    mark_tiles = DeepZoomGenerator(mark_slide,tile_size,overlap=overlap,limit_bounds=limit_bounds)\n",
    "    arti_tiles = DeepZoomGenerator(arti_slide,tile_size,overlap=overlap,limit_bounds=limit_bounds)\n",
    "    return slide_tiles,tumor_tiles,mark_tiles,arti_tiles\n",
    "\n",
    "\n",
    "def remove_arti_and_mask(slide_tile,tumor_tile,mark_tile,arti_tile):\n",
    "    slide_tile = np.array(slide_tile)\n",
    "    tumor_tile = np.array(tumor_tile)\n",
    "    mark_tile = np.where(np.array(mark_tile)==0,1,0)\n",
    "    arti_tile = np.where(np.array(arti_tile)==0,1,0)\n",
    "    x = slide_tile.shape\n",
    "    if not x == tumor_tile.shape:\n",
    "        tumor_tile = tumor_tile[:x[0],:x[1],:]\n",
    "    if not mark_tile.shape == x:\n",
    "        mark_tile = mark_tile[:x[0],:x[1],:]\n",
    "    if not arti_tile.shape == x:\n",
    "        arti_tile = arti_tile[:x[0],:x[1],:]\n",
    "    tile = np.multiply(np.multiply(slide_tile,mark_tile),arti_tile)\n",
    "    #if tile[np.where(tile==np.array([0,0,0]))].shape!=(0,):\n",
    "        #tile[np.where(tile==np.array([0,0,0]))]= fill\n",
    "    tile[np.where(tile==np.array([0,0,0]))] = fill\n",
    "    tile_masked= np.multiply(tile,tumor_tile)\n",
    "    tile = Image.fromarray(np.uint8(tile))\n",
    "    #assert tile.size==(512,512),f\"wrong shape:{tile.size}\"\n",
    "    return tile,tile_masked\n",
    "\n",
    "\n",
    "def filtered(tile):\n",
    "    tolerance = np.array([230,230,230])\n",
    "    #tile_1 = tile.copy()\n",
    "    tile[np.where((tile > tolerance).sum(axis=2) == 3)]=0\n",
    "    percent = ((tile != np.array([0,0,0])).astype(float).sum(axis=2)!=0).sum()/(tile.shape[0]**2)\n",
    "    return percent\n",
    "\n",
    "def extract_patches(levels):\n",
    "    for level in levels:\n",
    "        print(f'processing ---level {level}')\n",
    "        tiledir = Path(tile_path)/str(level)\n",
    "        if not Path(tiledir).exists():\n",
    "            os.makedirs(tiledir)\n",
    "            assert slide_tiles.level_tiles[level] == mark_tiles.level_tiles[level]\n",
    "        cols,rows = slide_tiles.level_tiles[level]\n",
    "        for row in range(rows):\n",
    "            for col in range(cols):\n",
    "                tilename = os.path.join(tiledir,'%d_%d.%s'%(col,row,\"tiff\"))\n",
    "                if not Path(tilename).exists():\n",
    "                    slide_tile = slide_tiles.get_tile(level,(col,row))\n",
    "                    #if slide_tile.size == (512,512):\n",
    "                    tumor_tile = tumor_tiles.get_tile(level,(col,row))\n",
    "                    mark_tile = mark_tiles.get_tile(level,(col,row))\n",
    "                    arti_tile = arti_tiles.get_tile(level,(col,row))\n",
    "                    tile,tile_masked = remove_arti_and_mask(slide_tile,tumor_tile,mark_tile,arti_tile)\n",
    "\n",
    "                   # tile_masked = np.multiply(slide_tile,mark_tile)\n",
    "                    percent = filtered(tile_masked)\n",
    "                    if percent >= 0.5:\n",
    "                        tile.save(tilename)\n",
    "                    else:\n",
    "                        pass\n",
    "                \n",
    "        print(\"Done!\")\n",
    "    print(\"All levels processed!!\")"
   ]
  },
  {
   "cell_type": "markdown",
   "metadata": {},
   "source": [
    "# 全局变量\n"
   ]
  },
  {
   "cell_type": "code",
   "execution_count": 3,
   "metadata": {
    "ExecuteTime": {
     "end_time": "2020-07-04T12:46:39.693942Z",
     "start_time": "2020-07-04T12:46:39.685933Z"
    }
   },
   "outputs": [],
   "source": [
    "tile_size=512\n",
    "overlap=0\n",
    "limit_bounds = True\n",
    "rule = {\"tumors\":{\"excludes\":[\"blood\",\"artifact\",\"mask\"]}}  #需要进行自定义\n"
   ]
  },
  {
   "cell_type": "markdown",
   "metadata": {},
   "source": [
    "# 运行"
   ]
  },
  {
   "cell_type": "markdown",
   "metadata": {},
   "source": [
    "## 切割单张WSI\n",
    "- 更改slide_path\n",
    "- 更改patch_path\n"
   ]
  },
  {
   "cell_type": "code",
   "execution_count": 4,
   "metadata": {
    "ExecuteTime": {
     "end_time": "2020-07-04T14:15:36.473080Z",
     "start_time": "2020-07-04T14:15:36.468084Z"
    }
   },
   "outputs": [],
   "source": [
    "slide_path = r\"F:\\lab\\data\\bladder cancer\\TCGA_KIRC\\TCGA-AK-3425\\TCGA-AK-3425-01Z-00-DX1.39FD616C-3050-41E1-BF80-D2069E492FDE.svs\"\n",
    "xml_path = str(Path(slide_path).with_suffix(\".xml\"))\n",
    "patch_path = r\"F:\\test\"\n",
    "levels=[14]"
   ]
  },
  {
   "cell_type": "code",
   "execution_count": 5,
   "metadata": {
    "ExecuteTime": {
     "end_time": "2020-07-04T14:21:08.070310Z",
     "start_time": "2020-07-04T14:15:37.189340Z"
    }
   },
   "outputs": [
    {
     "name": "stderr",
     "output_type": "stream",
     "text": [
      "<ipython-input-2-1660dc5a01aa>:45: VisibleDeprecationWarning: Creating an ndarray from ragged nested sequences (which is a list-or-tuple of lists-or-tuples-or ndarrays with different lengths or shapes) is deprecated. If you meant to do this, you must specify 'dtype=object' when creating the ndarray\n",
      "  contours = np.array(mask_coords[cls])\n"
     ]
    },
    {
     "name": "stdout",
     "output_type": "stream",
     "text": [
      "masks groups includes :['tumors', 'blood', 'artifact', 'mark']\n",
      "fill_blank_value:243\n",
      "processing ---level 14\n",
      "Done!\n",
      "All levels processed!!\n"
     ]
    }
   ],
   "source": [
    "case_name = Path(slide_path).parent.name\n",
    "case_path = Path(patch_path)/Path(slide_path).parts[2]/case_name  # 把2改成4\n",
    "tile_path = Path(case_path)/Path(slide_path).stem.split(\".\")[0]\n",
    "slide = get_slide(slide_path)   #返回 openslide.Openslide\n",
    "masks = Annotation(slide,path=str(xml_path))\n",
    "print(f\"masks groups includes :{list(masks.keys())}\")\n",
    "tumor_slide,mark_slide,arti_slide = get_mask_slide(masks)\n",
    "slide_tiles,tumor_tiles,mark_tiles,arti_tiles = get_tiles(slide,tumor_slide,mark_slide,arti_slide,tile_size=512,overlap=False,limit_bounds=False)\n",
    "fill = int(np.array(slide_tiles.get_tile(16,(0,0))).mean())\n",
    "print(f\"fill_blank_value:{fill}\")\n",
    "extract_patches(levels)"
   ]
  },
  {
   "cell_type": "markdown",
   "metadata": {},
   "source": [
    "## 切割完整全部WSI\n",
    "- **更改levels，确保levels包含13，14，15，16** \n",
    "- 更改slide_source为存放TCGA_cases的位置\n",
    "- 更改patch_path"
   ]
  },
  {
   "cell_type": "code",
   "execution_count": null,
   "metadata": {
    "ExecuteTime": {
     "end_time": "2020-07-04T10:06:17.207524Z",
     "start_time": "2020-07-04T10:06:17.193530Z"
    }
   },
   "outputs": [],
   "source": [
    "levels = [13,14,15,16]\n",
    "slide_source = r\"D:\\cases\"\n",
    "patch_path = r\"E:\\TCGA_patch\"\n",
    "svs_paths = list(Path(slide_source).rglob(\"*.svs\"))\n"
   ]
  },
  {
   "cell_type": "code",
   "execution_count": null,
   "metadata": {
    "ExecuteTime": {
     "start_time": "2020-07-04T10:01:37.466Z"
    }
   },
   "outputs": [],
   "source": [
    "extracted_case = []\n",
    "un_extracted_case = []\n",
    "for i,svs in enumerate(svs_paths):\n",
    "    start = time.time()\n",
    "    totol_num = len(svs_paths)\n",
    "    print(f\"processing  {i+1}/{totol_num}:------{svs}\")\n",
    "    xml_path = str(Path(svs).with_suffix(\".xml\"))\n",
    "    case_name = Path(svs).parent.name\n",
    "    case_path = Path(patch_path)/Path(svs).parts[2]/case_name\n",
    "    tile_path = Path(case_path)/Path(svs).stem.split(\".\")[0]\n",
    "    slide = get_slide(str(svs))\n",
    "    masks = Annotation(slide,path=str(xml_path))\n",
    "    print(f\"masks groups includes :{list(masks.keys())}\")\n",
    "    tumor_slide,mark_slide,arti_slide = get_mask_slide(masks)\n",
    "    slide_tiles,tumor_tiles,mark_tiles,arti_tiles = get_tiles(slide,tumor_slide,mark_slide,arti_slide,tile_size=512,overlap=False,limit_bounds=False)\n",
    "    fill = int(np.array(slide_tiles.get_tile(16,(0,0))).mean())\n",
    "    print(f\"fill_blank_value:{fill}\")\n",
    "    del slide\n",
    "    gc.collect()\n",
    "    try:\n",
    "        extract_patches(levels)\n",
    "        extracted_case.append(svs)\n",
    "    except:\n",
    "        un_extracted_case.append(svs)\n",
    "        continue\n",
    "    end = time.time()\n",
    "    print(f\"Time consumed : {(end-start)/60} min\")"
   ]
  },
  {
   "cell_type": "code",
   "execution_count": null,
   "metadata": {},
   "outputs": [],
   "source": []
  }
 ],
 "metadata": {
  "kernelspec": {
   "display_name": "Python 3.10.4 ('cv')",
   "language": "python",
   "name": "python3"
  },
  "language_info": {
   "codemirror_mode": {
    "name": "ipython",
    "version": 3
   },
   "file_extension": ".py",
   "mimetype": "text/x-python",
   "name": "python",
   "nbconvert_exporter": "python",
   "pygments_lexer": "ipython3",
   "version": "3.10.4"
  },
  "latex_envs": {
   "LaTeX_envs_menu_present": true,
   "autoclose": false,
   "autocomplete": true,
   "bibliofile": "biblio.bib",
   "cite_by": "apalike",
   "current_citInitial": 1,
   "eqLabelWithNumbers": true,
   "eqNumInitial": 1,
   "hotkeys": {
    "equation": "Ctrl-E",
    "itemize": "Ctrl-I"
   },
   "labels_anchors": false,
   "latex_user_defs": false,
   "report_style_numbering": false,
   "user_envs_cfg": false
  },
  "toc": {
   "base_numbering": 1,
   "nav_menu": {},
   "number_sections": true,
   "sideBar": true,
   "skip_h1_title": false,
   "title_cell": "Table of Contents",
   "title_sidebar": "Contents",
   "toc_cell": false,
   "toc_position": {
    "height": "calc(100% - 180px)",
    "left": "10px",
    "top": "150px",
    "width": "193.2px"
   },
   "toc_section_display": true,
   "toc_window_display": true
  },
  "vscode": {
   "interpreter": {
    "hash": "417ebcec0d61a377b9c0e7e9d093b5835782c1a9778217a9f69eb7054e80a996"
   }
  }
 },
 "nbformat": 4,
 "nbformat_minor": 4
}
