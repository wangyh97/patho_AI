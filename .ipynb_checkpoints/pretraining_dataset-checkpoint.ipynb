{
 "cells": [
  {
   "cell_type": "code",
   "execution_count": 4,
   "metadata": {},
   "outputs": [],
   "source": [
    "import pandas as pd\n",
    "import os\n",
    "import pathlib\n",
    "from pathlib import Path\n",
    "os.environ['KMP_DUPLICATE_LIB_OK'] = 'TRUE'"
   ]
  },
  {
   "cell_type": "code",
   "execution_count": 8,
   "metadata": {},
   "outputs": [
    {
     "data": {
      "text/plain": [
       "0     0656b32c-0e05-4b85-96b4-8a28d15da81b\n",
       "1     b59f78d8-3f96-475f-b685-4932fd976177\n",
       "2     3bf47d5d-c183-4934-9c61-62991a2c2bd7\n",
       "3     28de5ceb-ba67-484a-b20d-1b9a129483f8\n",
       "4     1b5b9f8c-8266-4a31-8ac7-fac30e5a5502\n",
       "                      ...                 \n",
       "70    278e745d-72e3-4538-8b07-0b9157e605d3\n",
       "71    05e99737-1738-432d-bf0e-7ca0bbb11c31\n",
       "72    f6f1c724-96f3-45ac-ab48-446fca061d23\n",
       "73    6d94e519-6dea-42d0-a505-f36ab27f2f3f\n",
       "74    fa95d06a-b753-4bfd-b890-82bd9ddfd974\n",
       "Name: dir_uuid, Length: 75, dtype: object"
      ]
     },
     "execution_count": 8,
     "metadata": {},
     "output_type": "execute_result"
    }
   ],
   "source": [
    "df = pd.read_csv('dir_uuid.csv')\n",
    "uuid = df['dir_uuid']"
   ]
  },
  {
   "cell_type": "markdown",
   "metadata": {},
   "source": [
    "# 函数"
   ]
  },
  {
   "cell_type": "code",
   "execution_count": null,
   "metadata": {},
   "outputs": [],
   "source": [
    "def get_wsi_path(uuid,target_path):\n",
    "    #根据uuid获取相应文件夹内的wsi文件的path\n",
    "    dir = os.path.join(target_path,uuid)\n",
    "    return dir\n",
    "def get_slide(slide_path):\n",
    "    pass"
   ]
  },
  {
   "cell_type": "code",
   "execution_count": null,
   "metadata": {},
   "outputs": [],
   "source": [
    "target_path ='/mnt/wangyh/TCGA_bladder/TCGA_bladder'\n",
    "wsi_path = []\n",
    "for i in uuid:\n",
    "    wsi_path.append(get_wsi_path(i,target_path))"
   ]
  }
 ],
 "metadata": {
  "kernelspec": {
   "display_name": "Python 3.10.4 ('data_analysis')",
   "language": "python",
   "name": "python3"
  },
  "language_info": {
   "codemirror_mode": {
    "name": "ipython",
    "version": 3
   },
   "file_extension": ".py",
   "mimetype": "text/x-python",
   "name": "python",
   "nbconvert_exporter": "python",
   "pygments_lexer": "ipython3",
   "version": "3.10.4"
  },
  "orig_nbformat": 4,
  "vscode": {
   "interpreter": {
    "hash": "be7f9b939c4b0d6646bd6e1fd5ac0b5ac685cf95a2b904b517e96a6e9af6dfd3"
   }
  }
 },
 "nbformat": 4,
 "nbformat_minor": 2
}
