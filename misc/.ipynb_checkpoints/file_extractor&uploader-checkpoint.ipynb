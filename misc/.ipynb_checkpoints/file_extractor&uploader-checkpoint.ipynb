{
 "cells": [
  {
   "cell_type": "code",
   "execution_count": 1,
   "metadata": {},
   "outputs": [
    {
     "name": "stderr",
     "output_type": "stream",
     "text": [
      "f:\\miniconda\\envs\\data_analysis\\lib\\site-packages\\paramiko\\transport.py:219: CryptographyDeprecationWarning: Blowfish has been deprecated\n",
      "  \"class\": algorithms.Blowfish,\n"
     ]
    }
   ],
   "source": [
    "import pandas as pd\n",
    "import openpyxl\n",
    "import os\n",
    "import paramiko\n",
    "os.environ['KMP_DUPLICATE_LIB_OK'] = 'TRUE'"
   ]
  },
  {
   "cell_type": "markdown",
   "metadata": {},
   "source": [
    "# 取得良好标记的图片的uuid"
   ]
  },
  {
   "cell_type": "code",
   "execution_count": 2,
   "metadata": {},
   "outputs": [
    {
     "name": "stderr",
     "output_type": "stream",
     "text": [
      "f:\\miniconda\\envs\\data_analysis\\lib\\site-packages\\openpyxl\\reader\\excel.py:228: UserWarning: Data Validation extension is not supported and will be removed\n",
      "  ws_parser.bind_all()\n"
     ]
    }
   ],
   "source": [
    "wb = openpyxl.load_workbook('I:/blca.rev.xlsx')\n",
    "ws = wb.active"
   ]
  },
  {
   "cell_type": "code",
   "execution_count": 4,
   "metadata": {},
   "outputs": [
    {
     "data": {
      "text/plain": [
       "385"
      ]
     },
     "execution_count": 4,
     "metadata": {},
     "output_type": "execute_result"
    }
   ],
   "source": [
    "#获取所有标记过的数据：黄色数据的index，放在interested_cols_index这个列表里\n",
    "colA = ws['A']\n",
    "color_ls = []\n",
    "for i in colA:\n",
    "    # print(i,type(i))\n",
    "    color_ls.append(i.fill.fgColor.rgb)\n",
    "\n",
    "\n",
    "interested_cols_index = []\n",
    "for index,color in enumerate(color_ls):\n",
    "    if color == 'FFFFFF00':\n",
    "        interested_cols_index.append(index)\n",
    "len(interested_cols_index)"
   ]
  },
  {
   "cell_type": "code",
   "execution_count": null,
   "metadata": {},
   "outputs": [],
   "source": [
    "#获取所有标记为清晰、整块的数据的index\n",
    "cols_quality = ws['D':'E']\n",
    "# len(cols_quality)\n",
    "quality_cols_index = []\n",
    "for i,a in enumerate(cols_quality[0]):\n",
    "    if a.value == '清晰':\n",
    "        if cols_quality[1][i].value == '整块':\n",
    "            quality_cols_index.append(i-1)  #这个index交给pandas处理，因为首行作为标题行不算index，所以实际index要-1\n",
    "        else:\n",
    "            print(f'index{i} is not a bulk')\n",
    "    else:\n",
    "        print(f'index{i} is not well demarcated')\n",
    "quality_cols_index"
   ]
  },
  {
   "cell_type": "code",
   "execution_count": 9,
   "metadata": {},
   "outputs": [
    {
     "name": "stderr",
     "output_type": "stream",
     "text": [
      "f:\\miniconda\\envs\\data_analysis\\lib\\site-packages\\openpyxl\\worksheet\\_read_only.py:79: UserWarning: Data Validation extension is not supported and will be removed\n",
      "  for idx, row in parser.parse():\n"
     ]
    }
   ],
   "source": [
    "#用pandas根据index取得uuid\n",
    "df = pd.read_excel('G:\\gitcode\\patho_AI\\\\blca.xlsx')\n",
    "dir_uuid = df.iloc[quality_cols_index,0]\n",
    "dir_uuid.to_csv('G:\\gitcode\\patho_AI\\\\dir_uuid.csv')"
   ]
  }
 ],
 "metadata": {
  "kernelspec": {
   "display_name": "Python 3 (ipykernel)",
   "language": "python",
   "name": "python3"
  },
  "language_info": {
   "codemirror_mode": {
    "name": "ipython",
    "version": 3
   },
   "file_extension": ".py",
   "mimetype": "text/x-python",
   "name": "python",
   "nbconvert_exporter": "python",
   "pygments_lexer": "ipython3",
   "version": "3.8.10"
  },
  "vscode": {
   "interpreter": {
    "hash": "be7f9b939c4b0d6646bd6e1fd5ac0b5ac685cf95a2b904b517e96a6e9af6dfd3"
   }
  }
 },
 "nbformat": 4,
 "nbformat_minor": 4
}
