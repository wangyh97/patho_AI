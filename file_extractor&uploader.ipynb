{
 "cells": [
  {
   "cell_type": "code",
   "execution_count": 1,
   "metadata": {},
   "outputs": [
    {
     "name": "stderr",
     "output_type": "stream",
     "text": [
      "f:\\miniconda\\envs\\data_analysis\\lib\\site-packages\\paramiko\\transport.py:219: CryptographyDeprecationWarning: Blowfish has been deprecated\n",
      "  \"class\": algorithms.Blowfish,\n"
     ]
    }
   ],
   "source": [
    "import pandas as pd\n",
    "import openpyxl\n",
    "import os\n",
    "import paramiko\n",
    "os.environ['KMP_DUPLICATE_LIB_OK'] = 'TRUE'"
   ]
  },
  {
   "cell_type": "markdown",
   "metadata": {},
   "source": [
    "# 取得良好标记的图片的uuid"
   ]
  },
  {
   "cell_type": "code",
   "execution_count": 2,
   "metadata": {},
   "outputs": [
    {
     "name": "stderr",
     "output_type": "stream",
     "text": [
      "f:\\miniconda\\envs\\data_analysis\\lib\\site-packages\\openpyxl\\reader\\excel.py:228: UserWarning: Data Validation extension is not supported and will be removed\n",
      "  ws_parser.bind_all()\n"
     ]
    }
   ],
   "source": [
    "wb = openpyxl.load_workbook('I:/blca.rev.xlsx')\n",
    "ws = wb.active"
   ]
  },
  {
   "cell_type": "code",
   "execution_count": 4,
   "metadata": {},
   "outputs": [
    {
     "data": {
      "text/plain": [
       "385"
      ]
     },
     "execution_count": 4,
     "metadata": {},
     "output_type": "execute_result"
    }
   ],
   "source": [
    "#获取所有标记过的数据：黄色数据的index，放在interested_cols_index这个列表里\n",
    "colA = ws['A']\n",
    "color_ls = []\n",
    "for i in colA:\n",
    "    # print(i,type(i))\n",
    "    color_ls.append(i.fill.fgColor.rgb)\n",
    "\n",
    "\n",
    "interested_cols_index = []\n",
    "for index,color in enumerate(color_ls):\n",
    "    if color == 'FFFFFF00':\n",
    "        interested_cols_index.append(index)\n",
    "len(interested_cols_index)"
   ]
  },
  {
   "cell_type": "code",
   "execution_count": null,
   "metadata": {},
   "outputs": [],
   "source": [
    "#获取所有标记为清晰、整块的数据的index\n",
    "cols_quality = ws['D':'E']\n",
    "# len(cols_quality)\n",
    "quality_cols_index = []\n",
    "for i,a in enumerate(cols_quality[0]):\n",
    "    if a.value == '清晰':\n",
    "        if cols_quality[1][i].value == '整块':\n",
    "            quality_cols_index.append(i-1)  #这个index交给pandas处理，因为首行作为标题行不算index，所以实际index要-1\n",
    "        else:\n",
    "            print(f'index{i} is not a bulk')\n",
    "    else:\n",
    "        print(f'index{i} is not well demarcated')\n",
    "quality_cols_index"
   ]
  },
  {
   "cell_type": "code",
   "execution_count": 9,
   "metadata": {},
   "outputs": [
    {
     "name": "stderr",
     "output_type": "stream",
     "text": [
      "f:\\miniconda\\envs\\data_analysis\\lib\\site-packages\\openpyxl\\worksheet\\_read_only.py:79: UserWarning: Data Validation extension is not supported and will be removed\n",
      "  for idx, row in parser.parse():\n"
     ]
    }
   ],
   "source": [
    "#用pandas根据index取得uuid\n",
    "df = pd.read_excel('G:\\gitcode\\patho_AI\\\\blca.xlsx')\n",
    "dir_uuid = df.iloc[quality_cols_index,0]\n",
    "dir_uuid.to_csv('G:\\gitcode\\patho_AI\\\\dir_uuid.csv')"
   ]
  },
  {
   "cell_type": "markdown",
   "metadata": {},
   "source": [
    "# 根据uuid提取相应wsi并切片到pretrainings"
   ]
  },
  {
   "cell_type": "markdown",
   "metadata": {},
   "source": [
    "# 将良好标记的图片批量上传到服务器"
   ]
  },
  {
   "cell_type": "code",
   "execution_count": 13,
   "metadata": {},
   "outputs": [],
   "source": [
    "def uploader(filename):\n",
    "    #实例化sshclient\n",
    "    ssh_client = paramiko.SSHClient()   \n",
    "    # 自动添加策略，保存服务器的主机名和密钥信息，如果不添加，那么不再本地know_hosts文件中记录的主机将无法连接 ，此方法必须放在connect方法的前面\n",
    "    ssh_client.set_missing_host_key_policy(paramiko.AutoAddPolicy())   \n",
    "    # 连接SSH服务端，以用户名和密码进行认证 ，调用connect方法连接服务器\n",
    "    ssh_client.connect(hostname='fe80::5c90:b71b:2a6e:d571', port=22, username='wangyh', password='WangYingHan01~')   \n",
    "    # 打开一个Channel并执行命令  结果放到stdout中，如果有错误将放到stderr中\n",
    "    stdin, stdout, stderr = ssh_client.exec_command('df -hT ') \n",
    "    # stdout 为正确输出，stderr为错误输出，同时是有1个变量有值   # 打印执行结果  print(stdout.read().decode('utf-8'))  \n",
    "    sftp = ssh_client.open_sftp()\n",
    "    local_path = filename\n",
    "    remote_path = '/uro_biomarker/pretrainings/'\n",
    "    sftp.put(local_path, remote_path)\n",
    "    sftp.close()\n",
    "    # 关闭SSHClient连接 \n",
    "    ssh_client.close()"
   ]
  },
  {
   "cell_type": "code",
   "execution_count": 14,
   "metadata": {},
   "outputs": [
    {
     "ename": "TimeoutError",
     "evalue": "[WinError 10060] 由于连接方在一段时间后没有正确答复或连接的主机没有反应，连接尝试失败。",
     "output_type": "error",
     "traceback": [
      "\u001b[1;31m---------------------------------------------------------------------------\u001b[0m",
      "\u001b[1;31mTimeoutError\u001b[0m                              Traceback (most recent call last)",
      "\u001b[1;32mh:\\file_extractor&uploader.ipynb Cell 9\u001b[0m in \u001b[0;36m<cell line: 1>\u001b[1;34m()\u001b[0m\n\u001b[1;32m----> <a href='vscode-notebook-cell:/h%3A/file_extractor%26uploader.ipynb#X11sZmlsZQ%3D%3D?line=0'>1</a>\u001b[0m uploader(\u001b[39m'\u001b[39;49m\u001b[39mblca.xlsx\u001b[39;49m\u001b[39m'\u001b[39;49m)\n",
      "\u001b[1;32mh:\\file_extractor&uploader.ipynb Cell 9\u001b[0m in \u001b[0;36muploader\u001b[1;34m(filename)\u001b[0m\n\u001b[0;32m      <a href='vscode-notebook-cell:/h%3A/file_extractor%26uploader.ipynb#X11sZmlsZQ%3D%3D?line=4'>5</a>\u001b[0m ssh_client\u001b[39m.\u001b[39mset_missing_host_key_policy(paramiko\u001b[39m.\u001b[39mAutoAddPolicy())   \n\u001b[0;32m      <a href='vscode-notebook-cell:/h%3A/file_extractor%26uploader.ipynb#X11sZmlsZQ%3D%3D?line=5'>6</a>\u001b[0m \u001b[39m# 连接SSH服务端，以用户名和密码进行认证 ，调用connect方法连接服务器\u001b[39;00m\n\u001b[1;32m----> <a href='vscode-notebook-cell:/h%3A/file_extractor%26uploader.ipynb#X11sZmlsZQ%3D%3D?line=6'>7</a>\u001b[0m ssh_client\u001b[39m.\u001b[39;49mconnect(hostname\u001b[39m=\u001b[39;49m\u001b[39m'\u001b[39;49m\u001b[39mfe80::5c90:b71b:2a6e:d571\u001b[39;49m\u001b[39m'\u001b[39;49m, port\u001b[39m=\u001b[39;49m\u001b[39m22\u001b[39;49m, username\u001b[39m=\u001b[39;49m\u001b[39m'\u001b[39;49m\u001b[39mwangyh\u001b[39;49m\u001b[39m'\u001b[39;49m, password\u001b[39m=\u001b[39;49m\u001b[39m'\u001b[39;49m\u001b[39mWangYingHan01~\u001b[39;49m\u001b[39m'\u001b[39;49m)   \n\u001b[0;32m      <a href='vscode-notebook-cell:/h%3A/file_extractor%26uploader.ipynb#X11sZmlsZQ%3D%3D?line=7'>8</a>\u001b[0m \u001b[39m# 打开一个Channel并执行命令  结果放到stdout中，如果有错误将放到stderr中\u001b[39;00m\n\u001b[0;32m      <a href='vscode-notebook-cell:/h%3A/file_extractor%26uploader.ipynb#X11sZmlsZQ%3D%3D?line=8'>9</a>\u001b[0m stdin, stdout, stderr \u001b[39m=\u001b[39m ssh_client\u001b[39m.\u001b[39mexec_command(\u001b[39m'\u001b[39m\u001b[39mdf -hT \u001b[39m\u001b[39m'\u001b[39m) \n",
      "File \u001b[1;32mf:\\miniconda\\envs\\data_analysis\\lib\\site-packages\\paramiko\\client.py:349\u001b[0m, in \u001b[0;36mSSHClient.connect\u001b[1;34m(self, hostname, port, username, password, pkey, key_filename, timeout, allow_agent, look_for_keys, compress, sock, gss_auth, gss_kex, gss_deleg_creds, gss_host, banner_timeout, auth_timeout, gss_trust_dns, passphrase, disabled_algorithms)\u001b[0m\n\u001b[0;32m    347\u001b[0m     \u001b[39mexcept\u001b[39;00m:\n\u001b[0;32m    348\u001b[0m         \u001b[39mpass\u001b[39;00m\n\u001b[1;32m--> 349\u001b[0m retry_on_signal(\u001b[39mlambda\u001b[39;49;00m: sock\u001b[39m.\u001b[39;49mconnect(addr))\n\u001b[0;32m    350\u001b[0m \u001b[39m# Break out of the loop on success\u001b[39;00m\n\u001b[0;32m    351\u001b[0m \u001b[39mbreak\u001b[39;00m\n",
      "File \u001b[1;32mf:\\miniconda\\envs\\data_analysis\\lib\\site-packages\\paramiko\\util.py:283\u001b[0m, in \u001b[0;36mretry_on_signal\u001b[1;34m(function)\u001b[0m\n\u001b[0;32m    281\u001b[0m \u001b[39mwhile\u001b[39;00m \u001b[39mTrue\u001b[39;00m:\n\u001b[0;32m    282\u001b[0m     \u001b[39mtry\u001b[39;00m:\n\u001b[1;32m--> 283\u001b[0m         \u001b[39mreturn\u001b[39;00m function()\n\u001b[0;32m    284\u001b[0m     \u001b[39mexcept\u001b[39;00m \u001b[39mEnvironmentError\u001b[39;00m \u001b[39mas\u001b[39;00m e:\n\u001b[0;32m    285\u001b[0m         \u001b[39mif\u001b[39;00m e\u001b[39m.\u001b[39merrno \u001b[39m!=\u001b[39m errno\u001b[39m.\u001b[39mEINTR:\n",
      "File \u001b[1;32mf:\\miniconda\\envs\\data_analysis\\lib\\site-packages\\paramiko\\client.py:349\u001b[0m, in \u001b[0;36mSSHClient.connect.<locals>.<lambda>\u001b[1;34m()\u001b[0m\n\u001b[0;32m    347\u001b[0m     \u001b[39mexcept\u001b[39;00m:\n\u001b[0;32m    348\u001b[0m         \u001b[39mpass\u001b[39;00m\n\u001b[1;32m--> 349\u001b[0m retry_on_signal(\u001b[39mlambda\u001b[39;00m: sock\u001b[39m.\u001b[39;49mconnect(addr))\n\u001b[0;32m    350\u001b[0m \u001b[39m# Break out of the loop on success\u001b[39;00m\n\u001b[0;32m    351\u001b[0m \u001b[39mbreak\u001b[39;00m\n",
      "\u001b[1;31mTimeoutError\u001b[0m: [WinError 10060] 由于连接方在一段时间后没有正确答复或连接的主机没有反应，连接尝试失败。"
     ]
    }
   ],
   "source": [
    "uploader('blca.xlsx')"
   ]
  },
  {
   "cell_type": "code",
   "execution_count": 18,
   "metadata": {},
   "outputs": [],
   "source": [
    "hostname = '192.168.0.200'\n",
    "host_port = 22\n",
    "username = 'wangyh'\n",
    "password = 'WangYingHan01~'\n",
    "\n",
    "def ssh_client_con():\n",
    "    \"\"\"创建ssh连接，并执行shell指令\"\"\"\n",
    "    # 1 创建ssh_client实例\n",
    "    ssh_client = paramiko.SSHClient()\n",
    "    # 自动处理第一次连接的yes或者no的问题\n",
    "    ssh_client.set_missing_host_key_policy(paramiko.AutoAddPolicy)\n",
    "\n",
    "    # 2 连接服务器\n",
    "    ssh_client.connect(\n",
    "        port=host_port,\n",
    "        hostname=hostname,\n",
    "        username=username,\n",
    "        password=password\n",
    "    )\n",
    "\n",
    "    # 3 执行shell命令\n",
    "    # 构造shell指令\n",
    "    shell_command = \"ps aux\"\n",
    "    # 执行shell指令\n",
    "    stdin, stdout, stderr = ssh_client.exec_command(shell_command)\n",
    "    # 输出返回信息\n",
    "    stdout_info = stdout.read().decode('utf8')\n",
    "    print(stdout_info)\n",
    "\n",
    "    # 输出返回的错误信息\n",
    "    stderr_info = stderr.read().decode('utf8')\n",
    "    print(stderr_info)\n",
    "\n",
    "def sftp_client_con():\n",
    "    # 1 创建transport通道\n",
    "    tran = paramiko.Transport((hostname, host_port))\n",
    "    tran.connect(username=username, password=password)\n",
    "    # 2 创建sftp实例\n",
    "    sftp = paramiko.SFTPClient.from_transport(tran)\n",
    "\n",
    "    # 3 执行上传功能\n",
    "    local_path = \"'blca.xlsx'\"          # 本地路径\n",
    "    remote_path = \"/home/wangyh/uro_biomarker/pretrainings\"    # 远程路径\n",
    "    put_info = sftp.put(local_path, remote_path, confirm=True)\n",
    "    print(put_info)\n",
    "    print(f\"上传{local_path}完成\")\n",
    "    \n",
    "    ''' \n",
    "    # 4 执行下载功能\n",
    "    save_path = \"7.jpg\"             # 本地保存文件路径\n",
    "    sftp.get(remotepath=remote_path, localpath=save_path)\n",
    "    print(f'下载{save_path}完成')\n",
    "    '''\n",
    "\n",
    "    # 5 关闭通道\n",
    "    tran.close()"
   ]
  },
  {
   "cell_type": "code",
   "execution_count": 19,
   "metadata": {},
   "outputs": [
    {
     "ename": "TimeoutError",
     "evalue": "[WinError 10060] 由于连接方在一段时间后没有正确答复或连接的主机没有反应，连接尝试失败。",
     "output_type": "error",
     "traceback": [
      "\u001b[1;31m---------------------------------------------------------------------------\u001b[0m",
      "\u001b[1;31mTimeoutError\u001b[0m                              Traceback (most recent call last)",
      "\u001b[1;32mh:\\file_extractor&uploader.ipynb Cell 11\u001b[0m in \u001b[0;36m<cell line: 1>\u001b[1;34m()\u001b[0m\n\u001b[1;32m----> <a href='vscode-notebook-cell:/h%3A/file_extractor%26uploader.ipynb#X13sZmlsZQ%3D%3D?line=0'>1</a>\u001b[0m ssh_client_con()\n\u001b[0;32m      <a href='vscode-notebook-cell:/h%3A/file_extractor%26uploader.ipynb#X13sZmlsZQ%3D%3D?line=1'>2</a>\u001b[0m sftp_client_con()\n",
      "\u001b[1;32mh:\\file_extractor&uploader.ipynb Cell 11\u001b[0m in \u001b[0;36mssh_client_con\u001b[1;34m()\u001b[0m\n\u001b[0;32m     <a href='vscode-notebook-cell:/h%3A/file_extractor%26uploader.ipynb#X13sZmlsZQ%3D%3D?line=10'>11</a>\u001b[0m ssh_client\u001b[39m.\u001b[39mset_missing_host_key_policy(paramiko\u001b[39m.\u001b[39mAutoAddPolicy)\n\u001b[0;32m     <a href='vscode-notebook-cell:/h%3A/file_extractor%26uploader.ipynb#X13sZmlsZQ%3D%3D?line=12'>13</a>\u001b[0m \u001b[39m# 2 连接服务器\u001b[39;00m\n\u001b[1;32m---> <a href='vscode-notebook-cell:/h%3A/file_extractor%26uploader.ipynb#X13sZmlsZQ%3D%3D?line=13'>14</a>\u001b[0m ssh_client\u001b[39m.\u001b[39;49mconnect(\n\u001b[0;32m     <a href='vscode-notebook-cell:/h%3A/file_extractor%26uploader.ipynb#X13sZmlsZQ%3D%3D?line=14'>15</a>\u001b[0m     port\u001b[39m=\u001b[39;49mhost_port,\n\u001b[0;32m     <a href='vscode-notebook-cell:/h%3A/file_extractor%26uploader.ipynb#X13sZmlsZQ%3D%3D?line=15'>16</a>\u001b[0m     hostname\u001b[39m=\u001b[39;49mhostname,\n\u001b[0;32m     <a href='vscode-notebook-cell:/h%3A/file_extractor%26uploader.ipynb#X13sZmlsZQ%3D%3D?line=16'>17</a>\u001b[0m     username\u001b[39m=\u001b[39;49musername,\n\u001b[0;32m     <a href='vscode-notebook-cell:/h%3A/file_extractor%26uploader.ipynb#X13sZmlsZQ%3D%3D?line=17'>18</a>\u001b[0m     password\u001b[39m=\u001b[39;49mpassword\n\u001b[0;32m     <a href='vscode-notebook-cell:/h%3A/file_extractor%26uploader.ipynb#X13sZmlsZQ%3D%3D?line=18'>19</a>\u001b[0m )\n\u001b[0;32m     <a href='vscode-notebook-cell:/h%3A/file_extractor%26uploader.ipynb#X13sZmlsZQ%3D%3D?line=20'>21</a>\u001b[0m \u001b[39m# 3 执行shell命令\u001b[39;00m\n\u001b[0;32m     <a href='vscode-notebook-cell:/h%3A/file_extractor%26uploader.ipynb#X13sZmlsZQ%3D%3D?line=21'>22</a>\u001b[0m \u001b[39m# 构造shell指令\u001b[39;00m\n\u001b[0;32m     <a href='vscode-notebook-cell:/h%3A/file_extractor%26uploader.ipynb#X13sZmlsZQ%3D%3D?line=22'>23</a>\u001b[0m shell_command \u001b[39m=\u001b[39m \u001b[39m\"\u001b[39m\u001b[39mps aux\u001b[39m\u001b[39m\"\u001b[39m\n",
      "File \u001b[1;32mf:\\miniconda\\envs\\data_analysis\\lib\\site-packages\\paramiko\\client.py:349\u001b[0m, in \u001b[0;36mSSHClient.connect\u001b[1;34m(self, hostname, port, username, password, pkey, key_filename, timeout, allow_agent, look_for_keys, compress, sock, gss_auth, gss_kex, gss_deleg_creds, gss_host, banner_timeout, auth_timeout, gss_trust_dns, passphrase, disabled_algorithms)\u001b[0m\n\u001b[0;32m    347\u001b[0m     \u001b[39mexcept\u001b[39;00m:\n\u001b[0;32m    348\u001b[0m         \u001b[39mpass\u001b[39;00m\n\u001b[1;32m--> 349\u001b[0m retry_on_signal(\u001b[39mlambda\u001b[39;49;00m: sock\u001b[39m.\u001b[39;49mconnect(addr))\n\u001b[0;32m    350\u001b[0m \u001b[39m# Break out of the loop on success\u001b[39;00m\n\u001b[0;32m    351\u001b[0m \u001b[39mbreak\u001b[39;00m\n",
      "File \u001b[1;32mf:\\miniconda\\envs\\data_analysis\\lib\\site-packages\\paramiko\\util.py:283\u001b[0m, in \u001b[0;36mretry_on_signal\u001b[1;34m(function)\u001b[0m\n\u001b[0;32m    281\u001b[0m \u001b[39mwhile\u001b[39;00m \u001b[39mTrue\u001b[39;00m:\n\u001b[0;32m    282\u001b[0m     \u001b[39mtry\u001b[39;00m:\n\u001b[1;32m--> 283\u001b[0m         \u001b[39mreturn\u001b[39;00m function()\n\u001b[0;32m    284\u001b[0m     \u001b[39mexcept\u001b[39;00m \u001b[39mEnvironmentError\u001b[39;00m \u001b[39mas\u001b[39;00m e:\n\u001b[0;32m    285\u001b[0m         \u001b[39mif\u001b[39;00m e\u001b[39m.\u001b[39merrno \u001b[39m!=\u001b[39m errno\u001b[39m.\u001b[39mEINTR:\n",
      "File \u001b[1;32mf:\\miniconda\\envs\\data_analysis\\lib\\site-packages\\paramiko\\client.py:349\u001b[0m, in \u001b[0;36mSSHClient.connect.<locals>.<lambda>\u001b[1;34m()\u001b[0m\n\u001b[0;32m    347\u001b[0m     \u001b[39mexcept\u001b[39;00m:\n\u001b[0;32m    348\u001b[0m         \u001b[39mpass\u001b[39;00m\n\u001b[1;32m--> 349\u001b[0m retry_on_signal(\u001b[39mlambda\u001b[39;00m: sock\u001b[39m.\u001b[39;49mconnect(addr))\n\u001b[0;32m    350\u001b[0m \u001b[39m# Break out of the loop on success\u001b[39;00m\n\u001b[0;32m    351\u001b[0m \u001b[39mbreak\u001b[39;00m\n",
      "\u001b[1;31mTimeoutError\u001b[0m: [WinError 10060] 由于连接方在一段时间后没有正确答复或连接的主机没有反应，连接尝试失败。"
     ]
    }
   ],
   "source": [
    "ssh_client_con()\n",
    "sftp_client_con()"
   ]
  },
  {
   "cell_type": "code",
   "execution_count": 20,
   "metadata": {},
   "outputs": [
    {
     "ename": "TimeoutError",
     "evalue": "[WinError 10060] 由于连接方在一段时间后没有正确答复或连接的主机没有反应，连接尝试失败。",
     "output_type": "error",
     "traceback": [
      "\u001b[1;31m---------------------------------------------------------------------------\u001b[0m",
      "\u001b[1;31mTimeoutError\u001b[0m                              Traceback (most recent call last)",
      "\u001b[1;32mh:\\file_extractor&uploader.ipynb Cell 12\u001b[0m in \u001b[0;36m<cell line: 11>\u001b[1;34m()\u001b[0m\n\u001b[0;32m      <a href='vscode-notebook-cell:/h%3A/file_extractor%26uploader.ipynb#X14sZmlsZQ%3D%3D?line=7'>8</a>\u001b[0m ssh_client\u001b[39m.\u001b[39mset_missing_host_key_policy(paramiko\u001b[39m.\u001b[39mAutoAddPolicy)\n\u001b[0;32m     <a href='vscode-notebook-cell:/h%3A/file_extractor%26uploader.ipynb#X14sZmlsZQ%3D%3D?line=9'>10</a>\u001b[0m \u001b[39m# 2 连接服务器\u001b[39;00m\n\u001b[1;32m---> <a href='vscode-notebook-cell:/h%3A/file_extractor%26uploader.ipynb#X14sZmlsZQ%3D%3D?line=10'>11</a>\u001b[0m ssh_client\u001b[39m.\u001b[39;49mconnect(\n\u001b[0;32m     <a href='vscode-notebook-cell:/h%3A/file_extractor%26uploader.ipynb#X14sZmlsZQ%3D%3D?line=11'>12</a>\u001b[0m     port\u001b[39m=\u001b[39;49mhost_port,\n\u001b[0;32m     <a href='vscode-notebook-cell:/h%3A/file_extractor%26uploader.ipynb#X14sZmlsZQ%3D%3D?line=12'>13</a>\u001b[0m     hostname\u001b[39m=\u001b[39;49mhostname,\n\u001b[0;32m     <a href='vscode-notebook-cell:/h%3A/file_extractor%26uploader.ipynb#X14sZmlsZQ%3D%3D?line=13'>14</a>\u001b[0m     username\u001b[39m=\u001b[39;49musername,\n\u001b[0;32m     <a href='vscode-notebook-cell:/h%3A/file_extractor%26uploader.ipynb#X14sZmlsZQ%3D%3D?line=14'>15</a>\u001b[0m     password\u001b[39m=\u001b[39;49mpassword\n\u001b[0;32m     <a href='vscode-notebook-cell:/h%3A/file_extractor%26uploader.ipynb#X14sZmlsZQ%3D%3D?line=15'>16</a>\u001b[0m )\n",
      "File \u001b[1;32mf:\\miniconda\\envs\\data_analysis\\lib\\site-packages\\paramiko\\client.py:349\u001b[0m, in \u001b[0;36mSSHClient.connect\u001b[1;34m(self, hostname, port, username, password, pkey, key_filename, timeout, allow_agent, look_for_keys, compress, sock, gss_auth, gss_kex, gss_deleg_creds, gss_host, banner_timeout, auth_timeout, gss_trust_dns, passphrase, disabled_algorithms)\u001b[0m\n\u001b[0;32m    347\u001b[0m     \u001b[39mexcept\u001b[39;00m:\n\u001b[0;32m    348\u001b[0m         \u001b[39mpass\u001b[39;00m\n\u001b[1;32m--> 349\u001b[0m retry_on_signal(\u001b[39mlambda\u001b[39;49;00m: sock\u001b[39m.\u001b[39;49mconnect(addr))\n\u001b[0;32m    350\u001b[0m \u001b[39m# Break out of the loop on success\u001b[39;00m\n\u001b[0;32m    351\u001b[0m \u001b[39mbreak\u001b[39;00m\n",
      "File \u001b[1;32mf:\\miniconda\\envs\\data_analysis\\lib\\site-packages\\paramiko\\util.py:283\u001b[0m, in \u001b[0;36mretry_on_signal\u001b[1;34m(function)\u001b[0m\n\u001b[0;32m    281\u001b[0m \u001b[39mwhile\u001b[39;00m \u001b[39mTrue\u001b[39;00m:\n\u001b[0;32m    282\u001b[0m     \u001b[39mtry\u001b[39;00m:\n\u001b[1;32m--> 283\u001b[0m         \u001b[39mreturn\u001b[39;00m function()\n\u001b[0;32m    284\u001b[0m     \u001b[39mexcept\u001b[39;00m \u001b[39mEnvironmentError\u001b[39;00m \u001b[39mas\u001b[39;00m e:\n\u001b[0;32m    285\u001b[0m         \u001b[39mif\u001b[39;00m e\u001b[39m.\u001b[39merrno \u001b[39m!=\u001b[39m errno\u001b[39m.\u001b[39mEINTR:\n",
      "File \u001b[1;32mf:\\miniconda\\envs\\data_analysis\\lib\\site-packages\\paramiko\\client.py:349\u001b[0m, in \u001b[0;36mSSHClient.connect.<locals>.<lambda>\u001b[1;34m()\u001b[0m\n\u001b[0;32m    347\u001b[0m     \u001b[39mexcept\u001b[39;00m:\n\u001b[0;32m    348\u001b[0m         \u001b[39mpass\u001b[39;00m\n\u001b[1;32m--> 349\u001b[0m retry_on_signal(\u001b[39mlambda\u001b[39;00m: sock\u001b[39m.\u001b[39;49mconnect(addr))\n\u001b[0;32m    350\u001b[0m \u001b[39m# Break out of the loop on success\u001b[39;00m\n\u001b[0;32m    351\u001b[0m \u001b[39mbreak\u001b[39;00m\n",
      "\u001b[1;31mTimeoutError\u001b[0m: [WinError 10060] 由于连接方在一段时间后没有正确答复或连接的主机没有反应，连接尝试失败。"
     ]
    }
   ],
   "source": [
    "hostname = '192.168.0.200'\n",
    "host_port = 22\n",
    "username = 'wangyh'\n",
    "password = 'WangYingHan01~'\n",
    "# 1 创建ssh_client实例\n",
    "ssh_client = paramiko.SSHClient()\n",
    "# 自动处理第一次连接的yes或者no的问题\n",
    "ssh_client.set_missing_host_key_policy(paramiko.AutoAddPolicy)\n",
    "\n",
    "# 2 连接服务器\n",
    "ssh_client.connect(\n",
    "    port=host_port,\n",
    "    hostname=hostname,\n",
    "    username=username,\n",
    "    password=password\n",
    ")"
   ]
  }
 ],
 "metadata": {
  "kernelspec": {
   "display_name": "Python 3 (ipykernel)",
   "language": "python",
   "name": "python3"
  },
  "language_info": {
   "codemirror_mode": {
    "name": "ipython",
    "version": 3
   },
   "file_extension": ".py",
   "mimetype": "text/x-python",
   "name": "python",
   "nbconvert_exporter": "python",
   "pygments_lexer": "ipython3",
   "version": "3.8.10"
  },
  "vscode": {
   "interpreter": {
    "hash": "be7f9b939c4b0d6646bd6e1fd5ac0b5ac685cf95a2b904b517e96a6e9af6dfd3"
   }
  }
 },
 "nbformat": 4,
 "nbformat_minor": 4
}
